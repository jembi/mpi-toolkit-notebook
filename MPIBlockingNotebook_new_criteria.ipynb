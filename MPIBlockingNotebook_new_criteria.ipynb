{
  "nbformat": 4,
  "nbformat_minor": 0,
  "metadata": {
    "colab": {
      "name": "MPIBlockingNotebook - new criteria.ipynb",
      "provenance": [],
      "collapsed_sections": [],
      "include_colab_link": true
    },
    "kernelspec": {
      "name": "python3",
      "display_name": "Python 3"
    },
    "language_info": {
      "name": "python"
    },
    "widgets": {
      "application/vnd.jupyter.widget-state+json": {
        "c994b883a44e484982012a0ae5d9276e": {
          "model_module": "@jupyter-widgets/controls",
          "model_name": "VBoxModel",
          "state": {
            "_view_name": "VBoxView",
            "_dom_classes": [],
            "_model_name": "VBoxModel",
            "_view_module": "@jupyter-widgets/controls",
            "_model_module_version": "1.5.0",
            "_view_count": null,
            "_view_module_version": "1.5.0",
            "box_style": "",
            "layout": "IPY_MODEL_94f1d13064c742f0b30664d8a238ca8e",
            "_model_module": "@jupyter-widgets/controls",
            "children": [
              "IPY_MODEL_8ac81e1674f6476d8f7b124a23589d04",
              "IPY_MODEL_716d279d480e473889e762684d692c6b"
            ]
          }
        },
        "94f1d13064c742f0b30664d8a238ca8e": {
          "model_module": "@jupyter-widgets/base",
          "model_name": "LayoutModel",
          "state": {
            "_view_name": "LayoutView",
            "grid_template_rows": null,
            "right": null,
            "justify_content": null,
            "_view_module": "@jupyter-widgets/base",
            "overflow": null,
            "_model_module_version": "1.2.0",
            "_view_count": null,
            "flex_flow": null,
            "width": null,
            "min_width": null,
            "border": null,
            "align_items": null,
            "bottom": null,
            "_model_module": "@jupyter-widgets/base",
            "top": null,
            "grid_column": null,
            "overflow_y": null,
            "overflow_x": null,
            "grid_auto_flow": null,
            "grid_area": null,
            "grid_template_columns": null,
            "flex": null,
            "_model_name": "LayoutModel",
            "justify_items": null,
            "grid_row": null,
            "max_height": null,
            "align_content": null,
            "visibility": null,
            "align_self": null,
            "height": null,
            "min_height": null,
            "padding": null,
            "grid_auto_rows": null,
            "grid_gap": null,
            "max_width": null,
            "order": null,
            "_view_module_version": "1.2.0",
            "grid_template_areas": null,
            "object_position": null,
            "object_fit": null,
            "grid_auto_columns": null,
            "margin": null,
            "display": null,
            "left": null
          }
        },
        "8ac81e1674f6476d8f7b124a23589d04": {
          "model_module": "@jupyter-widgets/controls",
          "model_name": "HBoxModel",
          "state": {
            "_view_name": "HBoxView",
            "_dom_classes": [],
            "_model_name": "HBoxModel",
            "_view_module": "@jupyter-widgets/controls",
            "_model_module_version": "1.5.0",
            "_view_count": null,
            "_view_module_version": "1.5.0",
            "box_style": "",
            "layout": "IPY_MODEL_13a1a2ea59be41f1b7b8933c609c1ac9",
            "_model_module": "@jupyter-widgets/controls",
            "children": [
              "IPY_MODEL_8d96a587923c4d1588b83e6a36e6c052",
              "IPY_MODEL_09a432237c194855ba469fd37cf51309",
              "IPY_MODEL_378a0ad20bc54e59b71131df660039d6"
            ]
          }
        },
        "716d279d480e473889e762684d692c6b": {
          "model_module": "@jupyter-widgets/controls",
          "model_name": "HBoxModel",
          "state": {
            "_view_name": "HBoxView",
            "_dom_classes": [],
            "_model_name": "HBoxModel",
            "_view_module": "@jupyter-widgets/controls",
            "_model_module_version": "1.5.0",
            "_view_count": null,
            "_view_module_version": "1.5.0",
            "box_style": "",
            "layout": "IPY_MODEL_dc17bb6eb8664c098cd015f048339a57",
            "_model_module": "@jupyter-widgets/controls",
            "children": [
              "IPY_MODEL_f2ff61ec43cd48849f9f6040b72e5532",
              "IPY_MODEL_c6b801b9940d4766a34ade9a8690634b",
              "IPY_MODEL_0653fd7a5bf047408c52005e3ae18dc6"
            ]
          }
        },
        "13a1a2ea59be41f1b7b8933c609c1ac9": {
          "model_module": "@jupyter-widgets/base",
          "model_name": "LayoutModel",
          "state": {
            "_view_name": "LayoutView",
            "grid_template_rows": null,
            "right": null,
            "justify_content": null,
            "_view_module": "@jupyter-widgets/base",
            "overflow": null,
            "_model_module_version": "1.2.0",
            "_view_count": null,
            "flex_flow": null,
            "width": null,
            "min_width": null,
            "border": null,
            "align_items": null,
            "bottom": null,
            "_model_module": "@jupyter-widgets/base",
            "top": null,
            "grid_column": null,
            "overflow_y": null,
            "overflow_x": null,
            "grid_auto_flow": null,
            "grid_area": null,
            "grid_template_columns": null,
            "flex": null,
            "_model_name": "LayoutModel",
            "justify_items": null,
            "grid_row": null,
            "max_height": null,
            "align_content": null,
            "visibility": null,
            "align_self": null,
            "height": null,
            "min_height": null,
            "padding": null,
            "grid_auto_rows": null,
            "grid_gap": null,
            "max_width": null,
            "order": null,
            "_view_module_version": "1.2.0",
            "grid_template_areas": null,
            "object_position": null,
            "object_fit": null,
            "grid_auto_columns": null,
            "margin": null,
            "display": null,
            "left": null
          }
        },
        "8d96a587923c4d1588b83e6a36e6c052": {
          "model_module": "@jupyter-widgets/controls",
          "model_name": "DropdownModel",
          "state": {
            "_options_labels": [
              "None",
              "hivCaseReportNumber",
              "name",
              "fathersName",
              "fathersFatherName",
              "mothersName",
              "mothersFatherName",
              "gender",
              "dob",
              "district",
              "town",
              "PhoneNumber"
            ],
            "_view_name": "DropdownView",
            "style": "IPY_MODEL_05e44e3ca6c244d5aa27543888e9cf5a",
            "_dom_classes": [],
            "description": "Columns: ",
            "_model_name": "DropdownModel",
            "index": 0,
            "_view_module": "@jupyter-widgets/controls",
            "_model_module_version": "1.5.0",
            "_view_count": null,
            "disabled": false,
            "_view_module_version": "1.5.0",
            "description_tooltip": null,
            "_model_module": "@jupyter-widgets/controls",
            "layout": "IPY_MODEL_094f4d38a87e4d2393047b3b3f28da16"
          }
        },
        "09a432237c194855ba469fd37cf51309": {
          "model_module": "@jupyter-widgets/controls",
          "model_name": "DropdownModel",
          "state": {
            "_options_labels": [
              "None",
              "Exact Match",
              "Jaro-Winkler Similarity",
              "Levenshtein Edit Distance",
              "Damerau-Levenshtein Edit Distance",
              "Jaccard Similarity",
              "SoundEx",
              "Metaphone",
              "Double Metaphone"
            ],
            "_view_name": "DropdownView",
            "style": "IPY_MODEL_e0c9a84888eb4c43a7fad608bb020841",
            "_dom_classes": [],
            "description": "Algorithms: ",
            "_model_name": "DropdownModel",
            "index": 0,
            "_view_module": "@jupyter-widgets/controls",
            "_model_module_version": "1.5.0",
            "_view_count": null,
            "disabled": true,
            "_view_module_version": "1.5.0",
            "description_tooltip": null,
            "_model_module": "@jupyter-widgets/controls",
            "layout": "IPY_MODEL_467d3b5b2338405c8b2869de0aca51fb"
          }
        },
        "378a0ad20bc54e59b71131df660039d6": {
          "model_module": "@jupyter-widgets/controls",
          "model_name": "FloatSliderModel",
          "state": {
            "_view_name": "FloatSliderView",
            "style": "IPY_MODEL_805cb438eb5c4ae3ad9ffd454a3a4f6e",
            "_dom_classes": [],
            "description": "Level: ",
            "step": 1,
            "_model_name": "FloatSliderModel",
            "orientation": "horizontal",
            "max": 5,
            "_view_module": "@jupyter-widgets/controls",
            "_model_module_version": "1.5.0",
            "value": 0,
            "_view_count": null,
            "disabled": true,
            "_view_module_version": "1.5.0",
            "min": 0,
            "continuous_update": true,
            "readout_format": ".2f",
            "description_tooltip": null,
            "readout": true,
            "_model_module": "@jupyter-widgets/controls",
            "layout": "IPY_MODEL_ddd55d3693d94839b7a7fa741eec6f3d"
          }
        },
        "dc17bb6eb8664c098cd015f048339a57": {
          "model_module": "@jupyter-widgets/base",
          "model_name": "LayoutModel",
          "state": {
            "_view_name": "LayoutView",
            "grid_template_rows": null,
            "right": null,
            "justify_content": null,
            "_view_module": "@jupyter-widgets/base",
            "overflow": null,
            "_model_module_version": "1.2.0",
            "_view_count": null,
            "flex_flow": null,
            "width": null,
            "min_width": null,
            "border": null,
            "align_items": null,
            "bottom": null,
            "_model_module": "@jupyter-widgets/base",
            "top": null,
            "grid_column": null,
            "overflow_y": null,
            "overflow_x": null,
            "grid_auto_flow": null,
            "grid_area": null,
            "grid_template_columns": null,
            "flex": null,
            "_model_name": "LayoutModel",
            "justify_items": null,
            "grid_row": null,
            "max_height": null,
            "align_content": null,
            "visibility": null,
            "align_self": null,
            "height": null,
            "min_height": null,
            "padding": null,
            "grid_auto_rows": null,
            "grid_gap": null,
            "max_width": null,
            "order": null,
            "_view_module_version": "1.2.0",
            "grid_template_areas": null,
            "object_position": null,
            "object_fit": null,
            "grid_auto_columns": null,
            "margin": null,
            "display": null,
            "left": null
          }
        },
        "f2ff61ec43cd48849f9f6040b72e5532": {
          "model_module": "@jupyter-widgets/controls",
          "model_name": "ButtonModel",
          "state": {
            "_view_name": "ButtonView",
            "style": "IPY_MODEL_2d2abbf2f130415dab3e959f8f226f03",
            "_dom_classes": [],
            "description": "Intersection",
            "_model_name": "ButtonModel",
            "button_style": "",
            "_view_module": "@jupyter-widgets/controls",
            "_model_module_version": "1.5.0",
            "tooltip": "",
            "_view_count": null,
            "disabled": false,
            "_view_module_version": "1.5.0",
            "layout": "IPY_MODEL_3e42279ea3fb4eb294a20fd8d5fc5850",
            "_model_module": "@jupyter-widgets/controls",
            "icon": ""
          }
        },
        "c6b801b9940d4766a34ade9a8690634b": {
          "model_module": "@jupyter-widgets/controls",
          "model_name": "ButtonModel",
          "state": {
            "_view_name": "ButtonView",
            "style": "IPY_MODEL_86857966b4e0430797bede9802300140",
            "_dom_classes": [],
            "description": "Union",
            "_model_name": "ButtonModel",
            "button_style": "",
            "_view_module": "@jupyter-widgets/controls",
            "_model_module_version": "1.5.0",
            "tooltip": "",
            "_view_count": null,
            "disabled": true,
            "_view_module_version": "1.5.0",
            "layout": "IPY_MODEL_5b2b0c8fd55f4875b284c4a669e4d153",
            "_model_module": "@jupyter-widgets/controls",
            "icon": ""
          }
        },
        "0653fd7a5bf047408c52005e3ae18dc6": {
          "model_module": "@jupyter-widgets/controls",
          "model_name": "ButtonModel",
          "state": {
            "_view_name": "ButtonView",
            "style": "IPY_MODEL_4e03860754344cdea123510a87ed2aec",
            "_dom_classes": [],
            "description": "Reset",
            "_model_name": "ButtonModel",
            "button_style": "",
            "_view_module": "@jupyter-widgets/controls",
            "_model_module_version": "1.5.0",
            "tooltip": "",
            "_view_count": null,
            "disabled": false,
            "_view_module_version": "1.5.0",
            "layout": "IPY_MODEL_489d1ca68b344bba9b5a60353d9c2727",
            "_model_module": "@jupyter-widgets/controls",
            "icon": ""
          }
        },
        "05e44e3ca6c244d5aa27543888e9cf5a": {
          "model_module": "@jupyter-widgets/controls",
          "model_name": "DescriptionStyleModel",
          "state": {
            "_view_name": "StyleView",
            "_model_name": "DescriptionStyleModel",
            "description_width": "",
            "_view_module": "@jupyter-widgets/base",
            "_model_module_version": "1.5.0",
            "_view_count": null,
            "_view_module_version": "1.2.0",
            "_model_module": "@jupyter-widgets/controls"
          }
        },
        "094f4d38a87e4d2393047b3b3f28da16": {
          "model_module": "@jupyter-widgets/base",
          "model_name": "LayoutModel",
          "state": {
            "_view_name": "LayoutView",
            "grid_template_rows": null,
            "right": null,
            "justify_content": null,
            "_view_module": "@jupyter-widgets/base",
            "overflow": null,
            "_model_module_version": "1.2.0",
            "_view_count": null,
            "flex_flow": null,
            "width": null,
            "min_width": null,
            "border": null,
            "align_items": null,
            "bottom": null,
            "_model_module": "@jupyter-widgets/base",
            "top": null,
            "grid_column": null,
            "overflow_y": null,
            "overflow_x": null,
            "grid_auto_flow": null,
            "grid_area": null,
            "grid_template_columns": null,
            "flex": null,
            "_model_name": "LayoutModel",
            "justify_items": null,
            "grid_row": null,
            "max_height": null,
            "align_content": null,
            "visibility": null,
            "align_self": null,
            "height": null,
            "min_height": null,
            "padding": null,
            "grid_auto_rows": null,
            "grid_gap": null,
            "max_width": null,
            "order": null,
            "_view_module_version": "1.2.0",
            "grid_template_areas": null,
            "object_position": null,
            "object_fit": null,
            "grid_auto_columns": null,
            "margin": null,
            "display": null,
            "left": null
          }
        },
        "e0c9a84888eb4c43a7fad608bb020841": {
          "model_module": "@jupyter-widgets/controls",
          "model_name": "DescriptionStyleModel",
          "state": {
            "_view_name": "StyleView",
            "_model_name": "DescriptionStyleModel",
            "description_width": "",
            "_view_module": "@jupyter-widgets/base",
            "_model_module_version": "1.5.0",
            "_view_count": null,
            "_view_module_version": "1.2.0",
            "_model_module": "@jupyter-widgets/controls"
          }
        },
        "467d3b5b2338405c8b2869de0aca51fb": {
          "model_module": "@jupyter-widgets/base",
          "model_name": "LayoutModel",
          "state": {
            "_view_name": "LayoutView",
            "grid_template_rows": null,
            "right": null,
            "justify_content": null,
            "_view_module": "@jupyter-widgets/base",
            "overflow": null,
            "_model_module_version": "1.2.0",
            "_view_count": null,
            "flex_flow": null,
            "width": null,
            "min_width": null,
            "border": null,
            "align_items": null,
            "bottom": null,
            "_model_module": "@jupyter-widgets/base",
            "top": null,
            "grid_column": null,
            "overflow_y": null,
            "overflow_x": null,
            "grid_auto_flow": null,
            "grid_area": null,
            "grid_template_columns": null,
            "flex": null,
            "_model_name": "LayoutModel",
            "justify_items": null,
            "grid_row": null,
            "max_height": null,
            "align_content": null,
            "visibility": null,
            "align_self": null,
            "height": null,
            "min_height": null,
            "padding": null,
            "grid_auto_rows": null,
            "grid_gap": null,
            "max_width": null,
            "order": null,
            "_view_module_version": "1.2.0",
            "grid_template_areas": null,
            "object_position": null,
            "object_fit": null,
            "grid_auto_columns": null,
            "margin": null,
            "display": null,
            "left": null
          }
        },
        "805cb438eb5c4ae3ad9ffd454a3a4f6e": {
          "model_module": "@jupyter-widgets/controls",
          "model_name": "SliderStyleModel",
          "state": {
            "_view_name": "StyleView",
            "handle_color": null,
            "_model_name": "SliderStyleModel",
            "description_width": "",
            "_view_module": "@jupyter-widgets/base",
            "_model_module_version": "1.5.0",
            "_view_count": null,
            "_view_module_version": "1.2.0",
            "_model_module": "@jupyter-widgets/controls"
          }
        },
        "ddd55d3693d94839b7a7fa741eec6f3d": {
          "model_module": "@jupyter-widgets/base",
          "model_name": "LayoutModel",
          "state": {
            "_view_name": "LayoutView",
            "grid_template_rows": null,
            "right": null,
            "justify_content": null,
            "_view_module": "@jupyter-widgets/base",
            "overflow": null,
            "_model_module_version": "1.2.0",
            "_view_count": null,
            "flex_flow": null,
            "width": null,
            "min_width": null,
            "border": null,
            "align_items": null,
            "bottom": null,
            "_model_module": "@jupyter-widgets/base",
            "top": null,
            "grid_column": null,
            "overflow_y": null,
            "overflow_x": null,
            "grid_auto_flow": null,
            "grid_area": null,
            "grid_template_columns": null,
            "flex": null,
            "_model_name": "LayoutModel",
            "justify_items": null,
            "grid_row": null,
            "max_height": null,
            "align_content": null,
            "visibility": null,
            "align_self": null,
            "height": null,
            "min_height": null,
            "padding": null,
            "grid_auto_rows": null,
            "grid_gap": null,
            "max_width": null,
            "order": null,
            "_view_module_version": "1.2.0",
            "grid_template_areas": null,
            "object_position": null,
            "object_fit": null,
            "grid_auto_columns": null,
            "margin": null,
            "display": null,
            "left": null
          }
        },
        "2d2abbf2f130415dab3e959f8f226f03": {
          "model_module": "@jupyter-widgets/controls",
          "model_name": "ButtonStyleModel",
          "state": {
            "_view_name": "StyleView",
            "_model_name": "ButtonStyleModel",
            "_view_module": "@jupyter-widgets/base",
            "_model_module_version": "1.5.0",
            "_view_count": null,
            "button_color": null,
            "font_weight": "",
            "_view_module_version": "1.2.0",
            "_model_module": "@jupyter-widgets/controls"
          }
        },
        "3e42279ea3fb4eb294a20fd8d5fc5850": {
          "model_module": "@jupyter-widgets/base",
          "model_name": "LayoutModel",
          "state": {
            "_view_name": "LayoutView",
            "grid_template_rows": null,
            "right": null,
            "justify_content": null,
            "_view_module": "@jupyter-widgets/base",
            "overflow": null,
            "_model_module_version": "1.2.0",
            "_view_count": null,
            "flex_flow": null,
            "width": null,
            "min_width": null,
            "border": null,
            "align_items": null,
            "bottom": null,
            "_model_module": "@jupyter-widgets/base",
            "top": null,
            "grid_column": null,
            "overflow_y": null,
            "overflow_x": null,
            "grid_auto_flow": null,
            "grid_area": null,
            "grid_template_columns": null,
            "flex": null,
            "_model_name": "LayoutModel",
            "justify_items": null,
            "grid_row": null,
            "max_height": null,
            "align_content": null,
            "visibility": null,
            "align_self": null,
            "height": null,
            "min_height": null,
            "padding": null,
            "grid_auto_rows": null,
            "grid_gap": null,
            "max_width": null,
            "order": null,
            "_view_module_version": "1.2.0",
            "grid_template_areas": null,
            "object_position": null,
            "object_fit": null,
            "grid_auto_columns": null,
            "margin": null,
            "display": null,
            "left": null
          }
        },
        "86857966b4e0430797bede9802300140": {
          "model_module": "@jupyter-widgets/controls",
          "model_name": "ButtonStyleModel",
          "state": {
            "_view_name": "StyleView",
            "_model_name": "ButtonStyleModel",
            "_view_module": "@jupyter-widgets/base",
            "_model_module_version": "1.5.0",
            "_view_count": null,
            "button_color": null,
            "font_weight": "",
            "_view_module_version": "1.2.0",
            "_model_module": "@jupyter-widgets/controls"
          }
        },
        "5b2b0c8fd55f4875b284c4a669e4d153": {
          "model_module": "@jupyter-widgets/base",
          "model_name": "LayoutModel",
          "state": {
            "_view_name": "LayoutView",
            "grid_template_rows": null,
            "right": null,
            "justify_content": null,
            "_view_module": "@jupyter-widgets/base",
            "overflow": null,
            "_model_module_version": "1.2.0",
            "_view_count": null,
            "flex_flow": null,
            "width": null,
            "min_width": null,
            "border": null,
            "align_items": null,
            "bottom": null,
            "_model_module": "@jupyter-widgets/base",
            "top": null,
            "grid_column": null,
            "overflow_y": null,
            "overflow_x": null,
            "grid_auto_flow": null,
            "grid_area": null,
            "grid_template_columns": null,
            "flex": null,
            "_model_name": "LayoutModel",
            "justify_items": null,
            "grid_row": null,
            "max_height": null,
            "align_content": null,
            "visibility": null,
            "align_self": null,
            "height": null,
            "min_height": null,
            "padding": null,
            "grid_auto_rows": null,
            "grid_gap": null,
            "max_width": null,
            "order": null,
            "_view_module_version": "1.2.0",
            "grid_template_areas": null,
            "object_position": null,
            "object_fit": null,
            "grid_auto_columns": null,
            "margin": null,
            "display": null,
            "left": null
          }
        },
        "4e03860754344cdea123510a87ed2aec": {
          "model_module": "@jupyter-widgets/controls",
          "model_name": "ButtonStyleModel",
          "state": {
            "_view_name": "StyleView",
            "_model_name": "ButtonStyleModel",
            "_view_module": "@jupyter-widgets/base",
            "_model_module_version": "1.5.0",
            "_view_count": null,
            "button_color": null,
            "font_weight": "",
            "_view_module_version": "1.2.0",
            "_model_module": "@jupyter-widgets/controls"
          }
        },
        "489d1ca68b344bba9b5a60353d9c2727": {
          "model_module": "@jupyter-widgets/base",
          "model_name": "LayoutModel",
          "state": {
            "_view_name": "LayoutView",
            "grid_template_rows": null,
            "right": null,
            "justify_content": null,
            "_view_module": "@jupyter-widgets/base",
            "overflow": null,
            "_model_module_version": "1.2.0",
            "_view_count": null,
            "flex_flow": null,
            "width": null,
            "min_width": null,
            "border": null,
            "align_items": null,
            "bottom": null,
            "_model_module": "@jupyter-widgets/base",
            "top": null,
            "grid_column": null,
            "overflow_y": null,
            "overflow_x": null,
            "grid_auto_flow": null,
            "grid_area": null,
            "grid_template_columns": null,
            "flex": null,
            "_model_name": "LayoutModel",
            "justify_items": null,
            "grid_row": null,
            "max_height": null,
            "align_content": null,
            "visibility": null,
            "align_self": null,
            "height": null,
            "min_height": null,
            "padding": null,
            "grid_auto_rows": null,
            "grid_gap": null,
            "max_width": null,
            "order": null,
            "_view_module_version": "1.2.0",
            "grid_template_areas": null,
            "object_position": null,
            "object_fit": null,
            "grid_auto_columns": null,
            "margin": null,
            "display": null,
            "left": null
          }
        },
        "82727cf5e112497cbcb041c0636137b3": {
          "model_module": "@jupyter-widgets/controls",
          "model_name": "HBoxModel",
          "state": {
            "_view_name": "HBoxView",
            "_dom_classes": [],
            "_model_name": "HBoxModel",
            "_view_module": "@jupyter-widgets/controls",
            "_model_module_version": "1.5.0",
            "_view_count": null,
            "_view_module_version": "1.5.0",
            "box_style": "",
            "layout": "IPY_MODEL_647b61be72644b13b79a61aa2fd38600",
            "_model_module": "@jupyter-widgets/controls",
            "children": [
              "IPY_MODEL_82979bc3a764496c860f5e1ed669e228",
              "IPY_MODEL_cd8f7b89913c4ceaa066b7fca792b9fb"
            ]
          }
        },
        "647b61be72644b13b79a61aa2fd38600": {
          "model_module": "@jupyter-widgets/base",
          "model_name": "LayoutModel",
          "state": {
            "_view_name": "LayoutView",
            "grid_template_rows": null,
            "right": null,
            "justify_content": null,
            "_view_module": "@jupyter-widgets/base",
            "overflow": null,
            "_model_module_version": "1.2.0",
            "_view_count": null,
            "flex_flow": null,
            "width": null,
            "min_width": null,
            "border": null,
            "align_items": null,
            "bottom": null,
            "_model_module": "@jupyter-widgets/base",
            "top": null,
            "grid_column": null,
            "overflow_y": null,
            "overflow_x": null,
            "grid_auto_flow": null,
            "grid_area": null,
            "grid_template_columns": null,
            "flex": null,
            "_model_name": "LayoutModel",
            "justify_items": null,
            "grid_row": null,
            "max_height": null,
            "align_content": null,
            "visibility": null,
            "align_self": null,
            "height": null,
            "min_height": null,
            "padding": null,
            "grid_auto_rows": null,
            "grid_gap": null,
            "max_width": null,
            "order": null,
            "_view_module_version": "1.2.0",
            "grid_template_areas": null,
            "object_position": null,
            "object_fit": null,
            "grid_auto_columns": null,
            "margin": null,
            "display": null,
            "left": null
          }
        },
        "82979bc3a764496c860f5e1ed669e228": {
          "model_module": "@jupyter-widgets/controls",
          "model_name": "FloatProgressModel",
          "state": {
            "_view_name": "ProgressView",
            "style": "IPY_MODEL_2c917dee917f43bcb173b12422f14940",
            "_dom_classes": [],
            "description": "100%",
            "_model_name": "FloatProgressModel",
            "bar_style": "success",
            "max": 1500,
            "_view_module": "@jupyter-widgets/controls",
            "_model_module_version": "1.5.0",
            "value": 1500,
            "_view_count": null,
            "_view_module_version": "1.5.0",
            "orientation": "horizontal",
            "min": 0,
            "description_tooltip": null,
            "_model_module": "@jupyter-widgets/controls",
            "layout": "IPY_MODEL_84b42d170b2e4de3b67b6d4024128234"
          }
        },
        "cd8f7b89913c4ceaa066b7fca792b9fb": {
          "model_module": "@jupyter-widgets/controls",
          "model_name": "HTMLModel",
          "state": {
            "_view_name": "HTMLView",
            "style": "IPY_MODEL_d1c566f34c6a4cb0b3303a08dffa2cd7",
            "_dom_classes": [],
            "description": "",
            "_model_name": "HTMLModel",
            "placeholder": "​",
            "_view_module": "@jupyter-widgets/controls",
            "_model_module_version": "1.5.0",
            "value": " 1500/1500 [00:36&lt;00:00, 41.15it/s]",
            "_view_count": null,
            "_view_module_version": "1.5.0",
            "description_tooltip": null,
            "_model_module": "@jupyter-widgets/controls",
            "layout": "IPY_MODEL_b3b7593214a9408f883792e3c1c4e94a"
          }
        },
        "2c917dee917f43bcb173b12422f14940": {
          "model_module": "@jupyter-widgets/controls",
          "model_name": "ProgressStyleModel",
          "state": {
            "_view_name": "StyleView",
            "_model_name": "ProgressStyleModel",
            "description_width": "initial",
            "_view_module": "@jupyter-widgets/base",
            "_model_module_version": "1.5.0",
            "_view_count": null,
            "_view_module_version": "1.2.0",
            "bar_color": null,
            "_model_module": "@jupyter-widgets/controls"
          }
        },
        "84b42d170b2e4de3b67b6d4024128234": {
          "model_module": "@jupyter-widgets/base",
          "model_name": "LayoutModel",
          "state": {
            "_view_name": "LayoutView",
            "grid_template_rows": null,
            "right": null,
            "justify_content": null,
            "_view_module": "@jupyter-widgets/base",
            "overflow": null,
            "_model_module_version": "1.2.0",
            "_view_count": null,
            "flex_flow": null,
            "width": null,
            "min_width": null,
            "border": null,
            "align_items": null,
            "bottom": null,
            "_model_module": "@jupyter-widgets/base",
            "top": null,
            "grid_column": null,
            "overflow_y": null,
            "overflow_x": null,
            "grid_auto_flow": null,
            "grid_area": null,
            "grid_template_columns": null,
            "flex": null,
            "_model_name": "LayoutModel",
            "justify_items": null,
            "grid_row": null,
            "max_height": null,
            "align_content": null,
            "visibility": null,
            "align_self": null,
            "height": null,
            "min_height": null,
            "padding": null,
            "grid_auto_rows": null,
            "grid_gap": null,
            "max_width": null,
            "order": null,
            "_view_module_version": "1.2.0",
            "grid_template_areas": null,
            "object_position": null,
            "object_fit": null,
            "grid_auto_columns": null,
            "margin": null,
            "display": null,
            "left": null
          }
        },
        "d1c566f34c6a4cb0b3303a08dffa2cd7": {
          "model_module": "@jupyter-widgets/controls",
          "model_name": "DescriptionStyleModel",
          "state": {
            "_view_name": "StyleView",
            "_model_name": "DescriptionStyleModel",
            "description_width": "",
            "_view_module": "@jupyter-widgets/base",
            "_model_module_version": "1.5.0",
            "_view_count": null,
            "_view_module_version": "1.2.0",
            "_model_module": "@jupyter-widgets/controls"
          }
        },
        "b3b7593214a9408f883792e3c1c4e94a": {
          "model_module": "@jupyter-widgets/base",
          "model_name": "LayoutModel",
          "state": {
            "_view_name": "LayoutView",
            "grid_template_rows": null,
            "right": null,
            "justify_content": null,
            "_view_module": "@jupyter-widgets/base",
            "overflow": null,
            "_model_module_version": "1.2.0",
            "_view_count": null,
            "flex_flow": null,
            "width": null,
            "min_width": null,
            "border": null,
            "align_items": null,
            "bottom": null,
            "_model_module": "@jupyter-widgets/base",
            "top": null,
            "grid_column": null,
            "overflow_y": null,
            "overflow_x": null,
            "grid_auto_flow": null,
            "grid_area": null,
            "grid_template_columns": null,
            "flex": null,
            "_model_name": "LayoutModel",
            "justify_items": null,
            "grid_row": null,
            "max_height": null,
            "align_content": null,
            "visibility": null,
            "align_self": null,
            "height": null,
            "min_height": null,
            "padding": null,
            "grid_auto_rows": null,
            "grid_gap": null,
            "max_width": null,
            "order": null,
            "_view_module_version": "1.2.0",
            "grid_template_areas": null,
            "object_position": null,
            "object_fit": null,
            "grid_auto_columns": null,
            "margin": null,
            "display": null,
            "left": null
          }
        }
      }
    }
  },
  "cells": [
    {
      "cell_type": "markdown",
      "metadata": {
        "id": "view-in-github",
        "colab_type": "text"
      },
      "source": [
        "<a href=\"https://colab.research.google.com/github/jembi/mpi-toolkit-notebook/blob/main/MPIBlockingNotebook_new_criteria.ipynb\" target=\"_parent\"><img src=\"https://colab.research.google.com/assets/colab-badge.svg\" alt=\"Open In Colab\"/></a>"
      ]
    },
    {
      "cell_type": "markdown",
      "metadata": {
        "id": "hmgU1p9Ai6bT"
      },
      "source": [
        "Function to load data to the variable data_frame"
      ]
    },
    {
      "cell_type": "code",
      "metadata": {
        "id": "eG9BPBLlqkpD",
        "colab": {
          "base_uri": "https://localhost:8080/"
        },
        "outputId": "964f8800-efac-4d0e-904d-757728c6f805"
      },
      "source": [
        "#@title Import data file from Google Drive\n",
        "from google.colab import drive\n",
        "\n",
        "drive.mount('/content/drive')\n",
        "\n",
        "file_name = \"data-01000-00500-abcd.csv\" #@param {type:\"string\"}\n",
        "file_directory = \"/content/drive/MyDrive/BlockingNotebook/\" + file_name"
      ],
      "execution_count": 33,
      "outputs": [
        {
          "output_type": "stream",
          "text": [
            "Drive already mounted at /content/drive; to attempt to forcibly remount, call drive.mount(\"/content/drive\", force_remount=True).\n"
          ],
          "name": "stdout"
        }
      ]
    },
    {
      "cell_type": "markdown",
      "metadata": {
        "id": "e-x9R4TrM-GM"
      },
      "source": [
        "Mount the google drive and change the fiel directory to match with your layout"
      ]
    },
    {
      "cell_type": "code",
      "metadata": {
        "cellView": "form",
        "id": "Gl371mkR99Td",
        "colab": {
          "resources": {
            "http://localhost:8080/nbextensions/google.colab/files.js": {
              "data": "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",
              "ok": true,
              "headers": [
                [
                  "content-type",
                  "application/javascript"
                ]
              ],
              "status": 200,
              "status_text": ""
            }
          },
          "base_uri": "https://localhost:8080/",
          "height": 38
        },
        "outputId": "7733a59c-c9b2-456d-f074-297dc6d58ef8"
      },
      "source": [
        "#@title Upload file from local computer\n",
        "from google.colab import files\n",
        "import os\n",
        "\n",
        "files.upload()\n",
        "\n",
        "for file in os.listdir(\"/content\"):\n",
        "    if file.endswith(\".csv\"):\n",
        "        file_directory = \"/content/\" + str(file)"
      ],
      "execution_count": 4,
      "outputs": [
        {
          "output_type": "display_data",
          "data": {
            "text/html": [
              "\n",
              "     <input type=\"file\" id=\"files-92c02d91-d8ca-4b1c-91da-e420272f96eb\" name=\"files[]\" multiple disabled\n",
              "        style=\"border:none\" />\n",
              "     <output id=\"result-92c02d91-d8ca-4b1c-91da-e420272f96eb\">\n",
              "      Upload widget is only available when the cell has been executed in the\n",
              "      current browser session. Please rerun this cell to enable.\n",
              "      </output>\n",
              "      <script src=\"/nbextensions/google.colab/files.js\"></script> "
            ],
            "text/plain": [
              "<IPython.core.display.HTML object>"
            ]
          },
          "metadata": {
            "tags": []
          }
        }
      ]
    },
    {
      "cell_type": "markdown",
      "metadata": {
        "id": "zIsIvq1SNEIk"
      },
      "source": [
        "Manually upload a data file (.csv) to your /content directory.\n",
        "\n",
        "If multiple csv files exist, the first one will be selected"
      ]
    },
    {
      "cell_type": "code",
      "metadata": {
        "id": "CIt1cLhrh4F8",
        "cellView": "form"
      },
      "source": [
        "#@title Load function\n",
        "import csv\n",
        "\n",
        "def load_data(file_directory):\n",
        "\n",
        "    data_frame = []\n",
        "\n",
        "    with open(file_directory) as csv_file:\n",
        "        csv_reader = csv.reader(csv_file, delimiter=',')\n",
        "#        next(csv_reader)\n",
        "        for row in csv_reader:\n",
        "            data_frame.append(row)\n",
        "\n",
        "    return data_frame"
      ],
      "execution_count": 5,
      "outputs": []
    },
    {
      "cell_type": "code",
      "metadata": {
        "id": "ZiKtEh_R5-WY",
        "cellView": "form"
      },
      "source": [
        "#@title Load data to data_frame variable\n",
        "data_frame = load_data(file_directory)"
      ],
      "execution_count": 6,
      "outputs": []
    },
    {
      "cell_type": "markdown",
      "metadata": {
        "id": "iM0kBy3wjJ6N"
      },
      "source": [
        "Load csv file generated by the data generator function\n",
        "Need to mount drive to access these files, can change it in the future to run data generator and blocking notebook together in the future"
      ]
    },
    {
      "cell_type": "code",
      "metadata": {
        "id": "uIRHSg-nXpSb",
        "cellView": "form",
        "colab": {
          "base_uri": "https://localhost:8080/"
        },
        "outputId": "3974bf98-1c85-4c6e-bcbc-2847edbac52d"
      },
      "source": [
        "#@title Load blocking algorithms from Github repo\n",
        "!git clone https://github.com/jembi/mpi-toolkit-notebook.git"
      ],
      "execution_count": 7,
      "outputs": [
        {
          "output_type": "stream",
          "text": [
            "Cloning into 'mpi-toolkit-notebook'...\n",
            "remote: Enumerating objects: 77, done.\u001b[K\n",
            "remote: Counting objects: 100% (77/77), done.\u001b[K\n",
            "remote: Compressing objects: 100% (70/70), done.\u001b[K\n",
            "remote: Total 77 (delta 27), reused 35 (delta 5), pack-reused 0\u001b[K\n",
            "Unpacking objects: 100% (77/77), done.\n"
          ],
          "name": "stdout"
        }
      ]
    },
    {
      "cell_type": "markdown",
      "metadata": {
        "id": "m4HNVArwjvZq"
      },
      "source": [
        "Load .py files for the various blocking algorithms to import and implement"
      ]
    },
    {
      "cell_type": "code",
      "metadata": {
        "id": "o4n5oGDdTx3D",
        "cellView": "form"
      },
      "source": [
        "#@title Change working directory to import py modules\n",
        "import sys\n",
        "import os\n",
        "\n",
        "py_file_location = \"/content/mpi-toolkit-notebook/blocking-notebook\" #@param {type:\"raw\"}\n",
        "sys.path.append(os.path.abspath(py_file_location))"
      ],
      "execution_count": 8,
      "outputs": []
    },
    {
      "cell_type": "code",
      "metadata": {
        "id": "vrzC5wGjWNAh",
        "cellView": "form",
        "colab": {
          "base_uri": "https://localhost:8080/"
        },
        "outputId": "8eec8bb2-6d15-4177-f74f-361e007864d9"
      },
      "source": [
        "#@title Import blocking libraries and algorithms\n",
        "!pip install phonetics\n",
        "!pip install fastDamerauLevenshtein\n",
        "!pip install textdistance\n",
        "\n",
        "import compare_soundex\n",
        "import compare_metaphone\n",
        "import compare_double_metaphone\n",
        "import compare_levenshtein\n",
        "import compare_damerau_levenshtein\n",
        "import compare_jaro_winkler\n",
        "import compare_jaccard_similarity\n",
        "import compare_exact_match"
      ],
      "execution_count": 9,
      "outputs": [
        {
          "output_type": "stream",
          "text": [
            "Collecting phonetics\n",
            "  Downloading phonetics-1.0.5.tar.gz (8.8 kB)\n",
            "Building wheels for collected packages: phonetics\n",
            "  Building wheel for phonetics (setup.py) ... \u001b[?25l\u001b[?25hdone\n",
            "  Created wheel for phonetics: filename=phonetics-1.0.5-py2.py3-none-any.whl size=8713 sha256=6cb0eb58bb5d9e5dad13bc65fed09d893de15a908ee61290abb26de0b0c16ccf\n",
            "  Stored in directory: /root/.cache/pip/wheels/c2/c9/f4/5f43d3212d0aece0feced2484127ddb227ae43d57102aeb259\n",
            "Successfully built phonetics\n",
            "Installing collected packages: phonetics\n",
            "Successfully installed phonetics-1.0.5\n",
            "Collecting fastDamerauLevenshtein\n",
            "  Downloading fastDamerauLevenshtein-1.0.7.tar.gz (36 kB)\n",
            "Building wheels for collected packages: fastDamerauLevenshtein\n",
            "  Building wheel for fastDamerauLevenshtein (setup.py) ... \u001b[?25l\u001b[?25hdone\n",
            "  Created wheel for fastDamerauLevenshtein: filename=fastDamerauLevenshtein-1.0.7-cp37-cp37m-linux_x86_64.whl size=59401 sha256=b89e91edf7c01ce9844bc7f7377af52334cd2aae08500bd718b9552d9623415a\n",
            "  Stored in directory: /root/.cache/pip/wheels/3d/f6/ac/23a63dea60e40b449efa973a54f5b1ba766a984be2d7b95964\n",
            "Successfully built fastDamerauLevenshtein\n",
            "Installing collected packages: fastDamerauLevenshtein\n",
            "Successfully installed fastDamerauLevenshtein-1.0.7\n",
            "Collecting textdistance\n",
            "  Downloading textdistance-4.2.1-py3-none-any.whl (28 kB)\n",
            "Installing collected packages: textdistance\n",
            "Successfully installed textdistance-4.2.1\n"
          ],
          "name": "stdout"
        }
      ]
    },
    {
      "cell_type": "code",
      "metadata": {
        "colab": {
          "base_uri": "https://localhost:8080/",
          "height": 234,
          "referenced_widgets": [
            "c994b883a44e484982012a0ae5d9276e",
            "94f1d13064c742f0b30664d8a238ca8e",
            "8ac81e1674f6476d8f7b124a23589d04",
            "716d279d480e473889e762684d692c6b",
            "13a1a2ea59be41f1b7b8933c609c1ac9",
            "8d96a587923c4d1588b83e6a36e6c052",
            "09a432237c194855ba469fd37cf51309",
            "378a0ad20bc54e59b71131df660039d6",
            "dc17bb6eb8664c098cd015f048339a57",
            "f2ff61ec43cd48849f9f6040b72e5532",
            "c6b801b9940d4766a34ade9a8690634b",
            "0653fd7a5bf047408c52005e3ae18dc6",
            "05e44e3ca6c244d5aa27543888e9cf5a",
            "094f4d38a87e4d2393047b3b3f28da16",
            "e0c9a84888eb4c43a7fad608bb020841",
            "467d3b5b2338405c8b2869de0aca51fb",
            "805cb438eb5c4ae3ad9ffd454a3a4f6e",
            "ddd55d3693d94839b7a7fa741eec6f3d",
            "2d2abbf2f130415dab3e959f8f226f03",
            "3e42279ea3fb4eb294a20fd8d5fc5850",
            "86857966b4e0430797bede9802300140",
            "5b2b0c8fd55f4875b284c4a669e4d153",
            "4e03860754344cdea123510a87ed2aec",
            "489d1ca68b344bba9b5a60353d9c2727"
          ]
        },
        "id": "zQCnq1hjEzPL",
        "cellView": "form",
        "outputId": "94fe31e0-0f0b-45f8-e193-4bf9ce6e06d0"
      },
      "source": [
        "#@title Widgets to interact and choosing blocking methods\n",
        "\n",
        "from ipywidgets import HBox, VBox, Checkbox, Dropdown, Button, FloatSlider\n",
        "from IPython.display import display\n",
        "\n",
        "list_limit = 6 #@param {type:\"integer\"}\n",
        "criteria_list = [[] for _ in range(list_limit)]\n",
        "criteria_list_index = 0 \n",
        "\n",
        "columns = [\"None\"] + data_frame[0][1:]\n",
        "columns_field = Dropdown(description=\"Columns: \", options=[c for c in columns])\n",
        "algorithm_field = Dropdown(description=\"Algorithms: \", options=[\"None\", \"Exact Match\", \"Jaro-Winkler Similarity\", \"Levenshtein Edit Distance\", \"Damerau-Levenshtein Edit Distance\", \"Jaccard Similarity\", \"SoundEx\", \"Metaphone\", \"Double Metaphone\"], disabled=True)\n",
        "level_slider = FloatSlider(description=\"Level: \", value=0, min=0, max=5, step=1, disabled=True)\n",
        "\n",
        "def change_algorithm(*args):\n",
        "    algorithm_field.disabled=False\n",
        "    union_button.disabled=True\n",
        "columns_field.observe(change_algorithm, 'value')\n",
        "\n",
        "def change_slide(*args):\n",
        "    if algorithm_field.value in [\"Levenshtein Edit Distance\", \"Damerau-Levenshtein Edit Distance\"]:\n",
        "        level_slider.disabled=False\n",
        "        level_slider.value=2\n",
        "        level_slider.max=5\n",
        "        level_slider.step=1\n",
        "    elif algorithm_field.value in [\"Jaro-Winkler Similarity\", \"Jaccard Similarity\"]:\n",
        "        level_slider.value=0.85\n",
        "        level_slider.max = 1\n",
        "        level_slider.step=0.05\n",
        "        level_slider.disabled=False\n",
        "        \n",
        "    intersection_button.disabled=False\n",
        "algorithm_field.observe(change_slide, 'value')\n",
        "\n",
        "intersection_button = Button(description=\"Intersection\", disabled=True)        # \"Add\"\n",
        "union_button = Button(description=\"Union\", disabled=True)       # \"Update\"\n",
        "reset_button = Button(description=\"Reset\")\n",
        "\n",
        "def print_union():\n",
        "    \n",
        "    for item in criteria_list:\n",
        "        if item:\n",
        "            print(item)\n",
        "\n",
        "def print_intersection():\n",
        "    print(\"Column:    {}\\nAlgorithm: {}\\nLevel:     {}\".format(columns_field.value, algorithm_field.value, level_slider.value))\n",
        "\n",
        "\n",
        "\n",
        "def intersection_click(*args):\n",
        "    print_intersection()                          # prints what you just selected\n",
        "    criteria_list[criteria_list_index].append([columns_field.value, algorithm_field.value, level_slider.value])\n",
        "\n",
        "    # reset the columns, algorithm and level field\n",
        "    columns_field.value=\"None\"\n",
        "    algorithm_field.value=\"None\"\n",
        "    algorithm_field.disabled=True\n",
        "    level_slider.disabled=True\n",
        "    level_slider.value=0\n",
        "\n",
        "    union_button.disabled=False         # activate the union button so dict can be added to the criteria_union_list\n",
        "    \n",
        "\n",
        "def union_click(*args):\n",
        "    global criteria_list_index\n",
        "    if criteria_list_index < 6:\n",
        "        criteria_list_index += 1\n",
        "    else:\n",
        "        print(\"Criteria list full, update criteria list limit\")\n",
        "\n",
        "    # reset the columns, algorithm. Deactivate the algorithm and level dropdowns, and union button again\n",
        "    columns_field.value=\"None\"\n",
        "    algorithm_field.value=\"None\"\n",
        "    algorithm_field.disabled=True\n",
        "    level_slider.disabled=True\n",
        "    union_button.disabled=True\n",
        "    level_slider.value=0\n",
        "\n",
        "    print_union()\n",
        "\n",
        "def reset_click(*args):\n",
        "    # reset everything\n",
        "    global criteria_list\n",
        "    global criteria_list_index\n",
        "    criteria_list = [[] for _ in range(list_limit)]\n",
        "    criteria_list_index = 0\n",
        "\n",
        "    columns_field.value=\"None\"\n",
        "    algorithm_field.value=\"None\"\n",
        "    algorithm_field.disabled=True\n",
        "    level_slider.disabled=True\n",
        "    union_button.disabled=True\n",
        "    level_slider.value=0\n",
        "    print(\"Criteria reset\")\n",
        "\n",
        "intersection_button.on_click(intersection_click)\n",
        "union_button.on_click(union_click)\n",
        "reset_button.on_click(reset_click)\n",
        "\n",
        "\n",
        "dropdown_list = HBox([columns_field, algorithm_field, level_slider])\n",
        "button_list = HBox([intersection_button, union_button, reset_button])\n",
        "VBox([dropdown_list, button_list])"
      ],
      "execution_count": 46,
      "outputs": [
        {
          "output_type": "display_data",
          "data": {
            "application/vnd.jupyter.widget-view+json": {
              "model_id": "c994b883a44e484982012a0ae5d9276e",
              "version_minor": 0,
              "version_major": 2
            },
            "text/plain": [
              "VBox(children=(HBox(children=(Dropdown(description='Columns: ', options=('None', 'hivCaseReportNumber', 'name'…"
            ]
          },
          "metadata": {
            "tags": []
          }
        },
        {
          "output_type": "stream",
          "text": [
            "Column:    name\n",
            "Algorithm: SoundEx\n",
            "Level:     0.0\n",
            "[['name', 'SoundEx', 0.0]]\n",
            "Column:    fathersName\n",
            "Algorithm: SoundEx\n",
            "Level:     0.0\n",
            "[['name', 'SoundEx', 0.0]]\n",
            "[['fathersName', 'SoundEx', 0.0]]\n"
          ],
          "name": "stdout"
        }
      ]
    },
    {
      "cell_type": "markdown",
      "metadata": {
        "id": "7_6BEz-viue8"
      },
      "source": [
        "1. Choose which column you want to block on.\n",
        "2. That enables you to choose which algorithm you want to compare the fields with\n",
        "3. Depending on the algorithm (similairty, edit distance, phonetic match), this can allow for the level to be selected, this enables the 'Intersection' button.\n",
        "4. Clicking on 'Intersection' adds it to the list. Any items added by 'Intersection' follow an 'and' rule where all must be true to return true.\n",
        "5. After selecting 'Intersection', 'Union' is enabled to add an 'or' option between criteria.\n",
        "6. If an error occurs, click reset to empty the criteria_list.\n",
        "7. A maximum of 6 criteria within the union list can be added, there is no limit to the number of intersections that are required. This limit can be extended but it is not recommended.\n",
        "8. Do not forget to press 'Intersection' to add your selection to criteria_list."
      ]
    },
    {
      "cell_type": "markdown",
      "metadata": {
        "id": "N87FcWtYVH0N"
      },
      "source": [
        "![Untitled presentation.png](data:image/png;base64,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)"
      ]
    },
    {
      "cell_type": "code",
      "metadata": {
        "colab": {
          "base_uri": "https://localhost:8080/"
        },
        "id": "jgZIDvtN4UPC",
        "cellView": "form",
        "outputId": "285370bc-36a9-444d-b453-8e8964e57100"
      },
      "source": [
        "#@title Summarise data\n",
        "\n",
        "for ind, c in enumerate(criteria_list):\n",
        "    if c:\n",
        "        print(c)\n",
        "    else:\n",
        "        shorten = ind\n",
        "        break\n",
        "\n",
        "criteria_list = criteria_list[:shorten]"
      ],
      "execution_count": 47,
      "outputs": [
        {
          "output_type": "stream",
          "text": [
            "[['name', 'SoundEx', 0.0]]\n",
            "[['fathersName', 'SoundEx', 0.0]]\n"
          ],
          "name": "stdout"
        }
      ]
    },
    {
      "cell_type": "markdown",
      "metadata": {
        "id": "kUv0IzLKOgrF"
      },
      "source": [
        "Summarise the criteria list\n",
        "\n",
        "Options in the same line are being tested for the intersection (&&) e.g. record names macth and record father's names match to be true\n",
        "Options on different lines work in union (||)"
      ]
    },
    {
      "cell_type": "markdown",
      "metadata": {
        "id": "2uKqcY8xcbqJ"
      },
      "source": [
        "Basic table output for user to choose which columns they would like to block on using which algorithms\n",
        "\n",
        "Level of each blocking (edit ditance and similarity) to be included at a later stage."
      ]
    },
    {
      "cell_type": "markdown",
      "metadata": {
        "id": "thnu-LtFcTQ4"
      },
      "source": [
        "Extract the columns the user would like to test using the algorithms they have selected"
      ]
    },
    {
      "cell_type": "code",
      "metadata": {
        "id": "2C-uEHPCi5-v",
        "cellView": "form"
      },
      "source": [
        "#@title Blocking function\n",
        "\n",
        "def blocking(rec1, rec2, criteria_list):\n",
        "\n",
        "    for criteria in criteria_list:\n",
        "        if criteria:\n",
        "            intersection_count = 0\n",
        "            for option in criteria:\n",
        "                result = implement(rec1[column_identity(option[0])], rec2[column_identity(option[0])], option[1], option[2])\n",
        "                if result:\n",
        "                    intersection_count += 1\n",
        "            if intersection_count == len(criteria):\n",
        "                return True\n",
        "    return False\n"
      ],
      "execution_count": 48,
      "outputs": []
    },
    {
      "cell_type": "markdown",
      "metadata": {
        "id": "wt0eJLP6kRe9"
      },
      "source": [
        "Criteria_list has a list of union options that any can be fulfilled to block on\n",
        "\n",
        "Within each option are intersection options that all must be fulfilled to return true - so if intersection_count is the same as the length of criteria, then it will return true\n",
        "\n",
        "If any of these fail to return true, blocking return false on the records"
      ]
    },
    {
      "cell_type": "code",
      "metadata": {
        "id": "YPCScew6kG33",
        "cellView": "form"
      },
      "source": [
        "#@title Implementation function\n",
        "\n",
        "def implement(field1, field2, algorithm, level):\n",
        "\n",
        "    if algorithm == \"Exact Match\":\n",
        "        return compare_exact_match.compare(field1, field2)\n",
        "    elif algorithm == \"Jaro-Winkler Similarity\":\n",
        "        return compare_jaro_winkler.compare(field1, field2, level)\n",
        "    elif algorithm == \"Levenshtein Edit Distance\":\n",
        "        return compare_levenshtein.compare(field1, field2, level)\n",
        "    elif algorithm == \"Damerau-Levenshtein Edit Distance\":\n",
        "        return compare_damerau_levenshtein.compare(field1, field2, level)\n",
        "    elif algorithm == \"Jaccard Similarity\":\n",
        "        return compare_jaccard_similarity.compare(field1, field2, level)\n",
        "    elif algorithm == \"SoundEx\":\n",
        "        return compare_soundex.compare(field1, field2)\n",
        "    elif algorithm == \"Metaphone\":\n",
        "        return compare_metaphone.compare(field1, field2)\n",
        "    elif algorithm == \"Double Metaphone\":\n",
        "        return compare_double_metaphone.compare(field1, field2)\n",
        "    else:\n",
        "        return None"
      ],
      "execution_count": 49,
      "outputs": []
    },
    {
      "cell_type": "markdown",
      "metadata": {
        "id": "OkPckb0ckxw5"
      },
      "source": [
        "Depending on what algorithm was chosen, will execute the .py files that were cloned from the GutHub repo with the level selected.\n",
        "\n",
        "Level can also be left out as the default values: edit distance = 2, similarity = 0.85"
      ]
    },
    {
      "cell_type": "code",
      "metadata": {
        "id": "q1mxvwvSkGvL",
        "cellView": "form"
      },
      "source": [
        "#@title Missing data function\n",
        "\n",
        "def missing_data(rec1, rec2, criteria_list):\n",
        "\n",
        "    for criteria in criteria_list:\n",
        "        if criteria:\n",
        "            for option in criteria:\n",
        "                if not rec1[column_identity(option[0])] or not rec2[column_identity(option[0])]:\n",
        "                    return True\n",
        "    return False"
      ],
      "execution_count": 50,
      "outputs": []
    },
    {
      "cell_type": "markdown",
      "metadata": {
        "id": "22Ca_L7olGET"
      },
      "source": [
        "If failed to block using the algorithms, this checks if there was missing information and includes it if true. \n",
        "\n",
        "Cannot block against missing information.\n",
        "\n",
        "Would be faster if missing data were run first but this step is meant to see how well the blocking algorithms perform first before missing data inclusions is included"
      ]
    },
    {
      "cell_type": "code",
      "metadata": {
        "id": "ABcM-XqAkGle"
      },
      "source": [
        "#@title Name index function\n",
        "\n",
        "def column_identity(name):\n",
        "\n",
        "    for ind, col_name in enumerate(columns):\n",
        "        if col_name == name:\n",
        "            return ind + 1"
      ],
      "execution_count": 51,
      "outputs": []
    },
    {
      "cell_type": "markdown",
      "metadata": {
        "id": "X1w6E7zGlZhr"
      },
      "source": [
        "Returns the data_frame column index of variable name given"
      ]
    },
    {
      "cell_type": "code",
      "metadata": {
        "id": "-UUTTGbwRmTQ",
        "colab": {
          "base_uri": "https://localhost:8080/",
          "height": 66,
          "referenced_widgets": [
            "82727cf5e112497cbcb041c0636137b3",
            "647b61be72644b13b79a61aa2fd38600",
            "82979bc3a764496c860f5e1ed669e228",
            "cd8f7b89913c4ceaa066b7fca792b9fb",
            "2c917dee917f43bcb173b12422f14940",
            "84b42d170b2e4de3b67b6d4024128234",
            "d1c566f34c6a4cb0b3303a08dffa2cd7",
            "b3b7593214a9408f883792e3c1c4e94a"
          ]
        },
        "cellView": "form",
        "outputId": "f2e51a4b-0a36-4a65-c261-64c31d39e456"
      },
      "source": [
        "#@title Execute blocking on data_frame\n",
        "\n",
        "from time import time\n",
        "from tqdm.notebook import tqdm\n",
        "\n",
        "\n",
        "start_time = time()\n",
        "\n",
        "true_pos, false_neg, false_pos, true_neg = 0, 0, 0, 0\n",
        "total_matches = 0\n",
        "total_missing, missing_pos= 0, 0\n",
        "\n",
        "false_neg_indices = []\n",
        "\n",
        "for i in tqdm(range(1, len(data_frame))):\n",
        "    for j in range(i+1, len(data_frame)):\n",
        "        total_matches += 1\n",
        "        match_bool = blocking(data_frame[i], data_frame[j], criteria_list)\n",
        "        if match_bool:\n",
        "            if data_frame[i][0][:12] == data_frame[j][0][:12]:\n",
        "                true_pos += 1\n",
        "            else:\n",
        "                false_pos += 1\n",
        "        elif missing_data(data_frame[i], data_frame[j], criteria_list):\n",
        "            total_missing += 1\n",
        "            if data_frame[i][0][:12] == data_frame[j][0][:12]:\n",
        "                missing_pos += 1\n",
        "            else:\n",
        "                false_pos += 1\n",
        "        else:\n",
        "            if data_frame[i][0][:12] == data_frame[j][0][:12]:\n",
        "                false_neg += 1\n",
        "                false_neg_indices.append([i, j])\n",
        "            else:\n",
        "                true_neg += 1\n",
        "\n",
        "end_time = time()"
      ],
      "execution_count": 52,
      "outputs": [
        {
          "output_type": "display_data",
          "data": {
            "application/vnd.jupyter.widget-view+json": {
              "model_id": "82727cf5e112497cbcb041c0636137b3",
              "version_minor": 0,
              "version_major": 2
            },
            "text/plain": [
              "HBox(children=(FloatProgress(value=0.0, max=1500.0), HTML(value='')))"
            ]
          },
          "metadata": {
            "tags": []
          }
        },
        {
          "output_type": "stream",
          "text": [
            "\n"
          ],
          "name": "stdout"
        }
      ]
    },
    {
      "cell_type": "markdown",
      "metadata": {
        "id": "YwaoamU2lqKw"
      },
      "source": [
        "Iterates through all combinations of records once, skipping repeated and unnecessary comparisons.\n",
        "\n",
        "tqdm provides a progress bar for the user to see how long it will take\n",
        "\n",
        "Each record pair is compared in the blocking function\n",
        "\n",
        "Keeps track of:\n",
        "true positives\n",
        "false positives\n",
        "true negatives\n",
        "false negatives\n",
        "missing data positives\n",
        "missing data inclusions\n",
        "total matches\n",
        "runtime"
      ]
    },
    {
      "cell_type": "code",
      "metadata": {
        "id": "WWxgO3GIu_C8"
      },
      "source": [
        "#@title Result summaries\n",
        "\n",
        "from IPython.display import HTML, display\n",
        "import tabulate\n",
        "\n",
        "\n",
        "def print_summary(runtime):\n",
        "\n",
        "    print(\"Blocking on the data from file {} with {} records using the following columns and algorithms:\".format(file_name, len(data_frame)-1))\n",
        "    for criteria in criteria_list:\n",
        "        print(\"{}\".format(criteria))\n",
        "    print(\"This method identified {} True Positive matches with a further {} positive matches in the missing data inclusion.\".format(true_pos, missing_pos))\n",
        "    print(\"{} False Negative matches and {} False Positive matches produce a recall rate of {} and precision of {}\".format(false_neg, false_pos, (true_pos + missing_pos) / (true_pos + missing_pos + false_neg), (true_pos + missing_pos) / (true_pos + missing_pos + false_pos)))\n",
        "    print(\"{} matches were excluded out of the {} total matches, providing a blocking efficiency of {}\".format(false_neg + true_neg, total_matches, (false_neg + true_neg) / total_matches))\n",
        "    print(\"Runtime = {}\".format(runtime))\n",
        "\n",
        "\n",
        "def print_summary_table(runtime):\n",
        "    data = [[\"Total matches\", total_matches],\n",
        "            [\"Matches excluded\", false_neg + true_neg],\n",
        "            [\"Missing data inclusions\", total_missing],\n",
        "            [\"Missing data positives\", missing_pos],\n",
        "            [\"Algorithm positives\", true_pos],\n",
        "            [\"Total true positives\", true_pos + missing_pos],   \n",
        "            [\"False negatives\", false_neg],\n",
        "            [\"False positives\", false_pos],\n",
        "            [\"Recall\", (true_pos + missing_pos) / (true_pos + missing_pos + false_neg)],\n",
        "            [\"Precision\", (true_pos + missing_pos) / (true_pos + missing_pos + false_pos)],\n",
        "            [\"Blocking efficiency\", (true_neg + false_neg) / total_matches],\n",
        "            [\"Runtime\", runtime]]\n",
        "    display(HTML(tabulate.tabulate(data, tablefmt='html')))\n"
      ],
      "execution_count": 53,
      "outputs": []
    },
    {
      "cell_type": "markdown",
      "metadata": {
        "id": "tsLzvRHNlk6n"
      },
      "source": [
        "Summary in paragraph form\n",
        "\n",
        "Summary in table form"
      ]
    },
    {
      "cell_type": "code",
      "metadata": {
        "id": "UGOdzh3xSNhE",
        "colab": {
          "base_uri": "https://localhost:8080/"
        },
        "cellView": "form",
        "outputId": "cad34a81-dba1-493a-deba-9d4233f4963e"
      },
      "source": [
        "#@title Display results in paragraph format\n",
        "print_summary(end_time - start_time)"
      ],
      "execution_count": 54,
      "outputs": [
        {
          "output_type": "stream",
          "text": [
            "Blocking on the data from file data-01000-00500-abcd.csv with 1500 records using the following columns and algorithms:\n",
            "[['name', 'SoundEx', 0.0]]\n",
            "[['fathersName', 'SoundEx', 0.0]]\n",
            "This method identified 632 True Positive matches with a further 13 positive matches in the missing data inclusion.\n",
            "6 False Negative matches and 74737 False Positive matches produce a recall rate of 0.9907834101382489 and precision of 0.008556419304343211\n",
            "1048868 matches were excluded out of the 1124250 total matches, providing a blocking efficiency of 0.9329490771625528\n",
            "Runtime = 36.314014196395874\n"
          ],
          "name": "stdout"
        }
      ]
    },
    {
      "cell_type": "code",
      "metadata": {
        "id": "qkhvzHnTUnoW",
        "colab": {
          "base_uri": "https://localhost:8080/",
          "height": 271
        },
        "cellView": "form",
        "outputId": "14617269-52c4-4bf4-c270-6270cd06c103"
      },
      "source": [
        "#@title Display results in table\n",
        "print_summary_table(end_time - start_time)"
      ],
      "execution_count": 55,
      "outputs": [
        {
          "output_type": "display_data",
          "data": {
            "text/html": [
              "<table>\n",
              "<tbody>\n",
              "<tr><td>Total matches          </td><td style=\"text-align: right;\">    1.12425e+06</td></tr>\n",
              "<tr><td>Matches excluded       </td><td style=\"text-align: right;\">    1.04887e+06</td></tr>\n",
              "<tr><td>Missing data inclusions</td><td style=\"text-align: right;\">62636          </td></tr>\n",
              "<tr><td>Missing data positives </td><td style=\"text-align: right;\">   13          </td></tr>\n",
              "<tr><td>Algorithm positives    </td><td style=\"text-align: right;\">  632          </td></tr>\n",
              "<tr><td>Total true positives   </td><td style=\"text-align: right;\">  645          </td></tr>\n",
              "<tr><td>False negatives        </td><td style=\"text-align: right;\">    6          </td></tr>\n",
              "<tr><td>False positives        </td><td style=\"text-align: right;\">74737          </td></tr>\n",
              "<tr><td>Recall                 </td><td style=\"text-align: right;\">    0.990783   </td></tr>\n",
              "<tr><td>Precision              </td><td style=\"text-align: right;\">    0.00855642 </td></tr>\n",
              "<tr><td>Blocking efficiency    </td><td style=\"text-align: right;\">    0.932949   </td></tr>\n",
              "<tr><td>Runtime                </td><td style=\"text-align: right;\">   36.314      </td></tr>\n",
              "</tbody>\n",
              "</table>"
            ],
            "text/plain": [
              "<IPython.core.display.HTML object>"
            ]
          },
          "metadata": {
            "tags": []
          }
        }
      ]
    },
    {
      "cell_type": "code",
      "metadata": {
        "id": "ndbXuY5KMHb_",
        "colab": {
          "base_uri": "https://localhost:8080/",
          "height": 428
        },
        "cellView": "form",
        "outputId": "7b43e994-0bee-44af-a774-34574a7dc2b2"
      },
      "source": [
        "#@title Display results in pie charts using matplotlib\n",
        "import matplotlib.pyplot as plt\n",
        "\n",
        "recall = (true_pos + missing_pos) / (true_pos + missing_pos + false_neg)\n",
        "recall_labels = [\"Recall\", \" \"]\n",
        "recall_sections = [recall, 1 - recall]\n",
        "\n",
        "\n",
        "precision = true_pos / (true_pos + false_pos + missing_pos)\n",
        "prec_labels = [\"Precision\", \" \"]\n",
        "prec_sections = [precision, 1 - precision]\n",
        "\n",
        "blocking_efficiency = (true_neg + false_neg) / total_matches \n",
        "be_labels = [\"Blocking efficiency\", \" \"]\n",
        "be_sections = [blocking_efficiency, 1 - blocking_efficiency]\n",
        "\n",
        "positives = [true_pos]\n",
        "pos_labels = [\"True positives\"]\n",
        "if missing_pos:\n",
        "    positives.append(missing_pos)\n",
        "    pos_labels.append(\"Missing data positives\")\n",
        "if false_neg:\n",
        "    positives.append(false_neg)\n",
        "    pos_labels.append(\"False positives\")\n",
        "\n",
        "fig, axes = plt.subplots(nrows=1, ncols=4, figsize=(30, 10))\n",
        "colors = [\"#6396e6\", \"#de73e6\"]\n",
        "\n",
        "\n",
        "axes[0].pie(recall_sections, \n",
        "        labels=recall_labels, \n",
        "        colors=colors, \n",
        "        startangle=90,\n",
        "        autopct='%1.4f%%')\n",
        "axes[1].pie(prec_sections, \n",
        "        labels=prec_labels, \n",
        "        colors=colors,\n",
        "        startangle=90, \n",
        "        autopct='%1.4f%%')\n",
        "axes[2].pie(be_sections, \n",
        "        labels=be_labels, \n",
        "        colors=colors, \n",
        "        startangle=90, \n",
        "        autopct='%1.4f%%')\n",
        "axes[3].pie(positives, \n",
        "            labels=pos_labels, \n",
        "            colors=[\"#6396e6\",\"#63e581\", \"#de73e6\"], \n",
        "            startangle=90,\n",
        "            autopct='%1.4f%%')\n",
        "\n",
        "plt.title(\"Pie charts showing Recall, Precision and Blocking Efficiency\")"
      ],
      "execution_count": 56,
      "outputs": [
        {
          "output_type": "execute_result",
          "data": {
            "text/plain": [
              "Text(0.5, 1.0, 'Pie charts showing Recall, Precision and Blocking Efficiency')"
            ]
          },
          "metadata": {
            "tags": []
          },
          "execution_count": 56
        },
        {
          "output_type": "display_data",
          "data": {
            "image/png": "[encoded data removed]",
            "text/plain": [
              "<Figure size 2160x720 with 4 Axes>"
            ]
          },
          "metadata": {
            "tags": []
          }
        }
      ]
    },
    {
      "cell_type": "code",
      "metadata": {
        "colab": {
          "base_uri": "https://localhost:8080/",
          "height": 145
        },
        "id": "amo9SSpV-snv",
        "outputId": "0242eae4-ec80-4302-a6a9-cabbf4cd0f62"
      },
      "source": [
        "#@title Print False Negatives\n",
        "\n",
        "\n",
        "if false_neg_indices:\n",
        "    false_neg_table = []\n",
        "    criteria_column_indices = set()\n",
        "\n",
        "    for criteria in criteria_list:\n",
        "        for option in criteria:\n",
        "            criteria_column_indices.add(column_identity(option[0]))\n",
        "\n",
        "    for row_ind in false_neg_indices:\n",
        "        false_neg_row = []\n",
        "        for col_ind in criteria_column_indices:\n",
        "            false_neg_row.append(data_frame[row_ind[0]][col_ind])\n",
        "        false_neg_row.append(\"  >>>  \")\n",
        "        for col_ind in criteria_column_indices:\n",
        "            false_neg_row.append(data_frame[row_ind[1]][col_ind])\n",
        "        false_neg_table.append(false_neg_row)\n",
        "\n",
        "    display(HTML(tabulate.tabulate(false_neg_table, tablefmt='html')))\n",
        "\n",
        "else:\n",
        "    print(\"No false negatives to show\")\n",
        "\n"
      ],
      "execution_count": 69,
      "outputs": [
        {
          "output_type": "display_data",
          "data": {
            "text/html": [
              "<table>\n",
              "<tbody>\n",
              "<tr><td>Marivo  </td><td>Birhanu</td><td>&gt;&gt;&gt;</td><td>Mariyo  </td><td>Birhanv</td></tr>\n",
              "<tr><td>Kedir   </td><td>Abadi  </td><td>&gt;&gt;&gt;</td><td>Kedie   </td><td>Abadk  </td></tr>\n",
              "<tr><td>Tekly   </td><td>Wakjifa</td><td>&gt;&gt;&gt;</td><td>Tekiu   </td><td>Wakjira</td></tr>\n",
              "<tr><td>Deme5ew </td><td>Addisu </td><td>&gt;&gt;&gt;</td><td>Demejew </td><td>Addistu</td></tr>\n",
              "<tr><td>Shimelis</td><td>Mesfin </td><td>&gt;&gt;&gt;</td><td>Shimeois</td><td>Mestfin</td></tr>\n",
              "<tr><td>Shimelij</td><td>Mesfin </td><td>&gt;&gt;&gt;</td><td>Shimeois</td><td>Mestfin</td></tr>\n",
              "</tbody>\n",
              "</table>"
            ],
            "text/plain": [
              "<IPython.core.display.HTML object>"
            ]
          },
          "metadata": {
            "tags": []
          }
        }
      ]
    },
    {
      "cell_type": "code",
      "metadata": {
        "id": "E7ooerL0FuyQ"
      },
      "source": [
        ""
      ],
      "execution_count": null,
      "outputs": []
    }
  ]
}