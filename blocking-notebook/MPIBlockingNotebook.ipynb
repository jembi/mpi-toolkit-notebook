{
  "nbformat": 4,
  "nbformat_minor": 0,
  "metadata": {
    "colab": {
      "name": "MPIBlockingNotebook - new criteria.ipynb",
      "provenance": [],
      "collapsed_sections": []
    },
    "kernelspec": {
      "name": "python3",
      "display_name": "Python 3"
    },
    "language_info": {
      "name": "python"
    },
    "widgets": {
      "application/vnd.jupyter.widget-state+json": {
        "e9a834dd2ec84c63a69ff87e89a4d88d": {
          "model_module": "@jupyter-widgets/controls",
          "model_name": "VBoxModel",
          "state": {
            "_view_name": "VBoxView",
            "_dom_classes": [],
            "_model_name": "VBoxModel",
            "_view_module": "@jupyter-widgets/controls",
            "_model_module_version": "1.5.0",
            "_view_count": null,
            "_view_module_version": "1.5.0",
            "box_style": "",
            "layout": "IPY_MODEL_b643ad0505b44e1b8cd34ab38e6c8917",
            "_model_module": "@jupyter-widgets/controls",
            "children": [
              "IPY_MODEL_1a8ce06a86744959af6bdc4c833f4dff",
              "IPY_MODEL_00ca374e714a4b64bed6130788d25b9d"
            ]
          }
        },
        "b643ad0505b44e1b8cd34ab38e6c8917": {
          "model_module": "@jupyter-widgets/base",
          "model_name": "LayoutModel",
          "state": {
            "_view_name": "LayoutView",
            "grid_template_rows": null,
            "right": null,
            "justify_content": null,
            "_view_module": "@jupyter-widgets/base",
            "overflow": null,
            "_model_module_version": "1.2.0",
            "_view_count": null,
            "flex_flow": null,
            "width": null,
            "min_width": null,
            "border": null,
            "align_items": null,
            "bottom": null,
            "_model_module": "@jupyter-widgets/base",
            "top": null,
            "grid_column": null,
            "overflow_y": null,
            "overflow_x": null,
            "grid_auto_flow": null,
            "grid_area": null,
            "grid_template_columns": null,
            "flex": null,
            "_model_name": "LayoutModel",
            "justify_items": null,
            "grid_row": null,
            "max_height": null,
            "align_content": null,
            "visibility": null,
            "align_self": null,
            "height": null,
            "min_height": null,
            "padding": null,
            "grid_auto_rows": null,
            "grid_gap": null,
            "max_width": null,
            "order": null,
            "_view_module_version": "1.2.0",
            "grid_template_areas": null,
            "object_position": null,
            "object_fit": null,
            "grid_auto_columns": null,
            "margin": null,
            "display": null,
            "left": null
          }
        },
        "1a8ce06a86744959af6bdc4c833f4dff": {
          "model_module": "@jupyter-widgets/controls",
          "model_name": "HBoxModel",
          "state": {
            "_view_name": "HBoxView",
            "_dom_classes": [],
            "_model_name": "HBoxModel",
            "_view_module": "@jupyter-widgets/controls",
            "_model_module_version": "1.5.0",
            "_view_count": null,
            "_view_module_version": "1.5.0",
            "box_style": "",
            "layout": "IPY_MODEL_df9c09cc0fd64802a908f969107a091c",
            "_model_module": "@jupyter-widgets/controls",
            "children": [
              "IPY_MODEL_2a0469a698ed41c39a1c8053a55f48af",
              "IPY_MODEL_219313b218654928b6436f68a20fb044",
              "IPY_MODEL_66c6d72c848e452ca8f472f8c77319be"
            ]
          }
        },
        "00ca374e714a4b64bed6130788d25b9d": {
          "model_module": "@jupyter-widgets/controls",
          "model_name": "HBoxModel",
          "state": {
            "_view_name": "HBoxView",
            "_dom_classes": [],
            "_model_name": "HBoxModel",
            "_view_module": "@jupyter-widgets/controls",
            "_model_module_version": "1.5.0",
            "_view_count": null,
            "_view_module_version": "1.5.0",
            "box_style": "",
            "layout": "IPY_MODEL_923a94f5b09a44afb7c2fdc8712fa05c",
            "_model_module": "@jupyter-widgets/controls",
            "children": [
              "IPY_MODEL_f8a53dc5234d42c68a66695b44cd6d93",
              "IPY_MODEL_2396cbc5eca941d8ad7e0e13aef89142",
              "IPY_MODEL_9a8261df9f36410e886c5c84ce8c18aa"
            ]
          }
        },
        "df9c09cc0fd64802a908f969107a091c": {
          "model_module": "@jupyter-widgets/base",
          "model_name": "LayoutModel",
          "state": {
            "_view_name": "LayoutView",
            "grid_template_rows": null,
            "right": null,
            "justify_content": null,
            "_view_module": "@jupyter-widgets/base",
            "overflow": null,
            "_model_module_version": "1.2.0",
            "_view_count": null,
            "flex_flow": null,
            "width": null,
            "min_width": null,
            "border": null,
            "align_items": null,
            "bottom": null,
            "_model_module": "@jupyter-widgets/base",
            "top": null,
            "grid_column": null,
            "overflow_y": null,
            "overflow_x": null,
            "grid_auto_flow": null,
            "grid_area": null,
            "grid_template_columns": null,
            "flex": null,
            "_model_name": "LayoutModel",
            "justify_items": null,
            "grid_row": null,
            "max_height": null,
            "align_content": null,
            "visibility": null,
            "align_self": null,
            "height": null,
            "min_height": null,
            "padding": null,
            "grid_auto_rows": null,
            "grid_gap": null,
            "max_width": null,
            "order": null,
            "_view_module_version": "1.2.0",
            "grid_template_areas": null,
            "object_position": null,
            "object_fit": null,
            "grid_auto_columns": null,
            "margin": null,
            "display": null,
            "left": null
          }
        },
        "2a0469a698ed41c39a1c8053a55f48af": {
          "model_module": "@jupyter-widgets/controls",
          "model_name": "DropdownModel",
          "state": {
            "_options_labels": [
              "None",
              "hivCaseReportNumber",
              "name",
              "fathersName",
              "fathersFatherName",
              "mothersName",
              "mothersFatherName",
              "gender",
              "dob",
              "district",
              "town",
              "PhoneNumber"
            ],
            "_view_name": "DropdownView",
            "style": "IPY_MODEL_238598d565d94e57ae74fbec7618d12a",
            "_dom_classes": [],
            "description": "",
            "_model_name": "DropdownModel",
            "index": 0,
            "_view_module": "@jupyter-widgets/controls",
            "_model_module_version": "1.5.0",
            "_view_count": null,
            "disabled": false,
            "_view_module_version": "1.5.0",
            "description_tooltip": null,
            "_model_module": "@jupyter-widgets/controls",
            "layout": "IPY_MODEL_2750865b60874d4e8cd001b88d379394"
          }
        },
        "219313b218654928b6436f68a20fb044": {
          "model_module": "@jupyter-widgets/controls",
          "model_name": "DropdownModel",
          "state": {
            "_options_labels": [
              "None",
              "Exact Match",
              "Jaro-Winkler Similarity",
              "Levenshtein Edit Distance",
              "Damerau-Levenshtein Edit Distance",
              "Jaccard Similarity",
              "SoundEx",
              "Metaphone",
              "Double Metaphone"
            ],
            "_view_name": "DropdownView",
            "style": "IPY_MODEL_258529c6d0e941349be2cc07e58680cf",
            "_dom_classes": [],
            "description": "",
            "_model_name": "DropdownModel",
            "index": 0,
            "_view_module": "@jupyter-widgets/controls",
            "_model_module_version": "1.5.0",
            "_view_count": null,
            "disabled": true,
            "_view_module_version": "1.5.0",
            "description_tooltip": null,
            "_model_module": "@jupyter-widgets/controls",
            "layout": "IPY_MODEL_032fdad4a7834fb6a47710727948c8e1"
          }
        },
        "66c6d72c848e452ca8f472f8c77319be": {
          "model_module": "@jupyter-widgets/controls",
          "model_name": "FloatSliderModel",
          "state": {
            "_view_name": "FloatSliderView",
            "style": "IPY_MODEL_01b4073126c64ec1b6c49425cd16782e",
            "_dom_classes": [],
            "description": "",
            "step": 1,
            "_model_name": "FloatSliderModel",
            "orientation": "horizontal",
            "max": 5,
            "_view_module": "@jupyter-widgets/controls",
            "_model_module_version": "1.5.0",
            "value": 0,
            "_view_count": null,
            "disabled": true,
            "_view_module_version": "1.5.0",
            "min": 0,
            "continuous_update": true,
            "readout_format": ".2f",
            "description_tooltip": null,
            "readout": true,
            "_model_module": "@jupyter-widgets/controls",
            "layout": "IPY_MODEL_1177b269a9444fbf895699b9b51b444b"
          }
        },
        "923a94f5b09a44afb7c2fdc8712fa05c": {
          "model_module": "@jupyter-widgets/base",
          "model_name": "LayoutModel",
          "state": {
            "_view_name": "LayoutView",
            "grid_template_rows": null,
            "right": null,
            "justify_content": null,
            "_view_module": "@jupyter-widgets/base",
            "overflow": null,
            "_model_module_version": "1.2.0",
            "_view_count": null,
            "flex_flow": null,
            "width": null,
            "min_width": null,
            "border": null,
            "align_items": null,
            "bottom": null,
            "_model_module": "@jupyter-widgets/base",
            "top": null,
            "grid_column": null,
            "overflow_y": null,
            "overflow_x": null,
            "grid_auto_flow": null,
            "grid_area": null,
            "grid_template_columns": null,
            "flex": null,
            "_model_name": "LayoutModel",
            "justify_items": null,
            "grid_row": null,
            "max_height": null,
            "align_content": null,
            "visibility": null,
            "align_self": null,
            "height": null,
            "min_height": null,
            "padding": null,
            "grid_auto_rows": null,
            "grid_gap": null,
            "max_width": null,
            "order": null,
            "_view_module_version": "1.2.0",
            "grid_template_areas": null,
            "object_position": null,
            "object_fit": null,
            "grid_auto_columns": null,
            "margin": null,
            "display": null,
            "left": null
          }
        },
        "f8a53dc5234d42c68a66695b44cd6d93": {
          "model_module": "@jupyter-widgets/controls",
          "model_name": "ButtonModel",
          "state": {
            "_view_name": "ButtonView",
            "style": "IPY_MODEL_75057148f5894b149b7fc088088eae4f",
            "_dom_classes": [],
            "description": "Intersection",
            "_model_name": "ButtonModel",
            "button_style": "",
            "_view_module": "@jupyter-widgets/controls",
            "_model_module_version": "1.5.0",
            "tooltip": "",
            "_view_count": null,
            "disabled": false,
            "_view_module_version": "1.5.0",
            "layout": "IPY_MODEL_61500c34d45f4064a4498faef87a654e",
            "_model_module": "@jupyter-widgets/controls",
            "icon": ""
          }
        },
        "2396cbc5eca941d8ad7e0e13aef89142": {
          "model_module": "@jupyter-widgets/controls",
          "model_name": "ButtonModel",
          "state": {
            "_view_name": "ButtonView",
            "style": "IPY_MODEL_2a167a972b3c45dca64deaf0ac9c62ed",
            "_dom_classes": [],
            "description": "Union",
            "_model_name": "ButtonModel",
            "button_style": "",
            "_view_module": "@jupyter-widgets/controls",
            "_model_module_version": "1.5.0",
            "tooltip": "",
            "_view_count": null,
            "disabled": true,
            "_view_module_version": "1.5.0",
            "layout": "IPY_MODEL_39ca34b233b540ac94f4cc471e52ce7c",
            "_model_module": "@jupyter-widgets/controls",
            "icon": ""
          }
        },
        "9a8261df9f36410e886c5c84ce8c18aa": {
          "model_module": "@jupyter-widgets/controls",
          "model_name": "ButtonModel",
          "state": {
            "_view_name": "ButtonView",
            "style": "IPY_MODEL_5e7e855b19ae4421b230b761a5d292c9",
            "_dom_classes": [],
            "description": "Reset",
            "_model_name": "ButtonModel",
            "button_style": "",
            "_view_module": "@jupyter-widgets/controls",
            "_model_module_version": "1.5.0",
            "tooltip": "",
            "_view_count": null,
            "disabled": false,
            "_view_module_version": "1.5.0",
            "layout": "IPY_MODEL_78cdd2fbafb44d8fb8faaac156949359",
            "_model_module": "@jupyter-widgets/controls",
            "icon": ""
          }
        },
        "238598d565d94e57ae74fbec7618d12a": {
          "model_module": "@jupyter-widgets/controls",
          "model_name": "DescriptionStyleModel",
          "state": {
            "_view_name": "StyleView",
            "_model_name": "DescriptionStyleModel",
            "description_width": "",
            "_view_module": "@jupyter-widgets/base",
            "_model_module_version": "1.5.0",
            "_view_count": null,
            "_view_module_version": "1.2.0",
            "_model_module": "@jupyter-widgets/controls"
          }
        },
        "2750865b60874d4e8cd001b88d379394": {
          "model_module": "@jupyter-widgets/base",
          "model_name": "LayoutModel",
          "state": {
            "_view_name": "LayoutView",
            "grid_template_rows": null,
            "right": null,
            "justify_content": null,
            "_view_module": "@jupyter-widgets/base",
            "overflow": null,
            "_model_module_version": "1.2.0",
            "_view_count": null,
            "flex_flow": null,
            "width": null,
            "min_width": null,
            "border": null,
            "align_items": null,
            "bottom": null,
            "_model_module": "@jupyter-widgets/base",
            "top": null,
            "grid_column": null,
            "overflow_y": null,
            "overflow_x": null,
            "grid_auto_flow": null,
            "grid_area": null,
            "grid_template_columns": null,
            "flex": null,
            "_model_name": "LayoutModel",
            "justify_items": null,
            "grid_row": null,
            "max_height": null,
            "align_content": null,
            "visibility": null,
            "align_self": null,
            "height": null,
            "min_height": null,
            "padding": null,
            "grid_auto_rows": null,
            "grid_gap": null,
            "max_width": null,
            "order": null,
            "_view_module_version": "1.2.0",
            "grid_template_areas": null,
            "object_position": null,
            "object_fit": null,
            "grid_auto_columns": null,
            "margin": null,
            "display": null,
            "left": null
          }
        },
        "258529c6d0e941349be2cc07e58680cf": {
          "model_module": "@jupyter-widgets/controls",
          "model_name": "DescriptionStyleModel",
          "state": {
            "_view_name": "StyleView",
            "_model_name": "DescriptionStyleModel",
            "description_width": "",
            "_view_module": "@jupyter-widgets/base",
            "_model_module_version": "1.5.0",
            "_view_count": null,
            "_view_module_version": "1.2.0",
            "_model_module": "@jupyter-widgets/controls"
          }
        },
        "032fdad4a7834fb6a47710727948c8e1": {
          "model_module": "@jupyter-widgets/base",
          "model_name": "LayoutModel",
          "state": {
            "_view_name": "LayoutView",
            "grid_template_rows": null,
            "right": null,
            "justify_content": null,
            "_view_module": "@jupyter-widgets/base",
            "overflow": null,
            "_model_module_version": "1.2.0",
            "_view_count": null,
            "flex_flow": null,
            "width": null,
            "min_width": null,
            "border": null,
            "align_items": null,
            "bottom": null,
            "_model_module": "@jupyter-widgets/base",
            "top": null,
            "grid_column": null,
            "overflow_y": null,
            "overflow_x": null,
            "grid_auto_flow": null,
            "grid_area": null,
            "grid_template_columns": null,
            "flex": null,
            "_model_name": "LayoutModel",
            "justify_items": null,
            "grid_row": null,
            "max_height": null,
            "align_content": null,
            "visibility": null,
            "align_self": null,
            "height": null,
            "min_height": null,
            "padding": null,
            "grid_auto_rows": null,
            "grid_gap": null,
            "max_width": null,
            "order": null,
            "_view_module_version": "1.2.0",
            "grid_template_areas": null,
            "object_position": null,
            "object_fit": null,
            "grid_auto_columns": null,
            "margin": null,
            "display": null,
            "left": null
          }
        },
        "01b4073126c64ec1b6c49425cd16782e": {
          "model_module": "@jupyter-widgets/controls",
          "model_name": "SliderStyleModel",
          "state": {
            "_view_name": "StyleView",
            "handle_color": null,
            "_model_name": "SliderStyleModel",
            "description_width": "",
            "_view_module": "@jupyter-widgets/base",
            "_model_module_version": "1.5.0",
            "_view_count": null,
            "_view_module_version": "1.2.0",
            "_model_module": "@jupyter-widgets/controls"
          }
        },
        "1177b269a9444fbf895699b9b51b444b": {
          "model_module": "@jupyter-widgets/base",
          "model_name": "LayoutModel",
          "state": {
            "_view_name": "LayoutView",
            "grid_template_rows": null,
            "right": null,
            "justify_content": null,
            "_view_module": "@jupyter-widgets/base",
            "overflow": null,
            "_model_module_version": "1.2.0",
            "_view_count": null,
            "flex_flow": null,
            "width": null,
            "min_width": null,
            "border": null,
            "align_items": null,
            "bottom": null,
            "_model_module": "@jupyter-widgets/base",
            "top": null,
            "grid_column": null,
            "overflow_y": null,
            "overflow_x": null,
            "grid_auto_flow": null,
            "grid_area": null,
            "grid_template_columns": null,
            "flex": null,
            "_model_name": "LayoutModel",
            "justify_items": null,
            "grid_row": null,
            "max_height": null,
            "align_content": null,
            "visibility": null,
            "align_self": null,
            "height": null,
            "min_height": null,
            "padding": null,
            "grid_auto_rows": null,
            "grid_gap": null,
            "max_width": null,
            "order": null,
            "_view_module_version": "1.2.0",
            "grid_template_areas": null,
            "object_position": null,
            "object_fit": null,
            "grid_auto_columns": null,
            "margin": null,
            "display": null,
            "left": null
          }
        },
        "75057148f5894b149b7fc088088eae4f": {
          "model_module": "@jupyter-widgets/controls",
          "model_name": "ButtonStyleModel",
          "state": {
            "_view_name": "StyleView",
            "_model_name": "ButtonStyleModel",
            "_view_module": "@jupyter-widgets/base",
            "_model_module_version": "1.5.0",
            "_view_count": null,
            "button_color": null,
            "font_weight": "",
            "_view_module_version": "1.2.0",
            "_model_module": "@jupyter-widgets/controls"
          }
        },
        "61500c34d45f4064a4498faef87a654e": {
          "model_module": "@jupyter-widgets/base",
          "model_name": "LayoutModel",
          "state": {
            "_view_name": "LayoutView",
            "grid_template_rows": null,
            "right": null,
            "justify_content": null,
            "_view_module": "@jupyter-widgets/base",
            "overflow": null,
            "_model_module_version": "1.2.0",
            "_view_count": null,
            "flex_flow": null,
            "width": null,
            "min_width": null,
            "border": null,
            "align_items": null,
            "bottom": null,
            "_model_module": "@jupyter-widgets/base",
            "top": null,
            "grid_column": null,
            "overflow_y": null,
            "overflow_x": null,
            "grid_auto_flow": null,
            "grid_area": null,
            "grid_template_columns": null,
            "flex": null,
            "_model_name": "LayoutModel",
            "justify_items": null,
            "grid_row": null,
            "max_height": null,
            "align_content": null,
            "visibility": null,
            "align_self": null,
            "height": null,
            "min_height": null,
            "padding": null,
            "grid_auto_rows": null,
            "grid_gap": null,
            "max_width": null,
            "order": null,
            "_view_module_version": "1.2.0",
            "grid_template_areas": null,
            "object_position": null,
            "object_fit": null,
            "grid_auto_columns": null,
            "margin": null,
            "display": null,
            "left": null
          }
        },
        "2a167a972b3c45dca64deaf0ac9c62ed": {
          "model_module": "@jupyter-widgets/controls",
          "model_name": "ButtonStyleModel",
          "state": {
            "_view_name": "StyleView",
            "_model_name": "ButtonStyleModel",
            "_view_module": "@jupyter-widgets/base",
            "_model_module_version": "1.5.0",
            "_view_count": null,
            "button_color": null,
            "font_weight": "",
            "_view_module_version": "1.2.0",
            "_model_module": "@jupyter-widgets/controls"
          }
        },
        "39ca34b233b540ac94f4cc471e52ce7c": {
          "model_module": "@jupyter-widgets/base",
          "model_name": "LayoutModel",
          "state": {
            "_view_name": "LayoutView",
            "grid_template_rows": null,
            "right": null,
            "justify_content": null,
            "_view_module": "@jupyter-widgets/base",
            "overflow": null,
            "_model_module_version": "1.2.0",
            "_view_count": null,
            "flex_flow": null,
            "width": null,
            "min_width": null,
            "border": null,
            "align_items": null,
            "bottom": null,
            "_model_module": "@jupyter-widgets/base",
            "top": null,
            "grid_column": null,
            "overflow_y": null,
            "overflow_x": null,
            "grid_auto_flow": null,
            "grid_area": null,
            "grid_template_columns": null,
            "flex": null,
            "_model_name": "LayoutModel",
            "justify_items": null,
            "grid_row": null,
            "max_height": null,
            "align_content": null,
            "visibility": null,
            "align_self": null,
            "height": null,
            "min_height": null,
            "padding": null,
            "grid_auto_rows": null,
            "grid_gap": null,
            "max_width": null,
            "order": null,
            "_view_module_version": "1.2.0",
            "grid_template_areas": null,
            "object_position": null,
            "object_fit": null,
            "grid_auto_columns": null,
            "margin": null,
            "display": null,
            "left": null
          }
        },
        "5e7e855b19ae4421b230b761a5d292c9": {
          "model_module": "@jupyter-widgets/controls",
          "model_name": "ButtonStyleModel",
          "state": {
            "_view_name": "StyleView",
            "_model_name": "ButtonStyleModel",
            "_view_module": "@jupyter-widgets/base",
            "_model_module_version": "1.5.0",
            "_view_count": null,
            "button_color": null,
            "font_weight": "",
            "_view_module_version": "1.2.0",
            "_model_module": "@jupyter-widgets/controls"
          }
        },
        "78cdd2fbafb44d8fb8faaac156949359": {
          "model_module": "@jupyter-widgets/base",
          "model_name": "LayoutModel",
          "state": {
            "_view_name": "LayoutView",
            "grid_template_rows": null,
            "right": null,
            "justify_content": null,
            "_view_module": "@jupyter-widgets/base",
            "overflow": null,
            "_model_module_version": "1.2.0",
            "_view_count": null,
            "flex_flow": null,
            "width": null,
            "min_width": null,
            "border": null,
            "align_items": null,
            "bottom": null,
            "_model_module": "@jupyter-widgets/base",
            "top": null,
            "grid_column": null,
            "overflow_y": null,
            "overflow_x": null,
            "grid_auto_flow": null,
            "grid_area": null,
            "grid_template_columns": null,
            "flex": null,
            "_model_name": "LayoutModel",
            "justify_items": null,
            "grid_row": null,
            "max_height": null,
            "align_content": null,
            "visibility": null,
            "align_self": null,
            "height": null,
            "min_height": null,
            "padding": null,
            "grid_auto_rows": null,
            "grid_gap": null,
            "max_width": null,
            "order": null,
            "_view_module_version": "1.2.0",
            "grid_template_areas": null,
            "object_position": null,
            "object_fit": null,
            "grid_auto_columns": null,
            "margin": null,
            "display": null,
            "left": null
          }
        },
        "23c2b2ceea7940da80e52b741127f12d": {
          "model_module": "@jupyter-widgets/controls",
          "model_name": "HBoxModel",
          "state": {
            "_view_name": "HBoxView",
            "_dom_classes": [],
            "_model_name": "HBoxModel",
            "_view_module": "@jupyter-widgets/controls",
            "_model_module_version": "1.5.0",
            "_view_count": null,
            "_view_module_version": "1.5.0",
            "box_style": "",
            "layout": "IPY_MODEL_b8264784600d441885183d91314454e5",
            "_model_module": "@jupyter-widgets/controls",
            "children": [
              "IPY_MODEL_caa2ce41564e4b098db8987c1c5246f4",
              "IPY_MODEL_b437a7333bef4b1e92f75485ee173dec"
            ]
          }
        },
        "b8264784600d441885183d91314454e5": {
          "model_module": "@jupyter-widgets/base",
          "model_name": "LayoutModel",
          "state": {
            "_view_name": "LayoutView",
            "grid_template_rows": null,
            "right": null,
            "justify_content": null,
            "_view_module": "@jupyter-widgets/base",
            "overflow": null,
            "_model_module_version": "1.2.0",
            "_view_count": null,
            "flex_flow": null,
            "width": null,
            "min_width": null,
            "border": null,
            "align_items": null,
            "bottom": null,
            "_model_module": "@jupyter-widgets/base",
            "top": null,
            "grid_column": null,
            "overflow_y": null,
            "overflow_x": null,
            "grid_auto_flow": null,
            "grid_area": null,
            "grid_template_columns": null,
            "flex": null,
            "_model_name": "LayoutModel",
            "justify_items": null,
            "grid_row": null,
            "max_height": null,
            "align_content": null,
            "visibility": null,
            "align_self": null,
            "height": null,
            "min_height": null,
            "padding": null,
            "grid_auto_rows": null,
            "grid_gap": null,
            "max_width": null,
            "order": null,
            "_view_module_version": "1.2.0",
            "grid_template_areas": null,
            "object_position": null,
            "object_fit": null,
            "grid_auto_columns": null,
            "margin": null,
            "display": null,
            "left": null
          }
        },
        "caa2ce41564e4b098db8987c1c5246f4": {
          "model_module": "@jupyter-widgets/controls",
          "model_name": "FloatProgressModel",
          "state": {
            "_view_name": "ProgressView",
            "style": "IPY_MODEL_a78ce0fcd5bf4bc78e31e943fd19614a",
            "_dom_classes": [],
            "description": "100%",
            "_model_name": "FloatProgressModel",
            "bar_style": "success",
            "max": 1500,
            "_view_module": "@jupyter-widgets/controls",
            "_model_module_version": "1.5.0",
            "value": 1500,
            "_view_count": null,
            "_view_module_version": "1.5.0",
            "orientation": "horizontal",
            "min": 0,
            "description_tooltip": null,
            "_model_module": "@jupyter-widgets/controls",
            "layout": "IPY_MODEL_f383308ae51b48e8bf1858b99692feca"
          }
        },
        "b437a7333bef4b1e92f75485ee173dec": {
          "model_module": "@jupyter-widgets/controls",
          "model_name": "HTMLModel",
          "state": {
            "_view_name": "HTMLView",
            "style": "IPY_MODEL_20933ebcb27640d58fe72c673b031cb9",
            "_dom_classes": [],
            "description": "",
            "_model_name": "HTMLModel",
            "placeholder": "​",
            "_view_module": "@jupyter-widgets/controls",
            "_model_module_version": "1.5.0",
            "value": " 1500/1500 [12:42&lt;00:00,  1.97it/s]",
            "_view_count": null,
            "_view_module_version": "1.5.0",
            "description_tooltip": null,
            "_model_module": "@jupyter-widgets/controls",
            "layout": "IPY_MODEL_a7cf76d9bb71400f9f04946f7c0df5fe"
          }
        },
        "a78ce0fcd5bf4bc78e31e943fd19614a": {
          "model_module": "@jupyter-widgets/controls",
          "model_name": "ProgressStyleModel",
          "state": {
            "_view_name": "StyleView",
            "_model_name": "ProgressStyleModel",
            "description_width": "initial",
            "_view_module": "@jupyter-widgets/base",
            "_model_module_version": "1.5.0",
            "_view_count": null,
            "_view_module_version": "1.2.0",
            "bar_color": null,
            "_model_module": "@jupyter-widgets/controls"
          }
        },
        "f383308ae51b48e8bf1858b99692feca": {
          "model_module": "@jupyter-widgets/base",
          "model_name": "LayoutModel",
          "state": {
            "_view_name": "LayoutView",
            "grid_template_rows": null,
            "right": null,
            "justify_content": null,
            "_view_module": "@jupyter-widgets/base",
            "overflow": null,
            "_model_module_version": "1.2.0",
            "_view_count": null,
            "flex_flow": null,
            "width": null,
            "min_width": null,
            "border": null,
            "align_items": null,
            "bottom": null,
            "_model_module": "@jupyter-widgets/base",
            "top": null,
            "grid_column": null,
            "overflow_y": null,
            "overflow_x": null,
            "grid_auto_flow": null,
            "grid_area": null,
            "grid_template_columns": null,
            "flex": null,
            "_model_name": "LayoutModel",
            "justify_items": null,
            "grid_row": null,
            "max_height": null,
            "align_content": null,
            "visibility": null,
            "align_self": null,
            "height": null,
            "min_height": null,
            "padding": null,
            "grid_auto_rows": null,
            "grid_gap": null,
            "max_width": null,
            "order": null,
            "_view_module_version": "1.2.0",
            "grid_template_areas": null,
            "object_position": null,
            "object_fit": null,
            "grid_auto_columns": null,
            "margin": null,
            "display": null,
            "left": null
          }
        },
        "20933ebcb27640d58fe72c673b031cb9": {
          "model_module": "@jupyter-widgets/controls",
          "model_name": "DescriptionStyleModel",
          "state": {
            "_view_name": "StyleView",
            "_model_name": "DescriptionStyleModel",
            "description_width": "",
            "_view_module": "@jupyter-widgets/base",
            "_model_module_version": "1.5.0",
            "_view_count": null,
            "_view_module_version": "1.2.0",
            "_model_module": "@jupyter-widgets/controls"
          }
        },
        "a7cf76d9bb71400f9f04946f7c0df5fe": {
          "model_module": "@jupyter-widgets/base",
          "model_name": "LayoutModel",
          "state": {
            "_view_name": "LayoutView",
            "grid_template_rows": null,
            "right": null,
            "justify_content": null,
            "_view_module": "@jupyter-widgets/base",
            "overflow": null,
            "_model_module_version": "1.2.0",
            "_view_count": null,
            "flex_flow": null,
            "width": null,
            "min_width": null,
            "border": null,
            "align_items": null,
            "bottom": null,
            "_model_module": "@jupyter-widgets/base",
            "top": null,
            "grid_column": null,
            "overflow_y": null,
            "overflow_x": null,
            "grid_auto_flow": null,
            "grid_area": null,
            "grid_template_columns": null,
            "flex": null,
            "_model_name": "LayoutModel",
            "justify_items": null,
            "grid_row": null,
            "max_height": null,
            "align_content": null,
            "visibility": null,
            "align_self": null,
            "height": null,
            "min_height": null,
            "padding": null,
            "grid_auto_rows": null,
            "grid_gap": null,
            "max_width": null,
            "order": null,
            "_view_module_version": "1.2.0",
            "grid_template_areas": null,
            "object_position": null,
            "object_fit": null,
            "grid_auto_columns": null,
            "margin": null,
            "display": null,
            "left": null
          }
        }
      }
    }
  },
  "cells": [
    {
      "cell_type": "markdown",
      "metadata": {
        "id": "hmgU1p9Ai6bT"
      },
      "source": [
        "Function to load data to the variable data_frame"
      ]
    },
    {
      "cell_type": "code",
      "metadata": {
        "id": "CIt1cLhrh4F8",
        "cellView": "code"
      },
      "source": [
        "#@title Load data to variable\n",
        "import csv\n",
        "\n",
        "def load_data(file_directory):\n",
        "\n",
        "    data_frame = []\n",
        "\n",
        "    with open(file_directory) as csv_file:\n",
        "        csv_reader = csv.reader(csv_file, delimiter=',')\n",
        "#        next(csv_reader)\n",
        "        for row in csv_reader:\n",
        "            data_frame.append(row)\n",
        "\n",
        "    return data_frame"
      ],
      "execution_count": 44,
      "outputs": []
    },
    {
      "cell_type": "code",
      "metadata": {
        "id": "eG9BPBLlqkpD",
        "colab": {
          "base_uri": "https://localhost:8080/"
        },
        "cellView": "code",
        "outputId": "d182f28e-b948-4e35-88cb-a83e9b721e3e"
      },
      "source": [
        "#@title Import data file from Google Drive\n",
        "from google.colab import drive\n",
        "\n",
        "drive.mount('/content/drive')\n",
        "\n",
        "file_name = \"data-01000-00500-abcd.csv\" #@param {type:\"raw\"}\n",
        "file_directory = \"/content/drive/MyDrive/BlockingNotebook/\" + file_name\n",
        "\n",
        "data_frame = load_data(file_directory)"
      ],
      "execution_count": 45,
      "outputs": [
        {
          "output_type": "stream",
          "text": [
            "Drive already mounted at /content/drive; to attempt to forcibly remount, call drive.mount(\"/content/drive\", force_remount=True).\n"
          ],
          "name": "stdout"
        }
      ]
    },
    {
      "cell_type": "markdown",
      "metadata": {
        "id": "iM0kBy3wjJ6N"
      },
      "source": [
        "Load csv file generated by the data generator function\n",
        "Need to mount drive to access these files, can change it in the future to run data generator and blocking notebook together in the future"
      ]
    },
    {
      "cell_type": "code",
      "metadata": {
        "id": "uIRHSg-nXpSb",
        "colab": {
          "base_uri": "https://localhost:8080/"
        },
        "cellView": "code",
        "outputId": "587700f1-c9eb-4efc-fc70-6dee748bc088"
      },
      "source": [
        "#@title Load blocking algorithms from Github repo\n",
        "!git clone https://github.com/jembi/mpi-toolkit-notebook.git"
      ],
      "execution_count": 85,
      "outputs": [
        {
          "output_type": "stream",
          "text": [
            "Cloning into 'mpi-toolkit-notebook'...\n",
            "remote: Enumerating objects: 69, done.\u001b[K\n",
            "remote: Counting objects: 100% (69/69), done.\u001b[K\n",
            "remote: Compressing objects: 100% (62/62), done.\u001b[K\n",
            "remote: Total 69 (delta 23), reused 35 (delta 5), pack-reused 0\u001b[K\n",
            "Unpacking objects: 100% (69/69), done.\n"
          ],
          "name": "stdout"
        }
      ]
    },
    {
      "cell_type": "markdown",
      "metadata": {
        "id": "m4HNVArwjvZq"
      },
      "source": [
        "Load .py files for the various blocking algorithms to import and implement"
      ]
    },
    {
      "cell_type": "code",
      "metadata": {
        "id": "o4n5oGDdTx3D",
        "cellView": "code"
      },
      "source": [
        "#@title Change working directory\n",
        "import sys\n",
        "import os\n",
        "\n",
        "py_file_location = \"/content/mpi-toolkit-notebook/blocking-notebook\" #@param {type:\"raw\"}\n",
        "sys.path.append(os.path.abspath(py_file_location))"
      ],
      "execution_count": 86,
      "outputs": []
    },
    {
      "cell_type": "code",
      "metadata": {
        "colab": {
          "base_uri": "https://localhost:8080/"
        },
        "id": "vrzC5wGjWNAh",
        "cellView": "form",
        "outputId": "1ffe9622-8bce-49ac-a3a6-4a0fe9e3d645"
      },
      "source": [
        "#@title Import blocking libraries and algorithms\n",
        "!pip install phonetics\n",
        "!pip install fastDamerauLevenshtein\n",
        "!pip install textdistance\n",
        "\n",
        "import compare_soundex\n",
        "import compare_metaphone\n",
        "import compare_double_metaphone\n",
        "import compare_levenshtein\n",
        "import compare_damerau_levenshtein\n",
        "import compare_jaro_winkler\n",
        "import compare_jaccard_similarity\n",
        "import compare_exact_match"
      ],
      "execution_count": 87,
      "outputs": [
        {
          "output_type": "stream",
          "text": [
            "Requirement already satisfied: phonetics in /usr/local/lib/python3.7/dist-packages (1.0.5)\n",
            "Requirement already satisfied: fastDamerauLevenshtein in /usr/local/lib/python3.7/dist-packages (1.0.7)\n",
            "Requirement already satisfied: textdistance in /usr/local/lib/python3.7/dist-packages (4.2.1)\n"
          ],
          "name": "stdout"
        }
      ]
    },
    {
      "cell_type": "markdown",
      "metadata": {
        "id": "zlqRBl5DiX3J"
      },
      "source": [
        "Checkbox(\n",
        "    value=False,\n",
        "    description='Check me',\n",
        "    disabled=False,\n",
        "    indent=False\n",
        ")\n",
        "\n",
        "Dropdown(\n",
        "    options=[\"Exact Match\", \"Jaro-Winkler Similarity\", \"Levenshtein Edit Distance\", \"Damerau-Levenshtein Edit Distance\", \"Jaccard Similarity\", \"SoundEx\", \"Metaphone\", \"Double Metaphone\"],\n",
        "    description='Algorithms:',\n",
        "    disabled=False,\n",
        ")"
      ]
    },
    {
      "cell_type": "code",
      "metadata": {
        "colab": {
          "base_uri": "https://localhost:8080/",
          "height": 234,
          "referenced_widgets": [
            "e9a834dd2ec84c63a69ff87e89a4d88d",
            "b643ad0505b44e1b8cd34ab38e6c8917",
            "1a8ce06a86744959af6bdc4c833f4dff",
            "00ca374e714a4b64bed6130788d25b9d",
            "df9c09cc0fd64802a908f969107a091c",
            "2a0469a698ed41c39a1c8053a55f48af",
            "219313b218654928b6436f68a20fb044",
            "66c6d72c848e452ca8f472f8c77319be",
            "923a94f5b09a44afb7c2fdc8712fa05c",
            "f8a53dc5234d42c68a66695b44cd6d93",
            "2396cbc5eca941d8ad7e0e13aef89142",
            "9a8261df9f36410e886c5c84ce8c18aa",
            "238598d565d94e57ae74fbec7618d12a",
            "2750865b60874d4e8cd001b88d379394",
            "258529c6d0e941349be2cc07e58680cf",
            "032fdad4a7834fb6a47710727948c8e1",
            "01b4073126c64ec1b6c49425cd16782e",
            "1177b269a9444fbf895699b9b51b444b",
            "75057148f5894b149b7fc088088eae4f",
            "61500c34d45f4064a4498faef87a654e",
            "2a167a972b3c45dca64deaf0ac9c62ed",
            "39ca34b233b540ac94f4cc471e52ce7c",
            "5e7e855b19ae4421b230b761a5d292c9",
            "78cdd2fbafb44d8fb8faaac156949359"
          ]
        },
        "cellView": "code",
        "id": "zQCnq1hjEzPL",
        "outputId": "c56ce89d-75e7-47c8-fc7a-a731a48cb816"
      },
      "source": [
        "from ipywidgets import HBox, VBox, Checkbox, Dropdown, Button, FloatSlider\n",
        "from IPython.display import display\n",
        "\n",
        "list_limit = 6 #@param {type:\"integer\"}\n",
        "criteria_list = [[] for _ in range(list_limit)]\n",
        "criteria_list_index = 0 \n",
        "\n",
        "columns = [\"None\"] + data_frame[0][1:]\n",
        "columns_field = Dropdown(options=[c for c in columns])\n",
        "algorithm_field = Dropdown(options=[\"None\", \"Exact Match\", \"Jaro-Winkler Similarity\", \"Levenshtein Edit Distance\", \"Damerau-Levenshtein Edit Distance\", \"Jaccard Similarity\", \"SoundEx\", \"Metaphone\", \"Double Metaphone\"], disabled=True)\n",
        "level_slider = FloatSlider(value=0, min=0, max=5, step=1, disabled=True)\n",
        "\n",
        "def change_algorithm(*args):\n",
        "    algorithm_field.disabled=False\n",
        "    union_button.disabled=True\n",
        "columns_field.observe(change_algorithm, 'value')\n",
        "\n",
        "def change_slide(*args):\n",
        "    if algorithm_field.value in [\"Levenshtein Edit Distance\", \"Damerau-Levenshtein Edit Distance\"]:\n",
        "        level_slider.disabled=False\n",
        "        level_slider.value=2\n",
        "        level_slider.max=5\n",
        "        level_slider.step=1\n",
        "    elif algorithm_field.value in [\"Jaro-Winkler Similarity\", \"Jaccard Similarity\"]:\n",
        "        level_slider.value=0.85\n",
        "        level_slider.max = 1\n",
        "        level_slider.step=0.05\n",
        "        level_slider.disabled=False\n",
        "algorithm_field.observe(change_slide, 'value')\n",
        "\n",
        "intersection_button = Button(description=\"Intersection\")        # \"Add\"\n",
        "union_button = Button(description=\"Union\", disabled=True)       # \"Update\"\n",
        "reset_button = Button(description=\"Reset\")\n",
        "\n",
        "def print_union():\n",
        "    \n",
        "    for item in criteria_list:\n",
        "        if item:\n",
        "            print(item)\n",
        "\n",
        "def print_intersection():\n",
        "    print(\"Column:    {}\\nAlgorithm: {}\\nLevel:     {}\".format(columns_field.value, algorithm_field.value, level_slider.value))\n",
        "\n",
        "\n",
        "\n",
        "def intersection_click(*args):\n",
        "    print_intersection()                          # prints what you just selected\n",
        "    criteria_list[criteria_list_index].append([columns_field.value, algorithm_field.value, level_slider.value])\n",
        "\n",
        "    # reset the columns, algorithm and level field\n",
        "    columns_field.value=\"None\"\n",
        "    algorithm_field.value=\"None\"\n",
        "    algorithm_field.disabled=True\n",
        "    level_slider.disabled=True\n",
        "    level_slider.value=0\n",
        "\n",
        "    union_button.disabled=False         # activate the union button so dict can be added to the criteria_union_list\n",
        "    \n",
        "\n",
        "def union_click(*args):\n",
        "    global criteria_list_index\n",
        "    if criteria_list_index < 6:\n",
        "        criteria_list_index += 1\n",
        "    else:\n",
        "        print(\"Criteria list full, update criteria list limit\")\n",
        "\n",
        "    # reset the columns, algorithm. Deactivate the algorithm and level dropdowns, and union button again\n",
        "    columns_field.value=\"None\"\n",
        "    algorithm_field.value=\"None\"\n",
        "    algorithm_field.disabled=True\n",
        "    level_slider.disabled=True\n",
        "    union_button.disabled=True\n",
        "    level_slider.value=0\n",
        "\n",
        "    print_union()\n",
        "\n",
        "def reset_click(*args):\n",
        "    # reset everything\n",
        "    criteria_list = [[] for _ in range(list_limit)]\n",
        "\n",
        "    columns_field.value=\"None\"\n",
        "    algorithm_field.value=\"None\"\n",
        "    algorithm_field.disabled=True\n",
        "    level_slider.disabled=True\n",
        "    union_button.disabled=True\n",
        "    level_slider.value=0\n",
        "    print(\"Criteria reset\")\n",
        "\n",
        "intersection_button.on_click(intersection_click)\n",
        "union_button.on_click(union_click)\n",
        "reset_button.on_click(reset_click)\n",
        "\n",
        "\n",
        "dropdown_list = HBox([columns_field, algorithm_field, level_slider])\n",
        "button_list = HBox([intersection_button, union_button, reset_button])\n",
        "VBox([dropdown_list, button_list])"
      ],
      "execution_count": 65,
      "outputs": [
        {
          "output_type": "display_data",
          "data": {
            "application/vnd.jupyter.widget-view+json": {
              "model_id": "e9a834dd2ec84c63a69ff87e89a4d88d",
              "version_minor": 0,
              "version_major": 2
            },
            "text/plain": [
              "VBox(children=(HBox(children=(Dropdown(options=('None', 'hivCaseReportNumber', 'name', 'fathersName', 'fathers…"
            ]
          },
          "metadata": {
            "tags": []
          }
        },
        {
          "output_type": "stream",
          "text": [
            "Column:    name\n",
            "Algorithm: Levenshtein Edit Distance\n",
            "Level:     2.0\n",
            "[['name', 'Levenshtein Edit Distance', 2.0]]\n",
            "Column:    fathersName\n",
            "Algorithm: Levenshtein Edit Distance\n",
            "Level:     2.0\n",
            "[['name', 'Levenshtein Edit Distance', 2.0]]\n",
            "[['fathersName', 'Levenshtein Edit Distance', 2.0]]\n"
          ],
          "name": "stdout"
        }
      ]
    },
    {
      "cell_type": "markdown",
      "metadata": {
        "id": "7_6BEz-viue8"
      },
      "source": [
        "1. Choose which column you want to block on.\n",
        "2. That enables you to choose which algorithm approach\n",
        "3. Depending on the algorithm (similairty, edit distance, phonetic match), this can allow for the level to be selected.\n",
        "4. To click on intersection adds it to the list. Any items added by intersection follow an 'and' rule where all must be true to return true.\n",
        "5. After selecting intersection, 'Union' is enabled to add an 'or' option between criteria.\n",
        "6. If an error occurs, click reset to empty the criteria_list.\n",
        "7. A maximum of 6 criteria within the union list can be added, there is no limit to the number of intersections that are required. This limit can be extended but it is not recommended.\n",
        "8. Do not forget to press 'Intersection' to add your selection to criteria_list."
      ]
    },
    {
      "cell_type": "code",
      "metadata": {
        "colab": {
          "base_uri": "https://localhost:8080/"
        },
        "id": "jgZIDvtN4UPC",
        "outputId": "cf90ffdc-277f-4c82-e35f-f88e41a58ed5"
      },
      "source": [
        "criteria_list = criteria_list[:criteria_list_index]\n",
        "\n",
        "for c in criteria_list:\n",
        "    if c:\n",
        "        print(c)"
      ],
      "execution_count": 79,
      "outputs": [
        {
          "output_type": "stream",
          "text": [
            "[['name', 'Levenshtein Edit Distance', 2.0]]\n",
            "[['fathersName', 'Levenshtein Edit Distance', 2.0]]\n"
          ],
          "name": "stdout"
        }
      ]
    },
    {
      "cell_type": "markdown",
      "metadata": {
        "id": "kUv0IzLKOgrF"
      },
      "source": [
        "Summarise the criteria list\n",
        "\n",
        "Options in the same line are being tested for the intersection (&&) e.g. record names macth and record father's names match to be true\n",
        "Options on different lines work in union (||)"
      ]
    },
    {
      "cell_type": "markdown",
      "metadata": {
        "id": "2uKqcY8xcbqJ"
      },
      "source": [
        "Basic table output for user to choose which columns they would like to block on using which algorithms\n",
        "\n",
        "Level of each blocking (edit ditance and similarity) to be included at a later stage."
      ]
    },
    {
      "cell_type": "markdown",
      "metadata": {
        "id": "thnu-LtFcTQ4"
      },
      "source": [
        "Extract the columns the user would like to test using the algorithms they have selected"
      ]
    },
    {
      "cell_type": "code",
      "metadata": {
        "id": "2C-uEHPCi5-v"
      },
      "source": [
        "def blocking(rec1, rec2, criteria_list):\n",
        "\n",
        "    for criteria in criteria_list:\n",
        "        if criteria:\n",
        "            intersection_count = 0\n",
        "            for option in criteria:\n",
        "                result = implement(rec1[column_identity(option[0])], rec2[column_identity(option[0])], option[1], option[2])\n",
        "                if result:\n",
        "                    intersection_count += 1\n",
        "            if intersection_count == len(criteria):\n",
        "                return True\n",
        "    return False\n"
      ],
      "execution_count": 80,
      "outputs": []
    },
    {
      "cell_type": "markdown",
      "metadata": {
        "id": "wt0eJLP6kRe9"
      },
      "source": [
        "Criteria_list has a list of union options that any can be fulfilled to block on\n",
        "\n",
        "Within each option are intersection options that all must be fulfilled to return true - so if intersection_count is the same as the length of criteria, then it will return true\n",
        "\n",
        "If any of these fail to return true, blocking return false on the records"
      ]
    },
    {
      "cell_type": "code",
      "metadata": {
        "id": "YPCScew6kG33"
      },
      "source": [
        "def implement(field1, field2, algorithm, level):\n",
        "\n",
        "    if algorithm == \"Exact Match\":\n",
        "        return compare_exact_match.compare(field1, field2)\n",
        "    elif algorithm == \"Jaro-Winkler Similarity\":\n",
        "        return compare_jaro_winkler.compare(field1, field2, level)\n",
        "    elif algorithm == \"Levenshtein Edit Distance\":\n",
        "        return compare_levenshtein.compare(field1, field2, level)\n",
        "    elif algorithm == \"Damerau-Levenshtein Edit Distance\":\n",
        "        return compare_damerau_levenshtein.compare(field1, field2, level)\n",
        "    elif algorithm == \"Jaccard Similarity\":\n",
        "        return compare_jaccard_similarity.compare(field1, field2, level)\n",
        "    elif algorithm == \"SoundEx\":\n",
        "        return compare_soundex.compare(field1, field2)\n",
        "    elif algorithm == \"Metaphone\":\n",
        "        return compare_metaphone.compare(field1, field2)\n",
        "    elif algorithm == \"Double Metaphone\":\n",
        "        return compare_double_metaphone.compare(field1, field2)\n",
        "    else:\n",
        "        return None"
      ],
      "execution_count": null,
      "outputs": []
    },
    {
      "cell_type": "markdown",
      "metadata": {
        "id": "OkPckb0ckxw5"
      },
      "source": [
        "Depending on what algorithm was chosen, will execute the .py files that were cloned from the GutHub repo with the level selected.\n",
        "\n",
        "Level can also be left out as the default values: edit distance = 2, similarity = 0.85"
      ]
    },
    {
      "cell_type": "code",
      "metadata": {
        "id": "q1mxvwvSkGvL"
      },
      "source": [
        "def missing_data(rec1, rec2, criteria_list):\n",
        "\n",
        "    for criteria in criteria_list:\n",
        "        if criteria:\n",
        "            for option in criteria:\n",
        "                if not rec1[column_identity(option[0])] or not rec2[column_identity(option[0])]:\n",
        "                    return True\n",
        "    return False"
      ],
      "execution_count": null,
      "outputs": []
    },
    {
      "cell_type": "markdown",
      "metadata": {
        "id": "22Ca_L7olGET"
      },
      "source": [
        "If failed to block using the algorithms, this checks if there was missing information and includes it if true. \n",
        "\n",
        "Cannot block against missing information.\n",
        "\n",
        "Would be faster if missing data were run first but this step is meant to see how well the blocking algorithms perform first before missing data inclusions is included"
      ]
    },
    {
      "cell_type": "code",
      "metadata": {
        "id": "ABcM-XqAkGle"
      },
      "source": [
        "def column_identity(name):\n",
        "\n",
        "    for ind, col_name in enumerate(columns):\n",
        "        if col_name == name:\n",
        "            return ind + 1"
      ],
      "execution_count": null,
      "outputs": []
    },
    {
      "cell_type": "markdown",
      "metadata": {
        "id": "X1w6E7zGlZhr"
      },
      "source": [
        "Returns the data_frame column index of variable name given"
      ]
    },
    {
      "cell_type": "code",
      "metadata": {
        "id": "WWxgO3GIu_C8",
        "cellView": "code"
      },
      "source": [
        "#@title Result summaries\n",
        "from IPython.display import HTML, display\n",
        "import tabulate\n",
        "\n",
        "\n",
        "def print_summary(runtime):\n",
        "\n",
        "    print(\"Blocking on the data from file {} with {} records using the following columns and algorithms:\".format(file_name, len(data_frame)-1))\n",
        "    for criteria in criteria_list:\n",
        "        print(\"{}\".format(criteria))\n",
        "    print(\"This method identified {} True Positive matches with a further {} positive matches in the missing data inclusion.\".format(true_pos, missing_pos))\n",
        "    print(\"{} False Negative matches and {} False Positive matches produce a recall rate of {} and precision of {}\".format(false_neg, false_pos, (true_pos + missing_pos) / (true_pos + missing_pos + false_neg), (true_pos + missing_pos) / (true_pos + missing_pos + false_pos)))\n",
        "    print(\"{} matches were excluded out of the {} total matches, providing a blocking efficiency of {}\".format(false_neg + true_neg, total_matches, (false_neg + true_neg) / total_matches))\n",
        "    print(\"Runtime = {}\".format(runtime))\n",
        "\n",
        "\n",
        "def print_summary_table(runtime):\n",
        "    data = [[\"Total matches\", total_matches],\n",
        "            [\"Matches excluded\", false_neg + true_neg],\n",
        "            [\"Missing data inclusions\", total_missing],\n",
        "            [\"Missing data positives\", missing_pos],\n",
        "            [\"Algorithm positives\", true_pos],\n",
        "            [\"Total true positives\", true_pos + missing_pos],   \n",
        "            [\"False negatives\", false_neg],\n",
        "            [\"False positives\", false_pos],\n",
        "            [\"Recall\", (true_pos + missing_pos) / (true_pos + missing_pos + false_neg)],\n",
        "            [\"Precision\", (true_pos + missing_pos) / (true_pos + missing_pos + false_pos)],\n",
        "            [\"Blocking efficiency\", (true_neg + false_neg) / total_matches],\n",
        "            [\"Runtime\", runtime]]\n",
        "    display(HTML(tabulate.tabulate(data, tablefmt='html')))\n"
      ],
      "execution_count": 81,
      "outputs": []
    },
    {
      "cell_type": "markdown",
      "metadata": {
        "id": "tsLzvRHNlk6n"
      },
      "source": [
        "Summary in paragraph form\n",
        "\n",
        "Summary in table form"
      ]
    },
    {
      "cell_type": "code",
      "metadata": {
        "id": "-UUTTGbwRmTQ",
        "colab": {
          "base_uri": "https://localhost:8080/",
          "height": 66,
          "referenced_widgets": [
            "23c2b2ceea7940da80e52b741127f12d",
            "b8264784600d441885183d91314454e5",
            "caa2ce41564e4b098db8987c1c5246f4",
            "b437a7333bef4b1e92f75485ee173dec",
            "a78ce0fcd5bf4bc78e31e943fd19614a",
            "f383308ae51b48e8bf1858b99692feca",
            "20933ebcb27640d58fe72c673b031cb9",
            "a7cf76d9bb71400f9f04946f7c0df5fe"
          ]
        },
        "outputId": "a4cbc57d-795e-43d8-d7fa-71e1e2b50efb"
      },
      "source": [
        "from time import time\n",
        "from tqdm.notebook import tqdm\n",
        "\n",
        "\n",
        "start_time = time()\n",
        "\n",
        "true_pos, false_neg, false_pos, true_neg = 0, 0, 0, 0\n",
        "total_matches = 0\n",
        "total_missing, missing_pos= 0, 0\n",
        "\n",
        "for i in tqdm(range(1, len(data_frame))):\n",
        "    for j in range(i+1, len(data_frame)):\n",
        "        total_matches += 1\n",
        "        match_bool = blocking(data_frame[i], data_frame[j], criteria_list)\n",
        "        if match_bool:\n",
        "            if data_frame[i][0][:12] == data_frame[j][0][:12]:\n",
        "                true_pos += 1\n",
        "            else:\n",
        "                false_pos += 1\n",
        "        elif missing_data(data_frame[i], data_frame[j], criteria_list):\n",
        "            total_missing += 1\n",
        "            if data_frame[i][0][:12] == data_frame[j][0][:12]:\n",
        "                missing_pos += 1\n",
        "            else:\n",
        "                false_pos += 1\n",
        "        else:\n",
        "            if data_frame[i][0][:12] == data_frame[j][0][:12]:\n",
        "                false_neg += 1\n",
        "            else:\n",
        "                true_neg += 1\n",
        "\n",
        "end_time = time()"
      ],
      "execution_count": 82,
      "outputs": [
        {
          "output_type": "display_data",
          "data": {
            "application/vnd.jupyter.widget-view+json": {
              "model_id": "23c2b2ceea7940da80e52b741127f12d",
              "version_minor": 0,
              "version_major": 2
            },
            "text/plain": [
              "HBox(children=(FloatProgress(value=0.0, max=1500.0), HTML(value='')))"
            ]
          },
          "metadata": {
            "tags": []
          }
        },
        {
          "output_type": "stream",
          "text": [
            "\n"
          ],
          "name": "stdout"
        }
      ]
    },
    {
      "cell_type": "markdown",
      "metadata": {
        "id": "YwaoamU2lqKw"
      },
      "source": [
        "Iterates through all combinations of records once, skipping repeated and unnecessary comparisons.\n",
        "\n",
        "tqdm provides a progress bar for the user to see how long it will take\n",
        "\n",
        "Each record pair is compared in the blocking function\n",
        "\n",
        "Keeps track of:\n",
        "true positives\n",
        "false positives\n",
        "true negatives\n",
        "false negatives\n",
        "missing data positives\n",
        "missing data inclusions\n",
        "total matches\n",
        "runtime"
      ]
    },
    {
      "cell_type": "code",
      "metadata": {
        "id": "UGOdzh3xSNhE",
        "cellView": "form"
      },
      "source": [
        "#@title Display results in paragraph format\n",
        "print_summary(end_time - start_time)"
      ],
      "execution_count": null,
      "outputs": []
    },
    {
      "cell_type": "code",
      "metadata": {
        "id": "qkhvzHnTUnoW",
        "cellView": "form"
      },
      "source": [
        "#@title Display results in table\n",
        "print_summary_table(end_time - start_time)"
      ],
      "execution_count": null,
      "outputs": []
    },
    {
      "cell_type": "code",
      "metadata": {
        "colab": {
          "base_uri": "https://localhost:8080/",
          "height": 383
        },
        "id": "ndbXuY5KMHb_",
        "cellView": "form",
        "outputId": "c19ba799-4cf8-40d0-ad44-c57fca2afdc8"
      },
      "source": [
        "#@title Display results in pie charts using matplotlib\n",
        "import matplotlib.pyplot as plt\n",
        "\n",
        "recall = (true_pos + missing_pos) / (true_pos + missing_pos + false_neg)\n",
        "recall_labels = [\"Recall\", \" \"]\n",
        "recall_sections = [recall, 1 - recall]\n",
        "\n",
        "\n",
        "precision = true_pos / (true_pos + false_pos + missing_pos)\n",
        "prec_labels = [\"Precision\", \" \"]\n",
        "prec_sections = [precision, 1 - precision]\n",
        "\n",
        "blocking_efficiency = (true_neg + false_neg) / total_matches \n",
        "be_labels = [\"Blocking efficiency\", \" \"]\n",
        "be_sections = [blocking_efficiency, 1 - blocking_efficiency]\n",
        "\n",
        "positives = [true_pos]\n",
        "pos_labels = [\"True positives\"]\n",
        "if missing_pos:\n",
        "    positives.append(missing_pos)\n",
        "    pos_labels.append(\"Missing data positives\")\n",
        "if false_neg:\n",
        "    positives.append(false_neg)\n",
        "    pos_labels.append(\"False positives\")\n",
        "\n",
        "fig, axes = plt.subplots(nrows=1, ncols=4, figsize=(30, 10))\n",
        "colors = [\"#6396e6\", \"#de73e6\"]\n",
        "\n",
        "\n",
        "axes[0].pie(recall_sections, \n",
        "        labels=recall_labels, \n",
        "        colors=colors, \n",
        "        startangle=90,\n",
        "        autopct='%1.4f%%')\n",
        "axes[1].pie(prec_sections, \n",
        "        labels=prec_labels, \n",
        "        colors=colors,\n",
        "        startangle=90, \n",
        "        autopct='%1.4f%%')\n",
        "axes[2].pie(be_sections, \n",
        "        labels=be_labels, \n",
        "        colors=colors, \n",
        "        startangle=90, \n",
        "        autopct='%1.4f%%')\n",
        "axes[3].pie(positives, \n",
        "            labels=pos_labels, \n",
        "            colors=[\"#6396e6\",\"#63e581\", \"#de73e6\"], \n",
        "            startangle=90,\n",
        "            autopct='%1.4f%%')\n",
        "\n",
        "plt.title(\"Pie charts showing Recall, Precision and Blocking Efficiency\")"
      ],
      "execution_count": 63,
      "outputs": [
        {
          "output_type": "execute_result",
          "data": {
            "text/plain": [
              "Text(0.5, 1.0, 'Pie charts showing Recall, Precision and Blocking Efficiency')"
            ]
          },
          "metadata": {
            "tags": []
          },
          "execution_count": 63
        },
        {
          "output_type": "display_data",
          "data": {
            "image/png": "[encoded data removed]",
            "text/plain": [
              "<Figure size 2160x720 with 4 Axes>"
            ]
          },
          "metadata": {
            "tags": []
          }
        }
      ]
    }
  ]
}
