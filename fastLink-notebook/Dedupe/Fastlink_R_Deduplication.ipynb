{
  "nbformat": 4,
  "nbformat_minor": 0,
  "metadata": {
    "colab": {
      "name": "Fastlink_R Deduplication.ipynb",
      "provenance": [],
      "collapsed_sections": [],
      "include_colab_link": true
    },
    "kernelspec": {
      "name": "python3",
      "display_name": "Python 3"
    },
    "language_info": {
      "name": "python"
    },
    "widgets": {
      "application/vnd.jupyter.widget-state+json": {
        "986fd2dde0224371a3b8f1d085a0538f": {
          "model_module": "@jupyter-widgets/controls",
          "model_name": "DropdownModel",
          "model_module_version": "1.5.0",
          "state": {
            "_options_labels": [
              "Upload from google drive",
              "Upload local file",
              "Use sample dataset"
            ],
            "_view_name": "DropdownView",
            "style": "IPY_MODEL_8697bb217f104097b7cc903bd3ac7f79",
            "_dom_classes": [],
            "description": "",
            "_model_name": "DropdownModel",
            "index": 1,
            "_view_module": "@jupyter-widgets/controls",
            "_model_module_version": "1.5.0",
            "_view_count": null,
            "disabled": false,
            "_view_module_version": "1.5.0",
            "description_tooltip": null,
            "_model_module": "@jupyter-widgets/controls",
            "layout": "IPY_MODEL_4294bb7732c94d48b4771427e1076699"
          }
        },
        "8697bb217f104097b7cc903bd3ac7f79": {
          "model_module": "@jupyter-widgets/controls",
          "model_name": "DescriptionStyleModel",
          "model_module_version": "1.5.0",
          "state": {
            "_view_name": "StyleView",
            "_model_name": "DescriptionStyleModel",
            "description_width": "",
            "_view_module": "@jupyter-widgets/base",
            "_model_module_version": "1.5.0",
            "_view_count": null,
            "_view_module_version": "1.2.0",
            "_model_module": "@jupyter-widgets/controls"
          }
        },
        "4294bb7732c94d48b4771427e1076699": {
          "model_module": "@jupyter-widgets/base",
          "model_name": "LayoutModel",
          "model_module_version": "1.2.0",
          "state": {
            "_view_name": "LayoutView",
            "grid_template_rows": null,
            "right": null,
            "justify_content": null,
            "_view_module": "@jupyter-widgets/base",
            "overflow": null,
            "_model_module_version": "1.2.0",
            "_view_count": null,
            "flex_flow": null,
            "width": null,
            "min_width": null,
            "border": null,
            "align_items": null,
            "bottom": null,
            "_model_module": "@jupyter-widgets/base",
            "top": null,
            "grid_column": null,
            "overflow_y": null,
            "overflow_x": null,
            "grid_auto_flow": null,
            "grid_area": null,
            "grid_template_columns": null,
            "flex": null,
            "_model_name": "LayoutModel",
            "justify_items": null,
            "grid_row": null,
            "max_height": null,
            "align_content": null,
            "visibility": null,
            "align_self": null,
            "height": null,
            "min_height": null,
            "padding": null,
            "grid_auto_rows": null,
            "grid_gap": null,
            "max_width": null,
            "order": null,
            "_view_module_version": "1.2.0",
            "grid_template_areas": null,
            "object_position": null,
            "object_fit": null,
            "grid_auto_columns": null,
            "margin": null,
            "display": null,
            "left": null
          }
        },
        "76082bea4b8f40ce8ef17ed9393a9ff9": {
          "model_module": "@jupyter-widgets/controls",
          "model_name": "DropdownModel",
          "model_module_version": "1.5.0",
          "state": {
            "_options_labels": [
              "source_system_id",
              "first_name",
              "last_name",
              "gender",
              "dob",
              "city",
              "phone_number",
              "national_id"
            ],
            "_view_name": "DropdownView",
            "style": "IPY_MODEL_d22d50a02ed14cbe8d0ec19bf75a1900",
            "_dom_classes": [],
            "description": "1. Choose your unique identifier:",
            "_model_name": "DropdownModel",
            "index": 0,
            "_view_module": "@jupyter-widgets/controls",
            "_model_module_version": "1.5.0",
            "_view_count": null,
            "disabled": false,
            "_view_module_version": "1.5.0",
            "description_tooltip": null,
            "_model_module": "@jupyter-widgets/controls",
            "layout": "IPY_MODEL_69bb28eeb08a40ffa5d7f8f974f01701"
          }
        },
        "d22d50a02ed14cbe8d0ec19bf75a1900": {
          "model_module": "@jupyter-widgets/controls",
          "model_name": "DescriptionStyleModel",
          "model_module_version": "1.5.0",
          "state": {
            "_view_name": "StyleView",
            "_model_name": "DescriptionStyleModel",
            "description_width": "initial",
            "_view_module": "@jupyter-widgets/base",
            "_model_module_version": "1.5.0",
            "_view_count": null,
            "_view_module_version": "1.2.0",
            "_model_module": "@jupyter-widgets/controls"
          }
        },
        "69bb28eeb08a40ffa5d7f8f974f01701": {
          "model_module": "@jupyter-widgets/base",
          "model_name": "LayoutModel",
          "model_module_version": "1.2.0",
          "state": {
            "_view_name": "LayoutView",
            "grid_template_rows": null,
            "right": null,
            "justify_content": null,
            "_view_module": "@jupyter-widgets/base",
            "overflow": null,
            "_model_module_version": "1.2.0",
            "_view_count": null,
            "flex_flow": null,
            "width": null,
            "min_width": null,
            "border": null,
            "align_items": null,
            "bottom": null,
            "_model_module": "@jupyter-widgets/base",
            "top": null,
            "grid_column": null,
            "overflow_y": null,
            "overflow_x": null,
            "grid_auto_flow": null,
            "grid_area": null,
            "grid_template_columns": null,
            "flex": null,
            "_model_name": "LayoutModel",
            "justify_items": null,
            "grid_row": null,
            "max_height": null,
            "align_content": null,
            "visibility": null,
            "align_self": null,
            "height": null,
            "min_height": null,
            "padding": null,
            "grid_auto_rows": null,
            "grid_gap": null,
            "max_width": null,
            "order": null,
            "_view_module_version": "1.2.0",
            "grid_template_areas": null,
            "object_position": null,
            "object_fit": null,
            "grid_auto_columns": null,
            "margin": null,
            "display": null,
            "left": null
          }
        },
        "3f3e7bf6bf2849b499fd8437948a5034": {
          "model_module": "@jupyter-widgets/controls",
          "model_name": "LabelModel",
          "model_module_version": "1.5.0",
          "state": {
            "_view_name": "LabelView",
            "style": "IPY_MODEL_a592f27495be408bba1f7e0361c87ece",
            "_dom_classes": [],
            "description": "",
            "_model_name": "LabelModel",
            "placeholder": "​",
            "_view_module": "@jupyter-widgets/controls",
            "_model_module_version": "1.5.0",
            "value": "2. Choose desired fields to exclude:",
            "_view_count": null,
            "_view_module_version": "1.5.0",
            "description_tooltip": null,
            "_model_module": "@jupyter-widgets/controls",
            "layout": "IPY_MODEL_28ee4059a81d490f872ea17b21823b96"
          }
        },
        "a592f27495be408bba1f7e0361c87ece": {
          "model_module": "@jupyter-widgets/controls",
          "model_name": "DescriptionStyleModel",
          "model_module_version": "1.5.0",
          "state": {
            "_view_name": "StyleView",
            "_model_name": "DescriptionStyleModel",
            "description_width": "",
            "_view_module": "@jupyter-widgets/base",
            "_model_module_version": "1.5.0",
            "_view_count": null,
            "_view_module_version": "1.2.0",
            "_model_module": "@jupyter-widgets/controls"
          }
        },
        "28ee4059a81d490f872ea17b21823b96": {
          "model_module": "@jupyter-widgets/base",
          "model_name": "LayoutModel",
          "model_module_version": "1.2.0",
          "state": {
            "_view_name": "LayoutView",
            "grid_template_rows": null,
            "right": null,
            "justify_content": null,
            "_view_module": "@jupyter-widgets/base",
            "overflow": null,
            "_model_module_version": "1.2.0",
            "_view_count": null,
            "flex_flow": null,
            "width": null,
            "min_width": null,
            "border": null,
            "align_items": null,
            "bottom": null,
            "_model_module": "@jupyter-widgets/base",
            "top": null,
            "grid_column": null,
            "overflow_y": null,
            "overflow_x": null,
            "grid_auto_flow": null,
            "grid_area": null,
            "grid_template_columns": null,
            "flex": null,
            "_model_name": "LayoutModel",
            "justify_items": null,
            "grid_row": null,
            "max_height": null,
            "align_content": null,
            "visibility": null,
            "align_self": null,
            "height": null,
            "min_height": null,
            "padding": null,
            "grid_auto_rows": null,
            "grid_gap": null,
            "max_width": null,
            "order": null,
            "_view_module_version": "1.2.0",
            "grid_template_areas": null,
            "object_position": null,
            "object_fit": null,
            "grid_auto_columns": null,
            "margin": null,
            "display": null,
            "left": null
          }
        },
        "8298cdef27d3450b845b8a8a5aee300c": {
          "model_module": "@jupyter-widgets/controls",
          "model_name": "CheckboxModel",
          "model_module_version": "1.5.0",
          "state": {
            "_view_name": "CheckboxView",
            "style": "IPY_MODEL_4dcde353942447c1acdd7bae370e84ba",
            "_dom_classes": [],
            "description": "source_system_id",
            "_model_name": "CheckboxModel",
            "_view_module": "@jupyter-widgets/controls",
            "_model_module_version": "1.5.0",
            "value": true,
            "_view_count": null,
            "disabled": false,
            "_view_module_version": "1.5.0",
            "indent": false,
            "description_tooltip": null,
            "_model_module": "@jupyter-widgets/controls",
            "layout": "IPY_MODEL_0ab2aa42639f4a0fb1b86edeb46ee88c"
          }
        },
        "4dcde353942447c1acdd7bae370e84ba": {
          "model_module": "@jupyter-widgets/controls",
          "model_name": "DescriptionStyleModel",
          "model_module_version": "1.5.0",
          "state": {
            "_view_name": "StyleView",
            "_model_name": "DescriptionStyleModel",
            "description_width": "",
            "_view_module": "@jupyter-widgets/base",
            "_model_module_version": "1.5.0",
            "_view_count": null,
            "_view_module_version": "1.2.0",
            "_model_module": "@jupyter-widgets/controls"
          }
        },
        "0ab2aa42639f4a0fb1b86edeb46ee88c": {
          "model_module": "@jupyter-widgets/base",
          "model_name": "LayoutModel",
          "model_module_version": "1.2.0",
          "state": {
            "_view_name": "LayoutView",
            "grid_template_rows": null,
            "right": null,
            "justify_content": null,
            "_view_module": "@jupyter-widgets/base",
            "overflow": null,
            "_model_module_version": "1.2.0",
            "_view_count": null,
            "flex_flow": null,
            "width": null,
            "min_width": null,
            "border": null,
            "align_items": null,
            "bottom": null,
            "_model_module": "@jupyter-widgets/base",
            "top": null,
            "grid_column": null,
            "overflow_y": null,
            "overflow_x": null,
            "grid_auto_flow": null,
            "grid_area": null,
            "grid_template_columns": null,
            "flex": null,
            "_model_name": "LayoutModel",
            "justify_items": null,
            "grid_row": null,
            "max_height": null,
            "align_content": null,
            "visibility": null,
            "align_self": null,
            "height": null,
            "min_height": null,
            "padding": null,
            "grid_auto_rows": null,
            "grid_gap": null,
            "max_width": null,
            "order": null,
            "_view_module_version": "1.2.0",
            "grid_template_areas": null,
            "object_position": null,
            "object_fit": null,
            "grid_auto_columns": null,
            "margin": null,
            "display": null,
            "left": null
          }
        },
        "8ade3eec7db04e9fb361c329748b52d9": {
          "model_module": "@jupyter-widgets/controls",
          "model_name": "CheckboxModel",
          "model_module_version": "1.5.0",
          "state": {
            "_view_name": "CheckboxView",
            "style": "IPY_MODEL_0eb77a3a7a244cfcb382816d0ac51b21",
            "_dom_classes": [],
            "description": "first_name",
            "_model_name": "CheckboxModel",
            "_view_module": "@jupyter-widgets/controls",
            "_model_module_version": "1.5.0",
            "value": false,
            "_view_count": null,
            "disabled": false,
            "_view_module_version": "1.5.0",
            "indent": false,
            "description_tooltip": null,
            "_model_module": "@jupyter-widgets/controls",
            "layout": "IPY_MODEL_f571ea5ea6c14538a9d430ca90e45189"
          }
        },
        "0eb77a3a7a244cfcb382816d0ac51b21": {
          "model_module": "@jupyter-widgets/controls",
          "model_name": "DescriptionStyleModel",
          "model_module_version": "1.5.0",
          "state": {
            "_view_name": "StyleView",
            "_model_name": "DescriptionStyleModel",
            "description_width": "",
            "_view_module": "@jupyter-widgets/base",
            "_model_module_version": "1.5.0",
            "_view_count": null,
            "_view_module_version": "1.2.0",
            "_model_module": "@jupyter-widgets/controls"
          }
        },
        "f571ea5ea6c14538a9d430ca90e45189": {
          "model_module": "@jupyter-widgets/base",
          "model_name": "LayoutModel",
          "model_module_version": "1.2.0",
          "state": {
            "_view_name": "LayoutView",
            "grid_template_rows": null,
            "right": null,
            "justify_content": null,
            "_view_module": "@jupyter-widgets/base",
            "overflow": null,
            "_model_module_version": "1.2.0",
            "_view_count": null,
            "flex_flow": null,
            "width": null,
            "min_width": null,
            "border": null,
            "align_items": null,
            "bottom": null,
            "_model_module": "@jupyter-widgets/base",
            "top": null,
            "grid_column": null,
            "overflow_y": null,
            "overflow_x": null,
            "grid_auto_flow": null,
            "grid_area": null,
            "grid_template_columns": null,
            "flex": null,
            "_model_name": "LayoutModel",
            "justify_items": null,
            "grid_row": null,
            "max_height": null,
            "align_content": null,
            "visibility": null,
            "align_self": null,
            "height": null,
            "min_height": null,
            "padding": null,
            "grid_auto_rows": null,
            "grid_gap": null,
            "max_width": null,
            "order": null,
            "_view_module_version": "1.2.0",
            "grid_template_areas": null,
            "object_position": null,
            "object_fit": null,
            "grid_auto_columns": null,
            "margin": null,
            "display": null,
            "left": null
          }
        },
        "423fc3180df5436bb5b2bbd735c12abc": {
          "model_module": "@jupyter-widgets/controls",
          "model_name": "CheckboxModel",
          "model_module_version": "1.5.0",
          "state": {
            "_view_name": "CheckboxView",
            "style": "IPY_MODEL_00413078bbfb47fe9457b9e8d9f709ce",
            "_dom_classes": [],
            "description": "last_name",
            "_model_name": "CheckboxModel",
            "_view_module": "@jupyter-widgets/controls",
            "_model_module_version": "1.5.0",
            "value": false,
            "_view_count": null,
            "disabled": false,
            "_view_module_version": "1.5.0",
            "indent": false,
            "description_tooltip": null,
            "_model_module": "@jupyter-widgets/controls",
            "layout": "IPY_MODEL_9950d1ec4e7a4d6a868cc2150858ff8c"
          }
        },
        "00413078bbfb47fe9457b9e8d9f709ce": {
          "model_module": "@jupyter-widgets/controls",
          "model_name": "DescriptionStyleModel",
          "model_module_version": "1.5.0",
          "state": {
            "_view_name": "StyleView",
            "_model_name": "DescriptionStyleModel",
            "description_width": "",
            "_view_module": "@jupyter-widgets/base",
            "_model_module_version": "1.5.0",
            "_view_count": null,
            "_view_module_version": "1.2.0",
            "_model_module": "@jupyter-widgets/controls"
          }
        },
        "9950d1ec4e7a4d6a868cc2150858ff8c": {
          "model_module": "@jupyter-widgets/base",
          "model_name": "LayoutModel",
          "model_module_version": "1.2.0",
          "state": {
            "_view_name": "LayoutView",
            "grid_template_rows": null,
            "right": null,
            "justify_content": null,
            "_view_module": "@jupyter-widgets/base",
            "overflow": null,
            "_model_module_version": "1.2.0",
            "_view_count": null,
            "flex_flow": null,
            "width": null,
            "min_width": null,
            "border": null,
            "align_items": null,
            "bottom": null,
            "_model_module": "@jupyter-widgets/base",
            "top": null,
            "grid_column": null,
            "overflow_y": null,
            "overflow_x": null,
            "grid_auto_flow": null,
            "grid_area": null,
            "grid_template_columns": null,
            "flex": null,
            "_model_name": "LayoutModel",
            "justify_items": null,
            "grid_row": null,
            "max_height": null,
            "align_content": null,
            "visibility": null,
            "align_self": null,
            "height": null,
            "min_height": null,
            "padding": null,
            "grid_auto_rows": null,
            "grid_gap": null,
            "max_width": null,
            "order": null,
            "_view_module_version": "1.2.0",
            "grid_template_areas": null,
            "object_position": null,
            "object_fit": null,
            "grid_auto_columns": null,
            "margin": null,
            "display": null,
            "left": null
          }
        },
        "4c7569fa2f604609857690c0a7f4d0b5": {
          "model_module": "@jupyter-widgets/controls",
          "model_name": "CheckboxModel",
          "model_module_version": "1.5.0",
          "state": {
            "_view_name": "CheckboxView",
            "style": "IPY_MODEL_07c7f554116946c287ccc28ab138b859",
            "_dom_classes": [],
            "description": "gender",
            "_model_name": "CheckboxModel",
            "_view_module": "@jupyter-widgets/controls",
            "_model_module_version": "1.5.0",
            "value": false,
            "_view_count": null,
            "disabled": false,
            "_view_module_version": "1.5.0",
            "indent": false,
            "description_tooltip": null,
            "_model_module": "@jupyter-widgets/controls",
            "layout": "IPY_MODEL_3425e811800b43d89edd7f9323672eab"
          }
        },
        "07c7f554116946c287ccc28ab138b859": {
          "model_module": "@jupyter-widgets/controls",
          "model_name": "DescriptionStyleModel",
          "model_module_version": "1.5.0",
          "state": {
            "_view_name": "StyleView",
            "_model_name": "DescriptionStyleModel",
            "description_width": "",
            "_view_module": "@jupyter-widgets/base",
            "_model_module_version": "1.5.0",
            "_view_count": null,
            "_view_module_version": "1.2.0",
            "_model_module": "@jupyter-widgets/controls"
          }
        },
        "3425e811800b43d89edd7f9323672eab": {
          "model_module": "@jupyter-widgets/base",
          "model_name": "LayoutModel",
          "model_module_version": "1.2.0",
          "state": {
            "_view_name": "LayoutView",
            "grid_template_rows": null,
            "right": null,
            "justify_content": null,
            "_view_module": "@jupyter-widgets/base",
            "overflow": null,
            "_model_module_version": "1.2.0",
            "_view_count": null,
            "flex_flow": null,
            "width": null,
            "min_width": null,
            "border": null,
            "align_items": null,
            "bottom": null,
            "_model_module": "@jupyter-widgets/base",
            "top": null,
            "grid_column": null,
            "overflow_y": null,
            "overflow_x": null,
            "grid_auto_flow": null,
            "grid_area": null,
            "grid_template_columns": null,
            "flex": null,
            "_model_name": "LayoutModel",
            "justify_items": null,
            "grid_row": null,
            "max_height": null,
            "align_content": null,
            "visibility": null,
            "align_self": null,
            "height": null,
            "min_height": null,
            "padding": null,
            "grid_auto_rows": null,
            "grid_gap": null,
            "max_width": null,
            "order": null,
            "_view_module_version": "1.2.0",
            "grid_template_areas": null,
            "object_position": null,
            "object_fit": null,
            "grid_auto_columns": null,
            "margin": null,
            "display": null,
            "left": null
          }
        },
        "c68b4d7940fc45e0afe7419adb0b3f8e": {
          "model_module": "@jupyter-widgets/controls",
          "model_name": "CheckboxModel",
          "model_module_version": "1.5.0",
          "state": {
            "_view_name": "CheckboxView",
            "style": "IPY_MODEL_534838ba78fd4e47b8eb3fe4389187f9",
            "_dom_classes": [],
            "description": "dob",
            "_model_name": "CheckboxModel",
            "_view_module": "@jupyter-widgets/controls",
            "_model_module_version": "1.5.0",
            "value": false,
            "_view_count": null,
            "disabled": false,
            "_view_module_version": "1.5.0",
            "indent": false,
            "description_tooltip": null,
            "_model_module": "@jupyter-widgets/controls",
            "layout": "IPY_MODEL_a1fc103f96b141e996e3806a819ea9f8"
          }
        },
        "534838ba78fd4e47b8eb3fe4389187f9": {
          "model_module": "@jupyter-widgets/controls",
          "model_name": "DescriptionStyleModel",
          "model_module_version": "1.5.0",
          "state": {
            "_view_name": "StyleView",
            "_model_name": "DescriptionStyleModel",
            "description_width": "",
            "_view_module": "@jupyter-widgets/base",
            "_model_module_version": "1.5.0",
            "_view_count": null,
            "_view_module_version": "1.2.0",
            "_model_module": "@jupyter-widgets/controls"
          }
        },
        "a1fc103f96b141e996e3806a819ea9f8": {
          "model_module": "@jupyter-widgets/base",
          "model_name": "LayoutModel",
          "model_module_version": "1.2.0",
          "state": {
            "_view_name": "LayoutView",
            "grid_template_rows": null,
            "right": null,
            "justify_content": null,
            "_view_module": "@jupyter-widgets/base",
            "overflow": null,
            "_model_module_version": "1.2.0",
            "_view_count": null,
            "flex_flow": null,
            "width": null,
            "min_width": null,
            "border": null,
            "align_items": null,
            "bottom": null,
            "_model_module": "@jupyter-widgets/base",
            "top": null,
            "grid_column": null,
            "overflow_y": null,
            "overflow_x": null,
            "grid_auto_flow": null,
            "grid_area": null,
            "grid_template_columns": null,
            "flex": null,
            "_model_name": "LayoutModel",
            "justify_items": null,
            "grid_row": null,
            "max_height": null,
            "align_content": null,
            "visibility": null,
            "align_self": null,
            "height": null,
            "min_height": null,
            "padding": null,
            "grid_auto_rows": null,
            "grid_gap": null,
            "max_width": null,
            "order": null,
            "_view_module_version": "1.2.0",
            "grid_template_areas": null,
            "object_position": null,
            "object_fit": null,
            "grid_auto_columns": null,
            "margin": null,
            "display": null,
            "left": null
          }
        },
        "01bb8e41bd12410c9bf5bdb95c97bbf4": {
          "model_module": "@jupyter-widgets/controls",
          "model_name": "CheckboxModel",
          "model_module_version": "1.5.0",
          "state": {
            "_view_name": "CheckboxView",
            "style": "IPY_MODEL_b462cc4058db43e18eefdd7ca9375428",
            "_dom_classes": [],
            "description": "city",
            "_model_name": "CheckboxModel",
            "_view_module": "@jupyter-widgets/controls",
            "_model_module_version": "1.5.0",
            "value": false,
            "_view_count": null,
            "disabled": false,
            "_view_module_version": "1.5.0",
            "indent": false,
            "description_tooltip": null,
            "_model_module": "@jupyter-widgets/controls",
            "layout": "IPY_MODEL_ffe7da2ccf0b45c5ae36a22811d2c746"
          }
        },
        "b462cc4058db43e18eefdd7ca9375428": {
          "model_module": "@jupyter-widgets/controls",
          "model_name": "DescriptionStyleModel",
          "model_module_version": "1.5.0",
          "state": {
            "_view_name": "StyleView",
            "_model_name": "DescriptionStyleModel",
            "description_width": "",
            "_view_module": "@jupyter-widgets/base",
            "_model_module_version": "1.5.0",
            "_view_count": null,
            "_view_module_version": "1.2.0",
            "_model_module": "@jupyter-widgets/controls"
          }
        },
        "ffe7da2ccf0b45c5ae36a22811d2c746": {
          "model_module": "@jupyter-widgets/base",
          "model_name": "LayoutModel",
          "model_module_version": "1.2.0",
          "state": {
            "_view_name": "LayoutView",
            "grid_template_rows": null,
            "right": null,
            "justify_content": null,
            "_view_module": "@jupyter-widgets/base",
            "overflow": null,
            "_model_module_version": "1.2.0",
            "_view_count": null,
            "flex_flow": null,
            "width": null,
            "min_width": null,
            "border": null,
            "align_items": null,
            "bottom": null,
            "_model_module": "@jupyter-widgets/base",
            "top": null,
            "grid_column": null,
            "overflow_y": null,
            "overflow_x": null,
            "grid_auto_flow": null,
            "grid_area": null,
            "grid_template_columns": null,
            "flex": null,
            "_model_name": "LayoutModel",
            "justify_items": null,
            "grid_row": null,
            "max_height": null,
            "align_content": null,
            "visibility": null,
            "align_self": null,
            "height": null,
            "min_height": null,
            "padding": null,
            "grid_auto_rows": null,
            "grid_gap": null,
            "max_width": null,
            "order": null,
            "_view_module_version": "1.2.0",
            "grid_template_areas": null,
            "object_position": null,
            "object_fit": null,
            "grid_auto_columns": null,
            "margin": null,
            "display": null,
            "left": null
          }
        },
        "5d6d2dba8ef34f43bfb16c96d57ec5f5": {
          "model_module": "@jupyter-widgets/controls",
          "model_name": "CheckboxModel",
          "model_module_version": "1.5.0",
          "state": {
            "_view_name": "CheckboxView",
            "style": "IPY_MODEL_5f5df1b9e3cd47cda7cd2a0505f5c31f",
            "_dom_classes": [],
            "description": "phone_number",
            "_model_name": "CheckboxModel",
            "_view_module": "@jupyter-widgets/controls",
            "_model_module_version": "1.5.0",
            "value": false,
            "_view_count": null,
            "disabled": false,
            "_view_module_version": "1.5.0",
            "indent": false,
            "description_tooltip": null,
            "_model_module": "@jupyter-widgets/controls",
            "layout": "IPY_MODEL_f7b3fea7873c4070b3f16ff4acae4042"
          }
        },
        "5f5df1b9e3cd47cda7cd2a0505f5c31f": {
          "model_module": "@jupyter-widgets/controls",
          "model_name": "DescriptionStyleModel",
          "model_module_version": "1.5.0",
          "state": {
            "_view_name": "StyleView",
            "_model_name": "DescriptionStyleModel",
            "description_width": "",
            "_view_module": "@jupyter-widgets/base",
            "_model_module_version": "1.5.0",
            "_view_count": null,
            "_view_module_version": "1.2.0",
            "_model_module": "@jupyter-widgets/controls"
          }
        },
        "f7b3fea7873c4070b3f16ff4acae4042": {
          "model_module": "@jupyter-widgets/base",
          "model_name": "LayoutModel",
          "model_module_version": "1.2.0",
          "state": {
            "_view_name": "LayoutView",
            "grid_template_rows": null,
            "right": null,
            "justify_content": null,
            "_view_module": "@jupyter-widgets/base",
            "overflow": null,
            "_model_module_version": "1.2.0",
            "_view_count": null,
            "flex_flow": null,
            "width": null,
            "min_width": null,
            "border": null,
            "align_items": null,
            "bottom": null,
            "_model_module": "@jupyter-widgets/base",
            "top": null,
            "grid_column": null,
            "overflow_y": null,
            "overflow_x": null,
            "grid_auto_flow": null,
            "grid_area": null,
            "grid_template_columns": null,
            "flex": null,
            "_model_name": "LayoutModel",
            "justify_items": null,
            "grid_row": null,
            "max_height": null,
            "align_content": null,
            "visibility": null,
            "align_self": null,
            "height": null,
            "min_height": null,
            "padding": null,
            "grid_auto_rows": null,
            "grid_gap": null,
            "max_width": null,
            "order": null,
            "_view_module_version": "1.2.0",
            "grid_template_areas": null,
            "object_position": null,
            "object_fit": null,
            "grid_auto_columns": null,
            "margin": null,
            "display": null,
            "left": null
          }
        },
        "40f7ce25e04a41f191c9d5c065e37ce6": {
          "model_module": "@jupyter-widgets/controls",
          "model_name": "CheckboxModel",
          "model_module_version": "1.5.0",
          "state": {
            "_view_name": "CheckboxView",
            "style": "IPY_MODEL_c4373bb07d304d5d9248a92d62b17d0c",
            "_dom_classes": [],
            "description": "national_id",
            "_model_name": "CheckboxModel",
            "_view_module": "@jupyter-widgets/controls",
            "_model_module_version": "1.5.0",
            "value": false,
            "_view_count": null,
            "disabled": false,
            "_view_module_version": "1.5.0",
            "indent": false,
            "description_tooltip": null,
            "_model_module": "@jupyter-widgets/controls",
            "layout": "IPY_MODEL_8269ed422acd4787ba8d70025156e52c"
          }
        },
        "c4373bb07d304d5d9248a92d62b17d0c": {
          "model_module": "@jupyter-widgets/controls",
          "model_name": "DescriptionStyleModel",
          "model_module_version": "1.5.0",
          "state": {
            "_view_name": "StyleView",
            "_model_name": "DescriptionStyleModel",
            "description_width": "",
            "_view_module": "@jupyter-widgets/base",
            "_model_module_version": "1.5.0",
            "_view_count": null,
            "_view_module_version": "1.2.0",
            "_model_module": "@jupyter-widgets/controls"
          }
        },
        "8269ed422acd4787ba8d70025156e52c": {
          "model_module": "@jupyter-widgets/base",
          "model_name": "LayoutModel",
          "model_module_version": "1.2.0",
          "state": {
            "_view_name": "LayoutView",
            "grid_template_rows": null,
            "right": null,
            "justify_content": null,
            "_view_module": "@jupyter-widgets/base",
            "overflow": null,
            "_model_module_version": "1.2.0",
            "_view_count": null,
            "flex_flow": null,
            "width": null,
            "min_width": null,
            "border": null,
            "align_items": null,
            "bottom": null,
            "_model_module": "@jupyter-widgets/base",
            "top": null,
            "grid_column": null,
            "overflow_y": null,
            "overflow_x": null,
            "grid_auto_flow": null,
            "grid_area": null,
            "grid_template_columns": null,
            "flex": null,
            "_model_name": "LayoutModel",
            "justify_items": null,
            "grid_row": null,
            "max_height": null,
            "align_content": null,
            "visibility": null,
            "align_self": null,
            "height": null,
            "min_height": null,
            "padding": null,
            "grid_auto_rows": null,
            "grid_gap": null,
            "max_width": null,
            "order": null,
            "_view_module_version": "1.2.0",
            "grid_template_areas": null,
            "object_position": null,
            "object_fit": null,
            "grid_auto_columns": null,
            "margin": null,
            "display": null,
            "left": null
          }
        },
        "31644963548d43dca59a41aa4482be7d": {
          "model_module": "@jupyter-widgets/controls",
          "model_name": "DropdownModel",
          "model_module_version": "1.5.0",
          "state": {
            "_options_labels": [
              "Jaro-Winkler",
              "Jaro",
              "Levensthein"
            ],
            "_view_name": "DropdownView",
            "style": "IPY_MODEL_74ba69fee8984353a743cbe1fa4aff5e",
            "_dom_classes": [],
            "description": "3. Choose your string-distance method:",
            "_model_name": "DropdownModel",
            "index": 0,
            "_view_module": "@jupyter-widgets/controls",
            "_model_module_version": "1.5.0",
            "_view_count": null,
            "disabled": false,
            "_view_module_version": "1.5.0",
            "description_tooltip": null,
            "_model_module": "@jupyter-widgets/controls",
            "layout": "IPY_MODEL_1e7489bd1970419ca4cd0d8410e96ef7"
          }
        },
        "74ba69fee8984353a743cbe1fa4aff5e": {
          "model_module": "@jupyter-widgets/controls",
          "model_name": "DescriptionStyleModel",
          "model_module_version": "1.5.0",
          "state": {
            "_view_name": "StyleView",
            "_model_name": "DescriptionStyleModel",
            "description_width": "initial",
            "_view_module": "@jupyter-widgets/base",
            "_model_module_version": "1.5.0",
            "_view_count": null,
            "_view_module_version": "1.2.0",
            "_model_module": "@jupyter-widgets/controls"
          }
        },
        "1e7489bd1970419ca4cd0d8410e96ef7": {
          "model_module": "@jupyter-widgets/base",
          "model_name": "LayoutModel",
          "model_module_version": "1.2.0",
          "state": {
            "_view_name": "LayoutView",
            "grid_template_rows": null,
            "right": null,
            "justify_content": null,
            "_view_module": "@jupyter-widgets/base",
            "overflow": null,
            "_model_module_version": "1.2.0",
            "_view_count": null,
            "flex_flow": null,
            "width": "400px",
            "min_width": null,
            "border": null,
            "align_items": null,
            "bottom": null,
            "_model_module": "@jupyter-widgets/base",
            "top": null,
            "grid_column": null,
            "overflow_y": null,
            "overflow_x": null,
            "grid_auto_flow": null,
            "grid_area": null,
            "grid_template_columns": null,
            "flex": null,
            "_model_name": "LayoutModel",
            "justify_items": null,
            "grid_row": null,
            "max_height": null,
            "align_content": null,
            "visibility": null,
            "align_self": null,
            "height": null,
            "min_height": null,
            "padding": null,
            "grid_auto_rows": null,
            "grid_gap": null,
            "max_width": null,
            "order": null,
            "_view_module_version": "1.2.0",
            "grid_template_areas": null,
            "object_position": null,
            "object_fit": null,
            "grid_auto_columns": null,
            "margin": null,
            "display": null,
            "left": null
          }
        },
        "835360c905854e748737e58b3a555ae4": {
          "model_module": "@jupyter-widgets/controls",
          "model_name": "LabelModel",
          "model_module_version": "1.5.0",
          "state": {
            "_view_name": "LabelView",
            "style": "IPY_MODEL_d8bdbef01c594969a46e6b2e42126650",
            "_dom_classes": [],
            "description": "",
            "_model_name": "LabelModel",
            "placeholder": "​",
            "_view_module": "@jupyter-widgets/controls",
            "_model_module_version": "1.5.0",
            "value": "4. Select upper and lower bounds:",
            "_view_count": null,
            "_view_module_version": "1.5.0",
            "description_tooltip": null,
            "_model_module": "@jupyter-widgets/controls",
            "layout": "IPY_MODEL_b753a46dac094726a231197aeee56ca6"
          }
        },
        "d8bdbef01c594969a46e6b2e42126650": {
          "model_module": "@jupyter-widgets/controls",
          "model_name": "DescriptionStyleModel",
          "model_module_version": "1.5.0",
          "state": {
            "_view_name": "StyleView",
            "_model_name": "DescriptionStyleModel",
            "description_width": "",
            "_view_module": "@jupyter-widgets/base",
            "_model_module_version": "1.5.0",
            "_view_count": null,
            "_view_module_version": "1.2.0",
            "_model_module": "@jupyter-widgets/controls"
          }
        },
        "b753a46dac094726a231197aeee56ca6": {
          "model_module": "@jupyter-widgets/base",
          "model_name": "LayoutModel",
          "model_module_version": "1.2.0",
          "state": {
            "_view_name": "LayoutView",
            "grid_template_rows": null,
            "right": null,
            "justify_content": null,
            "_view_module": "@jupyter-widgets/base",
            "overflow": null,
            "_model_module_version": "1.2.0",
            "_view_count": null,
            "flex_flow": null,
            "width": null,
            "min_width": null,
            "border": null,
            "align_items": null,
            "bottom": null,
            "_model_module": "@jupyter-widgets/base",
            "top": null,
            "grid_column": null,
            "overflow_y": null,
            "overflow_x": null,
            "grid_auto_flow": null,
            "grid_area": null,
            "grid_template_columns": null,
            "flex": null,
            "_model_name": "LayoutModel",
            "justify_items": null,
            "grid_row": null,
            "max_height": null,
            "align_content": null,
            "visibility": null,
            "align_self": null,
            "height": null,
            "min_height": null,
            "padding": null,
            "grid_auto_rows": null,
            "grid_gap": null,
            "max_width": null,
            "order": null,
            "_view_module_version": "1.2.0",
            "grid_template_areas": null,
            "object_position": null,
            "object_fit": null,
            "grid_auto_columns": null,
            "margin": null,
            "display": null,
            "left": null
          }
        },
        "15a26c00c5894c3b872cbb237ce012a4": {
          "model_module": "@jupyter-widgets/controls",
          "model_name": "FloatRangeSliderModel",
          "model_module_version": "1.5.0",
          "state": {
            "_view_name": "FloatRangeSliderView",
            "style": "IPY_MODEL_36b99f7d9af145c8a180867fd7f44a3f",
            "_dom_classes": [],
            "description": "",
            "step": 0.01,
            "_model_name": "FloatRangeSliderModel",
            "orientation": "horizontal",
            "max": 1,
            "_view_module": "@jupyter-widgets/controls",
            "_model_module_version": "1.5.0",
            "value": [
              0.88,
              0.94
            ],
            "_view_count": null,
            "disabled": false,
            "_view_module_version": "1.5.0",
            "min": 0,
            "continuous_update": false,
            "readout_format": ".2f",
            "description_tooltip": null,
            "readout": true,
            "_model_module": "@jupyter-widgets/controls",
            "layout": "IPY_MODEL_a1354146a5dd4ddfa6e1118f471e31a8"
          }
        },
        "36b99f7d9af145c8a180867fd7f44a3f": {
          "model_module": "@jupyter-widgets/controls",
          "model_name": "SliderStyleModel",
          "model_module_version": "1.5.0",
          "state": {
            "_view_name": "StyleView",
            "handle_color": null,
            "_model_name": "SliderStyleModel",
            "description_width": "",
            "_view_module": "@jupyter-widgets/base",
            "_model_module_version": "1.5.0",
            "_view_count": null,
            "_view_module_version": "1.2.0",
            "_model_module": "@jupyter-widgets/controls"
          }
        },
        "a1354146a5dd4ddfa6e1118f471e31a8": {
          "model_module": "@jupyter-widgets/base",
          "model_name": "LayoutModel",
          "model_module_version": "1.2.0",
          "state": {
            "_view_name": "LayoutView",
            "grid_template_rows": null,
            "right": null,
            "justify_content": null,
            "_view_module": "@jupyter-widgets/base",
            "overflow": null,
            "_model_module_version": "1.2.0",
            "_view_count": null,
            "flex_flow": null,
            "width": null,
            "min_width": null,
            "border": null,
            "align_items": null,
            "bottom": null,
            "_model_module": "@jupyter-widgets/base",
            "top": null,
            "grid_column": null,
            "overflow_y": null,
            "overflow_x": null,
            "grid_auto_flow": null,
            "grid_area": null,
            "grid_template_columns": null,
            "flex": null,
            "_model_name": "LayoutModel",
            "justify_items": null,
            "grid_row": null,
            "max_height": null,
            "align_content": null,
            "visibility": null,
            "align_self": null,
            "height": null,
            "min_height": null,
            "padding": null,
            "grid_auto_rows": null,
            "grid_gap": null,
            "max_width": null,
            "order": null,
            "_view_module_version": "1.2.0",
            "grid_template_areas": null,
            "object_position": null,
            "object_fit": null,
            "grid_auto_columns": null,
            "margin": null,
            "display": null,
            "left": null
          }
        }
      }
    }
  },
  "cells": [
    {
      "cell_type": "markdown",
      "metadata": {
        "id": "view-in-github",
        "colab_type": "text"
      },
      "source": [
        "<a href=\"https://colab.research.google.com/github/jembi/mpi-toolkit-notebook/blob/fastlink_dedupe/fastLink-notebook/Dedupe/Fastlink_R_Deduplication.ipynb\" target=\"_parent\"><img src=\"https://colab.research.google.com/assets/colab-badge.svg\" alt=\"Open In Colab\"/></a>"
      ]
    },
    {
      "cell_type": "markdown",
      "metadata": {
        "id": "xsc4EGp2l693"
      },
      "source": [
        "![Logos.png](data:image/png;base64,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)"
      ]
    },
    {
      "cell_type": "markdown",
      "metadata": {
        "id": "oDmqydxyi9DR"
      },
      "source": [
        "# **<font color=\"#007f68\"> Fastlink_R (Deduplication) Notebook**"
      ]
    },
    {
      "cell_type": "markdown",
      "metadata": {
        "id": "Q_cg5M90C81I"
      },
      "source": [
        "Fastlink is an implementation of the traditional Fellegi-Sunter approach to record linkage. This deduplication approach uses comparisons of the shared fields between records within a single dataset (ie, first name, last name, year of birth, month of birth, day of birth, gender, and race) to compute the conditional probability that each record pair is a match. Record pairs are classified as matches or nonmatches based on thresholding these conditional probabilities. "
      ]
    },
    {
      "cell_type": "markdown",
      "metadata": {
        "id": "qf0nGX0RqmoU"
      },
      "source": [
        "## <font color=\"#007f68\">Links to other MPI-toolkit Notebooks:\n",
        "[Directory](https://colab.research.google.com/drive/1TqQ5sklvhw8I1f5m49ob-WTFfBtiElfs#scrollTo=M5NmyYErfDvt)\n",
        "\n",
        "[Data Generator](https://colab.research.google.com/drive/1f1nnThx7sV47R_bbHq8CIlBfTVrcM2NA#scrollTo=9cXT_RyoLtv3%23offline%3Dtrue&sandboxMode=true)\n",
        "\n",
        "[Blocking](https://colab.research.google.com/drive/1fB6pa8Xu1cMdf1VmnTZ7bn5j-TS_ccRO#scrollTo=cbBPp8a-1ou5&forceEdit=true&sandboxMode=true)\n",
        "\n",
        "\n",
        "[Fastlink R Linking](https://colab.research.google.com/drive/198Du0EOpaFODRmgLoIV_9a7XYYV2Um-u#scrollTo=isUSuVAs37Al)"
      ]
    },
    {
      "cell_type": "markdown",
      "metadata": {
        "id": "VYZ26xMVrbai"
      },
      "source": [
        "## **<font color=\"#007f68\">1. Notebook Setup**"
      ]
    },
    {
      "cell_type": "markdown",
      "metadata": {
        "id": "uUNu1N9efLEZ"
      },
      "source": [
        "Run the following 2 code blocks to prime the notebook and import the necessary libraries in use.\n",
        "\n",
        "Installations and imports are only needed to be executed once per session."
      ]
    },
    {
      "cell_type": "code",
      "metadata": {
        "id": "6C73ejaaxoQN",
        "cellView": "form"
      },
      "source": [
        "#@title <font color=\"#18CF68\">1.1) Installations\n",
        "menu_list = [\"1.1) Installations\", \"1.2) Imports\", \n",
        "             \"2.1) Pick method of uploading csv file\", \n",
        "             \"2.2) Select desired datafile\", \"2.3) Upload and read data\", \n",
        "             \"3.1) Capture User input\", \"3.2) Run fastlink\", \n",
        "             \"4.1) Display results\", \"4.2) Recall, precision and F_score results\", \n",
        "             \"4.3) Display M and U values\", \n",
        "             \"4.4) Update data to a Google Spreadsheet\"]\n",
        "def tracker_err_msg(tracker, cell_id):\n",
        "  print(\"Please execute code cell(s) from \\n'\" + menu_list[tracker + 1] + \n",
        "        \"' \\nup to the \\n'\" + menu_list[cell_id] + \"'\\n cell before continuing!\")\n",
        "tracker = 0\n",
        "!pip install -q rpy2\n",
        "!pip install -q --upgrade gspread"
      ],
      "execution_count": null,
      "outputs": []
    },
    {
      "cell_type": "code",
      "metadata": {
        "id": "vIKTDuTTyLTv",
        "cellView": "form"
      },
      "source": [
        "#@title <font color=\"#18CF68\">1.2) Imports\n",
        "cell_id = 1\n",
        "if tracker >= (cell_id - 1):\n",
        "  import pandas as pd\n",
        "  import os\n",
        "  import time\n",
        "  from IPython.utils import io\n",
        "\n",
        "  # Import rpy2 packages\n",
        "  from rpy2.robjects import globalenv\n",
        "  from rpy2.robjects.vectors import StrVector\n",
        "  import rpy2.robjects as r_objects\n",
        "  import rpy2.robjects.packages as r_packages\n",
        "  r = r_objects.r\n",
        "\n",
        "  from ipywidgets import Dropdown, FloatSlider, Text, GridBox, Checkbox, Label, FloatRangeSlider\n",
        "\n",
        "  import matplotlib.pyplot as plt\n",
        "  from google.colab import auth\n",
        "  import gspread\n",
        "  from oauth2client.client import GoogleCredentials\n",
        "  run_count = 1\n",
        "\n",
        "  # Fastlink imports\n",
        "  with io.capture_output() as captured:\n",
        "    utils = r_packages.importr('utils')\n",
        "    utils.chooseCRANmirror(ind=1)\n",
        "    pack_names = ('fastLink', 'tictoc', 'strex', 'data.table', 'csv')\n",
        "    names_to_install = [x for x in pack_names if not r_packages.isinstalled(x)]\n",
        "    if len(names_to_install) > 0:\n",
        "      utils.install_packages(StrVector(names_to_install))\n",
        "    base = r_packages.importr('base')\n",
        "    stats = r_packages.importr('stats')\n",
        "    fastLink = r_packages.importr('fastLink')\n",
        "    strex = r_packages.importr('strex')\n",
        "    data_table = r_packages.importr('data.table')\n",
        "    stringr = r_packages.importr('stringr')\n",
        "    \n",
        "  tracker = cell_id\n",
        "else:\n",
        "  tracker_err_msg(tracker, cell_id)"
      ],
      "execution_count": null,
      "outputs": []
    },
    {
      "cell_type": "markdown",
      "metadata": {
        "id": "jTKXyzs_rkPW"
      },
      "source": [
        "## **<font color=\"#007f68\">2. Upload csv file for deduplication**"
      ]
    },
    {
      "cell_type": "code",
      "metadata": {
        "id": "e8Rgp5ps16ve",
        "colab": {
          "base_uri": "https://localhost:8080/",
          "height": 49,
          "referenced_widgets": [
            "986fd2dde0224371a3b8f1d085a0538f",
            "8697bb217f104097b7cc903bd3ac7f79",
            "4294bb7732c94d48b4771427e1076699"
          ]
        },
        "cellView": "form",
        "outputId": "2bda42db-58ae-401e-86cb-9bfb4e5b775d"
      },
      "source": [
        "#@title <font color=\"#18CF68\">2.1) Pick method of uploading csv file\n",
        "cell_id = 2\n",
        "if tracker >= (cell_id - 1):\n",
        "  file_option = menu_1 = Dropdown(options=['Upload from google drive', 'Upload local file', \"Use sample dataset\"])\n",
        "  display(file_option)\n",
        "  tracker = cell_id\n",
        "else:\n",
        "  tracker_err_msg(tracker, cell_id)"
      ],
      "execution_count": null,
      "outputs": [
        {
          "output_type": "display_data",
          "data": {
            "application/vnd.jupyter.widget-view+json": {
              "model_id": "986fd2dde0224371a3b8f1d085a0538f",
              "version_minor": 0,
              "version_major": 2
            },
            "text/plain": [
              "Dropdown(options=('Upload from google drive', 'Upload local file', 'Use sample dataset'), value='Upload from g…"
            ]
          },
          "metadata": {
            "tags": []
          }
        }
      ]
    },
    {
      "cell_type": "code",
      "metadata": {
        "colab": {
          "resources": {
            "http://localhost:8080/nbextensions/google.colab/files.js": {
              "data": "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",
              "ok": true,
              "headers": [
                [
                  "content-type",
                  "application/javascript"
                ]
              ],
              "status": 200,
              "status_text": ""
            }
          },
          "base_uri": "https://localhost:8080/",
          "height": 72
        },
        "id": "N3QpA1Kf9JMU",
        "cellView": "form",
        "outputId": "023627ed-fb5d-4c98-b99a-bb81723e5a24"
      },
      "source": [
        "#@title <font color=\"#18CF68\">2.2) Select desired datafile\n",
        "cell_id = 3\n",
        "if tracker >= (cell_id - 1):  \n",
        "  if file_option.value == \"Upload from google drive\":\n",
        "    from google.colab import drive\n",
        "    drive.mount('/content/drive')\n",
        "    style = {'description_width': 'initial'}\n",
        "    layout = {'width': '400px'}\n",
        "    file_name = Text(\n",
        "      style=style,\n",
        "      layout=layout,\n",
        "      value='data-50-25.csv',\n",
        "      description='Enter file name:',\n",
        "      disabled=False)\n",
        "    folder_name = Text(\n",
        "      style=style,\n",
        "      layout=layout,\n",
        "      value='/content/drive/MyDrive/Data Generator/',\n",
        "      description='Enter folder directory:',\n",
        "      disabled=False)\n",
        "    display(file_name, folder_name)\n",
        "  elif file_option.value == \"Upload local file\":\n",
        "    from google.colab import files\n",
        "    uploaded = files.upload()\n",
        "    file_list = list(uploaded.keys())\n",
        "    file = file_list[0]\n",
        "  else:\n",
        "    df = pd.read_csv(\"https://raw.githubusercontent.com/jembi/mpi-toolkit-notebook/main/fastLink-notebook/data-200-100.csv\")\n",
        "    df.to_csv('sample_dataset.csv', index=False)\n",
        "    file = 'sample_dataset.csv'\n",
        "    print(\"Using sample dataset: 200 original, 100 duplicates\")\n",
        "\n",
        "  tracker = cell_id\n",
        "else:\n",
        "  tracker_err_msg(tracker, cell_id)"
      ],
      "execution_count": null,
      "outputs": [
        {
          "output_type": "display_data",
          "data": {
            "text/html": [
              "\n",
              "     <input type=\"file\" id=\"files-3427ac59-786c-4526-923a-e773b8f56f34\" name=\"files[]\" multiple disabled\n",
              "        style=\"border:none\" />\n",
              "     <output id=\"result-3427ac59-786c-4526-923a-e773b8f56f34\">\n",
              "      Upload widget is only available when the cell has been executed in the\n",
              "      current browser session. Please rerun this cell to enable.\n",
              "      </output>\n",
              "      <script src=\"/nbextensions/google.colab/files.js\"></script> "
            ],
            "text/plain": [
              "<IPython.core.display.HTML object>"
            ]
          },
          "metadata": {
            "tags": []
          }
        },
        {
          "output_type": "stream",
          "text": [
            "Saving data-10000-05000-dcab.csv to data-10000-05000-dcab.csv\n"
          ],
          "name": "stdout"
        }
      ]
    },
    {
      "cell_type": "code",
      "metadata": {
        "id": "tC5dmkfK-RJ5",
        "cellView": "form"
      },
      "source": [
        "#@title <font color=\"#18CF68\">2.3) Upload and read data\n",
        "cell_id = 4\n",
        "if tracker >= (cell_id - 1): \n",
        "  if file_option.value == \"Upload from google drive\":\n",
        "    file = folder_name.value + file_name.value\n",
        "  \n",
        "  try:\n",
        "    globalenv['csv'] = r['read.csv'](file, header=True, stringsAsFactors=False)\n",
        "    col_names_r = r('colnames(csv)')\n",
        "    col_names = list(col_names_r)\n",
        "    r('csv[csv==\"\"] <- NA')\n",
        "    r('dfA <- csv[str_detect(csv$ID, \"-aaa-\"), ]')\n",
        "    r('dfB <- csv[str_detect(csv$ID, \"-bbb-\"), ]')\n",
        "    s = r('structure(list(csv = csv, dfA = dfA, dfB = dfB))')\n",
        "\n",
        "    r('write.csv(csv, file=\"file.csv\")')\n",
        "    file = pd.read_csv('file.csv')\n",
        "    display(file)\n",
        "    try:\n",
        "      os.remove('file.csv')\n",
        "    except OSError:\n",
        "      pass\n",
        "    tracker = cell_id\n",
        "  except: # Add specific exception error\n",
        "    print(\"Cannot find such file\")\n",
        "else:\n",
        "  tracker_err_msg(tracker, cell_id)\n"
      ],
      "execution_count": null,
      "outputs": []
    },
    {
      "cell_type": "markdown",
      "metadata": {
        "id": "fkLOWlvxr329"
      },
      "source": [
        "## **<font color=\"#007f68\">3. Fastlink**"
      ]
    },
    {
      "cell_type": "markdown",
      "metadata": {
        "id": "dl5ZB9PVOI3N"
      },
      "source": [
        "1. Select the field/attribute that will act as the unique ID for each record.\n",
        "2. Select the fields that you would like to be **excluded** from the Fastlink run.\n",
        "3. Choose the string-distance method you want to apply to all fields when comparing records.\n",
        "\n",
        "  - Jaro - Jaro Similarity is the measure of similarity between two strings. The value of Jaro distance ranges from 0 to 1. where 1 means the strings are equal and 0 means no similarity between the two strings. \n",
        "\n",
        "  - Jaro-Winkler - The Jaro-Winkler similarity is a string metric measuring edit distance between two strings. Jaro – Winkler Similarity is much similar to Jaro Similarity. They both differ when the prefix of two string match. Jaro – Winkler Similarity uses a prefix scale ‘p’ which gives a more accurate answer when the strings have a common prefix up to a defined maximum length l. \n",
        "\n",
        "  - Levenshtein - The Levenshtein distance is a string metric for measuring the difference between two sequences. Informally, the Levenshtein distance between two words is the minimum number of single-character edits (insertions, deletions or substitutions) required to change one word into the other.\n",
        "\n",
        "4. Choose the partial match's upper and lower thresholds. If the string-distance score is lower than or equal to the lower threshold it will assign a unmatch weight i.e. log2((1-m)/(1-u)) to the field score. A string-distance score above the upper threshold will assign a match weight i.e. log(m/u) to the field. If string distance score is in between the thresholds i.e, is a partial match, then the weight that this field contributes to the total score is equal to log(m/u) * gamma."
      ]
    },
    {
      "cell_type": "code",
      "metadata": {
        "id": "oeTY4-X7B2WS",
        "colab": {
          "base_uri": "https://localhost:8080/",
          "height": 409,
          "referenced_widgets": [
            "76082bea4b8f40ce8ef17ed9393a9ff9",
            "d22d50a02ed14cbe8d0ec19bf75a1900",
            "69bb28eeb08a40ffa5d7f8f974f01701",
            "3f3e7bf6bf2849b499fd8437948a5034",
            "a592f27495be408bba1f7e0361c87ece",
            "28ee4059a81d490f872ea17b21823b96",
            "8298cdef27d3450b845b8a8a5aee300c",
            "4dcde353942447c1acdd7bae370e84ba",
            "0ab2aa42639f4a0fb1b86edeb46ee88c",
            "8ade3eec7db04e9fb361c329748b52d9",
            "0eb77a3a7a244cfcb382816d0ac51b21",
            "f571ea5ea6c14538a9d430ca90e45189",
            "423fc3180df5436bb5b2bbd735c12abc",
            "00413078bbfb47fe9457b9e8d9f709ce",
            "9950d1ec4e7a4d6a868cc2150858ff8c",
            "4c7569fa2f604609857690c0a7f4d0b5",
            "07c7f554116946c287ccc28ab138b859",
            "3425e811800b43d89edd7f9323672eab",
            "c68b4d7940fc45e0afe7419adb0b3f8e",
            "534838ba78fd4e47b8eb3fe4389187f9",
            "a1fc103f96b141e996e3806a819ea9f8",
            "01bb8e41bd12410c9bf5bdb95c97bbf4",
            "b462cc4058db43e18eefdd7ca9375428",
            "ffe7da2ccf0b45c5ae36a22811d2c746",
            "5d6d2dba8ef34f43bfb16c96d57ec5f5",
            "5f5df1b9e3cd47cda7cd2a0505f5c31f",
            "f7b3fea7873c4070b3f16ff4acae4042",
            "40f7ce25e04a41f191c9d5c065e37ce6",
            "c4373bb07d304d5d9248a92d62b17d0c",
            "8269ed422acd4787ba8d70025156e52c",
            "31644963548d43dca59a41aa4482be7d",
            "74ba69fee8984353a743cbe1fa4aff5e",
            "1e7489bd1970419ca4cd0d8410e96ef7",
            "835360c905854e748737e58b3a555ae4",
            "d8bdbef01c594969a46e6b2e42126650",
            "b753a46dac094726a231197aeee56ca6",
            "15a26c00c5894c3b872cbb237ce012a4",
            "36b99f7d9af145c8a180867fd7f44a3f",
            "a1354146a5dd4ddfa6e1118f471e31a8"
          ]
        },
        "cellView": "form",
        "outputId": "e7786b28-83fa-45b8-8587-8c68b4413c99"
      },
      "source": [
        "#@title <font color=\"#18CF68\">3.1) Capture User input\n",
        "cell_id = 5\n",
        "if tracker >= (cell_id - 1):   \n",
        "  style = {'description_width': 'initial'}\n",
        "  layout = {'width': '400px'}\n",
        "  menu_1 = Dropdown(description=\"1. Choose your unique identifier:\", style=style, options=col_names)\n",
        "  display(menu_1)\n",
        "\n",
        "  check_b_label = Label(value=\"2. Choose desired fields to exclude:\")\n",
        "  display(check_b_label)\n",
        "\n",
        "  check_b_list = []\n",
        "  for i in range(len(col_names)):\n",
        "    if col_names[i] == menu_1.value:\n",
        "      check_b = Checkbox(value=True, description=col_names[i], disabled=False, indent=False)\n",
        "    else:\n",
        "      check_b = Checkbox(value=False, description=col_names[i], disabled=False, indent=False)\n",
        "    check_b_list.append(check_b)\n",
        "    display(check_b)\n",
        "\n",
        "  menu_2 = Dropdown(layout=layout, description=\"3. Choose your string-distance method:\", style=style, options=[\"Jaro-Winkler\", \"Jaro\", \"Levensthein\"])\n",
        "  display(menu_2)\n",
        "\n",
        "  slider_label = Label(value=\"4. Select upper and lower bounds:\")\n",
        "  display(slider_label)\n",
        "\n",
        "  slider_1 = FloatRangeSlider(\n",
        "      value=[0.88, 0.94],\n",
        "      min=0,\n",
        "      max=1,\n",
        "      step=0.01,\n",
        "      disabled=False,\n",
        "      continuous_update=False,\n",
        "      orientation='horizontal',\n",
        "      readout=True,\n",
        "      readout_format='.2f',\n",
        "  )\n",
        "  display(slider_1)\n",
        "  tracker = cell_id\n",
        "else:\n",
        "  tracker_err_msg(tracker, cell_id)\n"
      ],
      "execution_count": null,
      "outputs": [
        {
          "output_type": "display_data",
          "data": {
            "application/vnd.jupyter.widget-view+json": {
              "model_id": "76082bea4b8f40ce8ef17ed9393a9ff9",
              "version_minor": 0,
              "version_major": 2
            },
            "text/plain": [
              "Dropdown(description='1. Choose your unique identifier:', options=('source_system_id', 'first_name', 'last_nam…"
            ]
          },
          "metadata": {
            "tags": []
          }
        },
        {
          "output_type": "display_data",
          "data": {
            "application/vnd.jupyter.widget-view+json": {
              "model_id": "3f3e7bf6bf2849b499fd8437948a5034",
              "version_minor": 0,
              "version_major": 2
            },
            "text/plain": [
              "Label(value='2. Choose desired fields to exclude:')"
            ]
          },
          "metadata": {
            "tags": []
          }
        },
        {
          "output_type": "display_data",
          "data": {
            "application/vnd.jupyter.widget-view+json": {
              "model_id": "8298cdef27d3450b845b8a8a5aee300c",
              "version_minor": 0,
              "version_major": 2
            },
            "text/plain": [
              "Checkbox(value=True, description='source_system_id', indent=False)"
            ]
          },
          "metadata": {
            "tags": []
          }
        },
        {
          "output_type": "display_data",
          "data": {
            "application/vnd.jupyter.widget-view+json": {
              "model_id": "8ade3eec7db04e9fb361c329748b52d9",
              "version_minor": 0,
              "version_major": 2
            },
            "text/plain": [
              "Checkbox(value=False, description='first_name', indent=False)"
            ]
          },
          "metadata": {
            "tags": []
          }
        },
        {
          "output_type": "display_data",
          "data": {
            "application/vnd.jupyter.widget-view+json": {
              "model_id": "423fc3180df5436bb5b2bbd735c12abc",
              "version_minor": 0,
              "version_major": 2
            },
            "text/plain": [
              "Checkbox(value=False, description='last_name', indent=False)"
            ]
          },
          "metadata": {
            "tags": []
          }
        },
        {
          "output_type": "display_data",
          "data": {
            "application/vnd.jupyter.widget-view+json": {
              "model_id": "4c7569fa2f604609857690c0a7f4d0b5",
              "version_minor": 0,
              "version_major": 2
            },
            "text/plain": [
              "Checkbox(value=False, description='gender', indent=False)"
            ]
          },
          "metadata": {
            "tags": []
          }
        },
        {
          "output_type": "display_data",
          "data": {
            "application/vnd.jupyter.widget-view+json": {
              "model_id": "c68b4d7940fc45e0afe7419adb0b3f8e",
              "version_minor": 0,
              "version_major": 2
            },
            "text/plain": [
              "Checkbox(value=False, description='dob', indent=False)"
            ]
          },
          "metadata": {
            "tags": []
          }
        },
        {
          "output_type": "display_data",
          "data": {
            "application/vnd.jupyter.widget-view+json": {
              "model_id": "01bb8e41bd12410c9bf5bdb95c97bbf4",
              "version_minor": 0,
              "version_major": 2
            },
            "text/plain": [
              "Checkbox(value=False, description='city', indent=False)"
            ]
          },
          "metadata": {
            "tags": []
          }
        },
        {
          "output_type": "display_data",
          "data": {
            "application/vnd.jupyter.widget-view+json": {
              "model_id": "5d6d2dba8ef34f43bfb16c96d57ec5f5",
              "version_minor": 0,
              "version_major": 2
            },
            "text/plain": [
              "Checkbox(value=False, description='phone_number', indent=False)"
            ]
          },
          "metadata": {
            "tags": []
          }
        },
        {
          "output_type": "display_data",
          "data": {
            "application/vnd.jupyter.widget-view+json": {
              "model_id": "40f7ce25e04a41f191c9d5c065e37ce6",
              "version_minor": 0,
              "version_major": 2
            },
            "text/plain": [
              "Checkbox(value=False, description='national_id', indent=False)"
            ]
          },
          "metadata": {
            "tags": []
          }
        },
        {
          "output_type": "display_data",
          "data": {
            "application/vnd.jupyter.widget-view+json": {
              "model_id": "31644963548d43dca59a41aa4482be7d",
              "version_minor": 0,
              "version_major": 2
            },
            "text/plain": [
              "Dropdown(description='3. Choose your string-distance method:', layout=Layout(width='400px'), options=('Jaro-Wi…"
            ]
          },
          "metadata": {
            "tags": []
          }
        },
        {
          "output_type": "display_data",
          "data": {
            "application/vnd.jupyter.widget-view+json": {
              "model_id": "835360c905854e748737e58b3a555ae4",
              "version_minor": 0,
              "version_major": 2
            },
            "text/plain": [
              "Label(value='4. Select upper and lower bounds:')"
            ]
          },
          "metadata": {
            "tags": []
          }
        },
        {
          "output_type": "display_data",
          "data": {
            "application/vnd.jupyter.widget-view+json": {
              "model_id": "15a26c00c5894c3b872cbb237ce012a4",
              "version_minor": 0,
              "version_major": 2
            },
            "text/plain": [
              "FloatRangeSlider(value=(0.88, 0.94), continuous_update=False, max=1.0, step=0.01)"
            ]
          },
          "metadata": {
            "tags": []
          }
        }
      ]
    },
    {
      "cell_type": "code",
      "metadata": {
        "id": "sOIb6sGC3oXP",
        "cellView": "form"
      },
      "source": [
        "#@title <font color=\"#18CF68\">3.2) Run fastlink\n",
        "cell_id = 6\n",
        "if tracker >= (cell_id - 1):\n",
        "  s_time = time.time()\n",
        "  key = menu_1.value\n",
        "  key_position = menu_1.index + 1\n",
        "  string_distance = menu_2.value\n",
        "  if string_distance == \"Jaro-Winkler\":\n",
        "    string_distance = \"jw\"\n",
        "  elif string_distance == \"Jaro\":\n",
        "    string_distance = \"jaro\"\n",
        "  else:\n",
        "    string_distance = \"lv\"\n",
        "  cut_a = slider_1.value[0]\n",
        "  cut_p = slider_1.value[1]\n",
        "\n",
        "  param_exclde_list = []\n",
        "  for i in range(len(check_b_list)):\n",
        "    if check_b_list[i].value == True:\n",
        "      param_exclde_list.append(check_b_list[i].description)\n",
        "\n",
        "  param_exclde_str = \"'\"\n",
        "  for k in range(len(param_exclde_list)):\n",
        "    if k < len(param_exclde_list) - 1:\n",
        "      param_exclde_str = param_exclde_str + param_exclde_list[k] + \"', '\"\n",
        "    else:\n",
        "      param_exclde_str = param_exclde_str + param_exclde_list[k] + \"' \"\n",
        "\n",
        "  df_a = s\n",
        "  def fl_dedupe(df_a, exclded_fields, string_distance, cut_a, cut_p):\n",
        "          get_dedupes = r('''\n",
        "              my_fl_dedupe <- function(df_a) {{        \n",
        "                  pasteT <- function(x) {{\n",
        "                      x <- sort(x)\n",
        "                      x <- paste(x, collapse = \",\")\n",
        "                      x\n",
        "                  }}\n",
        "                  varnames      <- colnames(csv)\n",
        "                  varnames      <- varnames[-which(varnames %in% c({0}))]\n",
        "                  invisible(capture.output(fl_out <- fastLink(dfA = csv, dfB = csv, varnames = varnames,\n",
        "                                            stringdist.match = varnames, stringdist.method = '{1}', cut.a = {2}, \n",
        "                                            cut.p = c(0.80, {3}), dedupe.matches = TRUE, linprog.dedupe = FALSE,\n",
        "                                            cond.indep = 'TRUE',\n",
        "                                            n.cores = 8,\n",
        "                                            verbose = 'TRUE')))\n",
        "                  inds_ab <- data.table(cbind(fl_out$matches$inds.a, fl_out$matches$inds.b))\n",
        "                  inds_ab[, `:=`(V3, pasteT(V2)), by = V1]\n",
        "                  inds_ab <- inds_ab[,.(V1, V3)]\n",
        "                  inds_ab <- inds_ab[!duplicated(inds_ab)]\n",
        "                  setnames(inds_ab, 'V3', 'V2')\n",
        "                  inds_ab <- unique(inds_ab[,list(V2)])\n",
        "                  structure(list(fl_out = fl_out, inds_ab = inds_ab))\n",
        "              }}\n",
        "              '''.format(exclded_fields, string_distance, cut_a, cut_p))\n",
        "          return get_dedupes(df_a)\n",
        "\n",
        "  def analytics(process):\n",
        "    varnames = tuple(globalenv['{0}'.format(process)].rx2('fl_out').rx2('EM').rx2('varnames'))\n",
        "    em_p_gamma_k_m = []\n",
        "    for i in range(len(r('{0}$fl_out$EM$p.gamma.k.m'.format(process)))):\n",
        "      placeholder = ['p.gamma.k.m ----- %-20s : %3.10f  %3.10f  %3.10f',\n",
        "                      varnames[i],\n",
        "                      r('{0}$fl_out$EM$p.gamma.k.m'.format(process))[i][0],\n",
        "                      abs(r('{0}$fl_out$EM$p.gamma.k.m'.format(process))[i][1]),\n",
        "                      r('{0}$fl_out$EM$p.gamma.k.m'.format(process))[i][0] + r('{0}$fl_out$EM$p.gamma.k.m'.format(process))[i][1]]\n",
        "      em_p_gamma_k_m.append(placeholder)\n",
        "    em_p_gamma_k_u = []\n",
        "    for i in range(len(r('{0}$fl_out$EM$p.gamma.k.u'.format(process)))):\n",
        "      placeholder = ['p.gamma.k.u ----- %-20s : %3.10f  %3.10f  %3.10f',\n",
        "                      varnames[i],\n",
        "                      abs(r('{0}$fl_out$EM$p.gamma.k.u'.format(process))[i][0]),\n",
        "                      r('{0}$fl_out$EM$p.gamma.k.u'.format(process))[i][1],\n",
        "                      r('{0}$fl_out$EM$p.gamma.k.u'.format(process))[i][0] + r('{0}$fl_out$EM$p.gamma.k.u'.format(process))[i][1]]\n",
        "      em_p_gamma_k_u.append(placeholder)\n",
        "    return varnames, em_p_gamma_k_m, em_p_gamma_k_u\n",
        "\n",
        "  if len(param_exclde_list) != len(col_names):\n",
        "    try:\n",
        "      globalenv['dedupes'] = fl_dedupe(df_a, param_exclde_str, string_distance, cut_a, cut_p)\n",
        "      log_info = analytics('dedupes')\n",
        "      varnames = log_info[0]\n",
        "      em_p_gamma_k_m = log_info[1]\n",
        "      em_p_gamma_k_u = log_info[2]\n",
        "      v2 = tuple(r('dedupes$inds_ab$V2'))\n",
        "      tracker = cell_id\n",
        "\n",
        "      fields = tuple(col_names)\n",
        "      left = pd.DataFrame(columns=('key',) + fields)\n",
        "      right = pd.DataFrame(columns=('key',) + fields)\n",
        "      k = 0\n",
        "      max_no_dup = 0\n",
        "\n",
        "      for i in range(len(v2)):\n",
        "        dupe_links = tuple(map(int, v2[i].split(',')))\n",
        "        if len(dupe_links) > max_no_dup:\n",
        "          max_no_dup = len(dupe_links)\n",
        "        dup = []\n",
        "        master = r('csv[{},]'.format(dupe_links[0]))\n",
        "        for j in range(1, len(dupe_links)):\n",
        "          count_1 = 0\n",
        "          for u in range(len(master)):\n",
        "            if str(master.rx2(u + 1)[0]) == \"NA\":\n",
        "              count_1 += 1\n",
        "\n",
        "          holder = r('csv[{},]'.format(dupe_links[j]))\n",
        "          count_2 = 0\n",
        "          for h in range(len(holder)):\n",
        "            if str(holder.rx2(h + 1)[0]) == \"NA\":\n",
        "              count_2 += 1\n",
        "\n",
        "          if count_1 > count_2:\n",
        "            right.loc[k] = (i,) + tuple(map(lambda x: str(master.rx2(x)[0]), fields))\n",
        "            k = k + 1\n",
        "            master = holder\n",
        "          else:\n",
        "            right.loc[k] = (i,) + tuple(map(lambda x: str(holder.rx2(x)[0]), fields))\n",
        "            k = k + 1\n",
        "        left.loc[i] = (i,) + tuple(map(lambda x: str(master.rx2(x)[0]), fields))\n",
        "      exec_time = (time.time() - s_time) / 60\n",
        "      print(\"Run successful\")\n",
        "    except IndexError:\n",
        "      tracker = cell_id - 1\n",
        "      print(\"Please increase the lower bound value in Section 3!\")\n",
        "  else:\n",
        "    tracker = cell_id - 1\n",
        "    print(\"Warning: You have exluded all fields in Section 3!\\nOnly select the fields you want to 'EXCLUDE' from the Fastlink run\")\n",
        "else:\n",
        "  tracker_err_msg(tracker, cell_id)"
      ],
      "execution_count": null,
      "outputs": []
    },
    {
      "cell_type": "markdown",
      "metadata": {
        "id": "mAIJrgacsGcJ"
      },
      "source": [
        "## **<font color=\"#007f68\">4. Results**"
      ]
    },
    {
      "cell_type": "markdown",
      "metadata": {
        "id": "qvM-XK16StXG"
      },
      "source": [
        "The results of the Fastlink run can be found in section 4.1. \n",
        "\n",
        "Records that are matched/linked together are displayed at row level. Therefore each row represents one entity.\n",
        "\n",
        "The first record in a set of linked records is regarded as the reference record (closest to the left). This record is selected as reference since it has the least amount of null fields. The records to follow in that row are therefore regarded as duplicates to that record."
      ]
    },
    {
      "cell_type": "code",
      "metadata": {
        "id": "d3xdOqLyY5rC",
        "cellView": "form"
      },
      "source": [
        "#@title <font color=\"#18CF68\">4.1) Display results\n",
        "cell_id = 7\n",
        "if tracker >= (cell_id - 1):\n",
        "  false_positives = 0\n",
        "  true_positives = 0\n",
        "  false_negatives = 0\n",
        "  true_negatives = 0\n",
        "\n",
        "  col = (('key',) + fields) * max_no_dup\n",
        "  l_and_r = pd.DataFrame(columns=col)\n",
        "  empty_tup = (\"\",) * len(('key',) + fields)\n",
        "\n",
        "  for i in range(left.shape[0]):\n",
        "    pop_tup = ()\n",
        "    pop_tup = tuple(left.values[i])\n",
        "    count = 0\n",
        "    for j in range(right.shape[0]):\n",
        "      if right.values[j][0] == left.values[i][0]:\n",
        "        pop_tup = pop_tup + tuple(right.values[j])\n",
        "        count = count + 1\n",
        "        if left.values[i][key_position][:12] == right.values[j][key_position][:12]:\n",
        "          true_positives = true_positives + 1\n",
        "        else:\n",
        "          false_positives = false_positives + 1\n",
        "    pop_tup = pop_tup + (empty_tup * ((max_no_dup - 1) - count))\n",
        "    if (max_no_dup - 1) - count == 3:\n",
        "      for k in range(len(left)):\n",
        "        neg_count = 0\n",
        "        if left.values[k][key_position][:12] == pop_tup[key_position][:12]:\n",
        "          neg_count = neg_count + 1\n",
        "      if neg_count < 2:\n",
        "        true_negatives = true_negatives + 1\n",
        "      else:\n",
        "        false_negatives = false_negatives + 1\n",
        "    l_and_r.loc[i] = pop_tup\n",
        "  display(l_and_r)\n",
        "  tracker = cell_id\n",
        "else:\n",
        "  tracker_err_msg(tracker, cell_id)\n"
      ],
      "execution_count": null,
      "outputs": []
    },
    {
      "cell_type": "code",
      "metadata": {
        "id": "QztySuq02ygw",
        "colab": {
          "base_uri": "https://localhost:8080/",
          "height": 479
        },
        "cellView": "form",
        "outputId": "f1e35392-d306-4393-9106-e7d28acaa0f7"
      },
      "source": [
        "#@title <font color=\"#18CF68\">4.2) Recall, precision and F_score results\n",
        "cell_id = 8\n",
        "if tracker >= (cell_id - 1):\n",
        "  recall = true_positives/(true_positives + false_negatives)\n",
        "  recall_labels = [\"Recall\", \" \"]\n",
        "  recall_sections = [recall, 1 - recall]\n",
        "\n",
        "  precision = true_positives/(true_positives + false_positives)\n",
        "  prec_labels = [\"Precision\", \" \"]\n",
        "  prec_sections = [precision, 1 - precision]\n",
        "\n",
        "  f_score = 2 * ((precision * recall)/(precision + recall))\n",
        "  f_labels = [\"F_score\", \" \"]\n",
        "  f_sections = [f_score, 1 - f_score]\n",
        "\n",
        "  fig, axes = plt.subplots(nrows=1, ncols=3, figsize=(30, 10))\n",
        "  colors = [\"#6396e6\", \"#de73e6\"]\n",
        "\n",
        "  axes[0].pie(recall_sections, \n",
        "          labels=recall_labels, \n",
        "          colors=colors, \n",
        "          startangle=90,\n",
        "          autopct='%1.4f%%')\n",
        "  axes[1].pie(prec_sections, \n",
        "          labels=prec_labels, \n",
        "          colors=colors,\n",
        "          startangle=90, \n",
        "          autopct='%1.4f%%')\n",
        "  axes[2].pie(f_sections, \n",
        "          labels=f_labels, \n",
        "          colors=colors, \n",
        "          startangle=90, \n",
        "          autopct='%1.4f%%')\n",
        "\n",
        "  plt.title(\"Pie charts showing Recall, Precision and F_score\")\n",
        "  tracker = cell_id\n",
        "else:\n",
        "  tracker_err_msg(tracker, cell_id)"
      ],
      "execution_count": null,
      "outputs": [
        {
          "output_type": "display_data",
          "data": {
            "image/png": "[encoded data removed]",
            "text/plain": [
              "<Figure size 2160x720 with 3 Axes>"
            ]
          },
          "metadata": {
            "tags": []
          }
        }
      ]
    },
    {
      "cell_type": "code",
      "metadata": {
        "id": "4-JRWd9-z3qx",
        "colab": {
          "base_uri": "https://localhost:8080/",
          "height": 187
        },
        "cellView": "form",
        "outputId": "bbceed87-8a73-4457-978a-cca0721a5759"
      },
      "source": [
        "#@title <font color=\"#18CF68\">4.3) Display M and U values\n",
        "cell_id = 9\n",
        "if tracker >= (cell_id - 1):\n",
        "  fields = (\"Field\", \"Matches (M)\", \"Unmatches (U)\")\n",
        "  m_and_u = pd.DataFrame(columns=fields)\n",
        "  for i in range(len(em_p_gamma_k_m)):\n",
        "    m_and_u.loc[i] = (em_p_gamma_k_m[i][1], em_p_gamma_k_m[i][3], em_p_gamma_k_u[i][3])\n",
        "  table_1 = m_and_u.style.format({\"Matches (M)\": \"{:.4f}\",\n",
        "                                \"Unmatches (U)\": \"{:.4f}\"})\\\n",
        "                        .hide_index()\\\n",
        "                        .set_properties(**{'text-align': 'left'})\n",
        "  table_1 = table_1.set_table_styles(\n",
        "      [dict(selector = 'th', props=[('text-align', 'left')])])\n",
        "  display(table_1)\n",
        "  tracker = cell_id\n",
        "else:\n",
        "  tracker_err_msg(tracker, cell_id)"
      ],
      "execution_count": null,
      "outputs": [
        {
          "output_type": "display_data",
          "data": {
            "text/html": [
              "<style  type=\"text/css\" >\n",
              "    #T_e7b717ce_002d_11ec_9854_0242ac1c0002 th {\n",
              "          text-align: left;\n",
              "    }#T_e7b717ce_002d_11ec_9854_0242ac1c0002row0_col0,#T_e7b717ce_002d_11ec_9854_0242ac1c0002row0_col1,#T_e7b717ce_002d_11ec_9854_0242ac1c0002row0_col2,#T_e7b717ce_002d_11ec_9854_0242ac1c0002row1_col0,#T_e7b717ce_002d_11ec_9854_0242ac1c0002row1_col1,#T_e7b717ce_002d_11ec_9854_0242ac1c0002row1_col2,#T_e7b717ce_002d_11ec_9854_0242ac1c0002row2_col0,#T_e7b717ce_002d_11ec_9854_0242ac1c0002row2_col1,#T_e7b717ce_002d_11ec_9854_0242ac1c0002row2_col2,#T_e7b717ce_002d_11ec_9854_0242ac1c0002row3_col0,#T_e7b717ce_002d_11ec_9854_0242ac1c0002row3_col1,#T_e7b717ce_002d_11ec_9854_0242ac1c0002row3_col2,#T_e7b717ce_002d_11ec_9854_0242ac1c0002row4_col0,#T_e7b717ce_002d_11ec_9854_0242ac1c0002row4_col1,#T_e7b717ce_002d_11ec_9854_0242ac1c0002row4_col2,#T_e7b717ce_002d_11ec_9854_0242ac1c0002row5_col0,#T_e7b717ce_002d_11ec_9854_0242ac1c0002row5_col1,#T_e7b717ce_002d_11ec_9854_0242ac1c0002row5_col2,#T_e7b717ce_002d_11ec_9854_0242ac1c0002row6_col0,#T_e7b717ce_002d_11ec_9854_0242ac1c0002row6_col1,#T_e7b717ce_002d_11ec_9854_0242ac1c0002row6_col2{\n",
              "            text-align:  left;\n",
              "        }</style><table id=\"T_e7b717ce_002d_11ec_9854_0242ac1c0002\" ><thead>    <tr>        <th class=\"col_heading level0 col0\" >Field</th>        <th class=\"col_heading level0 col1\" >Matches (M)</th>        <th class=\"col_heading level0 col2\" >Unmatches (U)</th>    </tr></thead><tbody>\n",
              "                <tr>\n",
              "                                <td id=\"T_e7b717ce_002d_11ec_9854_0242ac1c0002row0_col0\" class=\"data row0 col0\" >first_name</td>\n",
              "                        <td id=\"T_e7b717ce_002d_11ec_9854_0242ac1c0002row0_col1\" class=\"data row0 col1\" >0.9283</td>\n",
              "                        <td id=\"T_e7b717ce_002d_11ec_9854_0242ac1c0002row0_col2\" class=\"data row0 col2\" >0.0036</td>\n",
              "            </tr>\n",
              "            <tr>\n",
              "                                <td id=\"T_e7b717ce_002d_11ec_9854_0242ac1c0002row1_col0\" class=\"data row1 col0\" >last_name</td>\n",
              "                        <td id=\"T_e7b717ce_002d_11ec_9854_0242ac1c0002row1_col1\" class=\"data row1 col1\" >0.9528</td>\n",
              "                        <td id=\"T_e7b717ce_002d_11ec_9854_0242ac1c0002row1_col2\" class=\"data row1 col2\" >0.0050</td>\n",
              "            </tr>\n",
              "            <tr>\n",
              "                                <td id=\"T_e7b717ce_002d_11ec_9854_0242ac1c0002row2_col0\" class=\"data row2 col0\" >gender</td>\n",
              "                        <td id=\"T_e7b717ce_002d_11ec_9854_0242ac1c0002row2_col1\" class=\"data row2 col1\" >1.0000</td>\n",
              "                        <td id=\"T_e7b717ce_002d_11ec_9854_0242ac1c0002row2_col2\" class=\"data row2 col2\" >0.4984</td>\n",
              "            </tr>\n",
              "            <tr>\n",
              "                                <td id=\"T_e7b717ce_002d_11ec_9854_0242ac1c0002row3_col0\" class=\"data row3 col0\" >dob</td>\n",
              "                        <td id=\"T_e7b717ce_002d_11ec_9854_0242ac1c0002row3_col1\" class=\"data row3 col1\" >0.9888</td>\n",
              "                        <td id=\"T_e7b717ce_002d_11ec_9854_0242ac1c0002row3_col2\" class=\"data row3 col2\" >0.0431</td>\n",
              "            </tr>\n",
              "            <tr>\n",
              "                                <td id=\"T_e7b717ce_002d_11ec_9854_0242ac1c0002row4_col0\" class=\"data row4 col0\" >city</td>\n",
              "                        <td id=\"T_e7b717ce_002d_11ec_9854_0242ac1c0002row4_col1\" class=\"data row4 col1\" >0.9988</td>\n",
              "                        <td id=\"T_e7b717ce_002d_11ec_9854_0242ac1c0002row4_col2\" class=\"data row4 col2\" >0.0454</td>\n",
              "            </tr>\n",
              "            <tr>\n",
              "                                <td id=\"T_e7b717ce_002d_11ec_9854_0242ac1c0002row5_col0\" class=\"data row5 col0\" >phone_number</td>\n",
              "                        <td id=\"T_e7b717ce_002d_11ec_9854_0242ac1c0002row5_col1\" class=\"data row5 col1\" >0.9960</td>\n",
              "                        <td id=\"T_e7b717ce_002d_11ec_9854_0242ac1c0002row5_col2\" class=\"data row5 col2\" >0.0241</td>\n",
              "            </tr>\n",
              "            <tr>\n",
              "                                <td id=\"T_e7b717ce_002d_11ec_9854_0242ac1c0002row6_col0\" class=\"data row6 col0\" >national_id</td>\n",
              "                        <td id=\"T_e7b717ce_002d_11ec_9854_0242ac1c0002row6_col1\" class=\"data row6 col1\" >0.9945</td>\n",
              "                        <td id=\"T_e7b717ce_002d_11ec_9854_0242ac1c0002row6_col2\" class=\"data row6 col2\" >0.0012</td>\n",
              "            </tr>\n",
              "    </tbody></table>"
            ],
            "text/plain": [
              "<pandas.io.formats.style.Styler at 0x7f27cca382d0>"
            ]
          },
          "metadata": {
            "tags": []
          }
        }
      ]
    },
    {
      "cell_type": "code",
      "metadata": {
        "id": "57XNA_faFhCK",
        "cellView": "form"
      },
      "source": [
        "#@title <font color=\"#18CF68\">4.4) Update data to a Google Spreadsheet\n",
        "cell_id = 10\n",
        "if tracker >= (cell_id - 1): \n",
        "  auth.authenticate_user()\n",
        "  gc = gspread.authorize(GoogleCredentials.get_application_default())\n",
        "\n",
        "  sh = gc.create('Fastlink Dedupe: Run {0}'.format(run_count))\n",
        "  ws = sh.add_worksheet(title=\"Results\", rows=\"100\", cols=\"100\")\n",
        "  sh.del_worksheet(sh.sheet1)\n",
        "  ws.update([l_and_r.columns.values.tolist()] + l_and_r.values.tolist())\n",
        "\n",
        "  ws = sh.add_worksheet(title=\"Configuration and Performance\", rows=\"10\", cols=\"20\")\n",
        "  ws.update(\"A1:K1\", [[\"True Positives\", \"False Positives\", \"True Negatives\", \n",
        "                      \"False Negatives\", \"Precision\", \"Recall\", \"F Score\", \n",
        "                      \"String Distance Method\", \"Cut.a\", \"Cut.p\", \"Parameters excluded\"]])\n",
        "  ws.update(\"A2:K2\", [[true_positives, false_positives, true_negatives, \n",
        "                      false_negatives, precision, recall, f_score, \n",
        "                      string_distance, cut_a, cut_p, param_exclde_str]])\n",
        "\n",
        "  ws = sh.add_worksheet(title=\"M and U values\", rows=\"30\", cols=\"10\")\n",
        "  ws.update([m_and_u.columns.values.tolist()] + m_and_u.values.tolist())\n",
        "  run_count = run_count + 1\n",
        "  tracker = cell_id\n",
        "else:\n",
        "  tracker_err_msg(tracker, cell_id)\n"
      ],
      "execution_count": null,
      "outputs": []
    }
  ]
}