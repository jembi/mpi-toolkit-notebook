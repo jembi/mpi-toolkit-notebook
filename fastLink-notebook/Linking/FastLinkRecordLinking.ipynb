{
  "nbformat": 4,
  "nbformat_minor": 0,
  "metadata": {
    "colab": {
      "name": "FastLinkRecordLinking.ipynb",
      "provenance": [],
      "collapsed_sections": [
        "iOimHluHyX9b",
        "6AvKUQl9R8J8",
        "yiOzGtxo4DPj"
      ],
      "authorship_tag": "ABX9TyOQXOj7Jb0S3c7g3sDf/ZlA",
      "include_colab_link": true
    },
    "kernelspec": {
      "name": "python3",
      "display_name": "Python 3"
    },
    "language_info": {
      "name": "python"
    }
  },
  "cells": [
    {
      "cell_type": "markdown",
      "metadata": {
        "id": "view-in-github",
        "colab_type": "text"
      },
      "source": [
        "<a href=\"https://colab.research.google.com/github/jembi/mpi-toolkit-notebook/blob/main/fastLink-notebook/Linking/FastLinkRecordLinking.ipynb\" target=\"_parent\"><img src=\"https://colab.research.google.com/assets/colab-badge.svg\" alt=\"Open In Colab\"/></a>"
      ]
    },
    {
      "cell_type": "markdown",
      "metadata": {
        "id": "WAUM2_1H2ECY"
      },
      "source": [
        "# **<font color=\"#007f68\"> fastLink Records Linkage**\n"
      ]
    },
    {
      "cell_type": "markdown",
      "metadata": {
        "id": "4bAcDoa82ROv"
      },
      "source": [
        "### fastLink: Fast Probabilistic Record Linkage with Missing Data\n",
        "Implements a Fellegi-Sunter probabilistic record linkage model that allows for missing data and the inclusion of auxiliary information. This includes functionalities to conduct a merge of two datasets under the Fellegi-Sunter model using the Expectation-Maximization algorithm. In addition, tools for preparing, adjusting, and summarizing data merges are included.\n",
        "\n",
        "The package implements methods described in Enamorado, Fifield, and Imai (2019) ”Using a Probabilistic Model to Assist Merging of Large-scale Administrative Records”, American Political Science Review and is available at <http://imai.fas.harvard.edu/research/linkage.html>."
      ]
    },
    {
      "cell_type": "markdown",
      "metadata": {
        "id": "isUSuVAs37Al"
      },
      "source": [
        "## <font color=\"#007f68\">Links:\n",
        "[Directory Notebook](https://colab.research.google.com/drive/1TqQ5sklvhw8I1f5m49ob-WTFfBtiElfs#scrollTo=M5NmyYErfDvt)\n",
        "\n",
        "[Data Generator](https://colab.research.google.com/drive/1f1nnThx7sV47R_bbHq8CIlBfTVrcM2NA#scrollTo=9cXT_RyoLtv3%23offline%3Dtrue&sandboxMode=true)\n"
      ]
    },
    {
      "cell_type": "markdown",
      "metadata": {
        "id": "iOimHluHyX9b"
      },
      "source": [
        "## **<font color=\"#007f68\">1. Installing rpy2** \n",
        "rpy2 is running an embedded R, providing access to it from Python using R’s own C-API through either:\n",
        "\n",
        "a high-level interface making R functions an objects just like Python functions and providing a seamless conversion to numpy and pandas data structures\n",
        "\n",
        "a low-level interface closer to the C-API"
      ]
    },
    {
      "cell_type": "code",
      "metadata": {
        "id": "ldJcN6iGeBDd"
      },
      "source": [
        "!pip install rpy2"
      ],
      "execution_count": null,
      "outputs": []
    },
    {
      "cell_type": "markdown",
      "metadata": {
        "id": "6AvKUQl9R8J8"
      },
      "source": [
        "## **<font color=\"#007f68\">2. Import python packages**"
      ]
    },
    {
      "cell_type": "code",
      "metadata": {
        "id": "yibd6madSFMt"
      },
      "source": [
        "import pandas as pd\n",
        "import logging\n",
        "import os\n",
        "\n",
        "from rpy2.robjects import globalenv\n",
        "from rpy2.robjects.vectors import StrVector\n",
        "import rpy2.robjects as r_objects\n",
        "import rpy2.robjects.packages as r_packages\n",
        "\n",
        "r = r_objects.r\n",
        "\n",
        "from ipywidgets import Dropdown\n",
        "from ipywidgets import FloatSlider\n",
        "from ipywidgets import Text\n",
        "from tqdm.auto import tqdm\n",
        "\n",
        "logging.basicConfig(format='%(asctime)s %(levelname)s:%(message)s', level=logging.INFO)\n",
        "logging.info('Started')"
      ],
      "execution_count": null,
      "outputs": []
    },
    {
      "cell_type": "markdown",
      "metadata": {
        "id": "yiOzGtxo4DPj"
      },
      "source": [
        "## **<font color=\"#007f68\">3. Import R packages**"
      ]
    },
    {
      "cell_type": "code",
      "metadata": {
        "id": "5xU8Bp_04ONX"
      },
      "source": [
        "utils = r_packages.importr('utils')\n",
        "utils.chooseCRANmirror(ind=1)\n",
        "pack_names = ('fastLink', 'tictoc', 'strex', 'data.table', 'csv', 'stringr')\n",
        "names_to_install = [x for x in pack_names if not r_packages.isinstalled(x)]\n",
        "if len(names_to_install) > 0:\n",
        "  utils.install_packages(StrVector(names_to_install))\n",
        "  base = r_packages.importr('base')\n",
        "  stats = r_packages.importr('stats')\n",
        "  fastLink = r_packages.importr('fastLink')\n",
        "  strex = r_packages.importr('strex')\n",
        "  data_table = r_packages.importr('data.table')\n",
        "  stringr = r_packages.importr('stringr')"
      ],
      "execution_count": null,
      "outputs": []
    },
    {
      "cell_type": "markdown",
      "metadata": {
        "id": "6k2UKLGZ3Fms"
      },
      "source": [
        "## **<font color=\"#007f68\">4. Import/Upload files**"
      ]
    },
    {
      "cell_type": "markdown",
      "metadata": {
        "id": "iHfbsOmc8e1J"
      },
      "source": [
        "### <font color=\"#18CF68\">Mount Google Drive"
      ]
    },
    {
      "cell_type": "code",
      "metadata": {
        "id": "52f15qq7-Oqb"
      },
      "source": [
        "from google.colab import drive\n",
        "drive.mount('/content/drive')"
      ],
      "execution_count": null,
      "outputs": []
    },
    {
      "cell_type": "markdown",
      "metadata": {
        "id": "UPXInK9f-Wd1"
      },
      "source": [
        "### <font color=\"#18CF68\">Upload File From Your Computer"
      ]
    },
    {
      "cell_type": "code",
      "metadata": {
        "id": "InDb8EIT3XkQ"
      },
      "source": [
        "from google.colab import files\n",
        "uploaded = files.upload()\n"
      ],
      "execution_count": null,
      "outputs": []
    },
    {
      "cell_type": "markdown",
      "metadata": {
        "id": "lA88mk0P5zBp"
      },
      "source": [
        "### <font color=\"#18CF68\">Reading a csv file and splitting it into 2 dataframes\n",
        "The two dataframes are:\n",
        "\n",
        "*   The reference records\n",
        "*   The duplicates records\n",
        "\n",
        "\n",
        " "
      ]
    },
    {
      "cell_type": "code",
      "metadata": {
        "id": "hac-umYc58_1"
      },
      "source": [
        "filename = next(iter(uploaded))\n",
        "globalenv['csv'] = r['read.csv'](filename, header=True, stringsAsFactors=False)\n",
        "r('csv[csv==\"\"] <- NA')\n",
        "col_names_r = r('colnames(csv)')\n",
        "col_names = list(col_names_r)\n",
        "r('dfA          <- csv[str_detect(csv$ID, \"-aaa-\"), ]')\n",
        "r('dfB          <- csv[str_detect(csv$ID, \"-bbb-\"), ]')\n",
        "s = r('structure(list(csv = csv, dfA = dfA, dfB = dfB))')\n",
        "\n",
        "menu_1 = Dropdown(description=\"Choose your unique identifier\", options=col_names)\n",
        "menu_2 = Dropdown(description=\"Choose your string distance algorithm\", options=[\"Jaro-Winkler\", \"Levensthein\"])\n",
        "slider_1 = FloatSlider(description=\"cut.a:\", value=0.94, min=0, max=1, step=0.01)\n",
        "slider_2 = FloatSlider(description=\"cut.p:\", value=0.88, min=0, max=1, step=0.01)\n",
        "display(menu_1, menu_2, slider_1, slider_2)\n"
      ],
      "execution_count": null,
      "outputs": []
    },
    {
      "cell_type": "markdown",
      "metadata": {
        "id": "gBiNcuTOfPvJ"
      },
      "source": [
        "## **<font color=\"#007f68\">5. Get user input**\n",
        "### <font color=\"#18CF68\">Jaro-Winkler\n",
        "The Jaro–Winkler distance is a string metric measuring an edit distance between two sequences.\n",
        "The lower the Jaro–Winkler distance for two strings is, the more similar the strings are. The score is normalized such that 0 means an exact match and 1 means there is no similarity. \n",
        "\n",
        "### <font color=\"#18CF68\">Levenshtein\n",
        "The Levenshtein distance is a string metric for measuring the difference between two sequences. Informally, the Levenshtein distance between two words is the minimum number of single-character edits (insertions, deletions or substitutions) required to change one word into the other.\n"
      ]
    },
    {
      "cell_type": "code",
      "metadata": {
        "id": "Iys-z_4TfXBV"
      },
      "source": [
        "key = menu_1.value\n",
        "string_distance = menu_2.value\n",
        "if string_distance == \"Jaro-Winkler\":\n",
        "  string_distance = \"jw\"\n",
        "else:\n",
        "  string_distance = \"lv\"\n",
        "cut_a = slider_1.value\n",
        "cut_p = slider_2.value\n",
        "print(key)\n",
        "print(string_distance)\n",
        "print(cut_a)\n",
        "print(cut_p)"
      ],
      "execution_count": null,
      "outputs": []
    },
    {
      "cell_type": "markdown",
      "metadata": {
        "id": "-q8uZSZwZsdU"
      },
      "source": [
        "## **<font color=\"#007f68\">6. Record Linkage using fastLink**"
      ]
    },
    {
      "cell_type": "code",
      "metadata": {
        "id": "28gn5qQoSSZp"
      },
      "source": [
        "  logging.info(\"FastLink : initialized\")\n",
        "\n",
        "  df_a = r('dfA')\n",
        "  df_b = r('dfB')\n",
        "\n",
        "  def fl_link(df_a, df_b, key, string_distance, cut_a, cut_p):\n",
        "      get_links = r('''\n",
        "          my_fl_link <- function(dfA, dfB) {{\n",
        "              pasteT <- function(x) {{\n",
        "                  x <- sort(x)\n",
        "                  x <- paste(x, collapse = \",\")\n",
        "                  x\n",
        "              }}\n",
        "              \n",
        "              varnames <- colnames(dfA[,-1])\n",
        "              #varnames <- varnames[-which(varnames %in% c('{0}'))]\n",
        "              print(varnames)\n",
        "              fl_out <- fastLink(dfA = dfA, dfB = dfB, varnames = varnames,\n",
        "                                  stringdist.match = varnames, stringdist.method = '{1}', cut.a = {2}, cut.p = {3},\n",
        "                                  dedupe.matches = FALSE, linprog.dedupe = FALSE,\n",
        "                                  cond.indep = TRUE,\n",
        "                                  n.cores = 8,\n",
        "                                  verbose = TRUE)\n",
        "              inds_ab <- data.table(cbind(fl_out$matches$inds.a, fl_out$matches$inds.b))\n",
        "              inds_ab[, `:=`(V3, pasteT(V2)), by = V1]\n",
        "              inds_ab <- inds_ab[,.(V1, V3)]\n",
        "              inds_ab <- inds_ab[!duplicated(inds_ab)]\n",
        "              setnames(inds_ab, 'V3', 'V2')\n",
        "              structure(list(fl_out = fl_out, inds_ab = inds_ab))\n",
        "          }}'''.format(key, string_distance, cut_a, cut_p))\n",
        "      return get_links(df_a, df_b)"
      ],
      "execution_count": null,
      "outputs": []
    },
    {
      "cell_type": "markdown",
      "metadata": {
        "id": "nOvOkMe8gSmM"
      },
      "source": [
        "## **<font color=\"#007f68\">7. Display fastLink Logs to the console**"
      ]
    },
    {
      "cell_type": "code",
      "metadata": {
        "id": "1hQC1femgaqs"
      },
      "source": [
        "def analytics(process):\n",
        "  varnames = tuple(globalenv['{0}'.format(process)].rx2('fl_out').rx2('EM').rx2('varnames'))\n",
        "  logging.info(('{0}: %s'.format(process), tuple(globalenv['{0}'.format(process)].names)))\n",
        "  logging.info('fl_out: %s', tuple(globalenv['{0}'.format(process)].rx2('fl_out').names))\n",
        "  logging.info('fl_out: %s', tuple(globalenv['{0}'.format(process)].rx2('fl_out').rx2('matches').names))\n",
        "  logging.info('EM: %s', tuple(globalenv['{0}'.format(process)].rx2('fl_out').rx2('EM').names))\n",
        "  logging.info('patterns.w: %s', tuple(globalenv['{0}'.format(process)].rx2('fl_out').rx2('EM').rx2('patterns.w').names[1]))\n",
        "  logging.info('varnames: %s', tuple(globalenv['{0}'.format(process)].rx2('fl_out').rx2('EM').rx2('varnames')))\n",
        "  logging.info('patterns: %s', tuple(globalenv['{0}'.format(process)].rx2('fl_out').rx2('patterns').names))\n",
        "  logging.info('inds_ab: %s', tuple(globalenv['{0}'.format(process)].rx2('inds_ab').names))\n",
        "  # The posterior probability of a pair matching.\n",
        "  logging.info('p.m: %f', r('{0}$fl_out$EM$p.m'.format(process))[0])\n",
        "  # The posterior probability of a pair not matching.\n",
        "  logging.info('p.u: %f', r('{0}$fl_out$EM$p.u'.format(process))[0])\n",
        "  # The posterior of the matching prVobability for a specific matching field.\n",
        "  logging.info(\"EM.p.gamma.k.m\")\n",
        "  em_p_gamma_k_m = []\n",
        "  for i in range(1, len(r('{0}$fl_out$EM$p.gamma.k.m'.format(process))) - 1):\n",
        "    placeholder = ['p.gamma.k.m ----- %-20s : %3.10f  %3.10f  %3.10f',\n",
        "                    varnames[i],\n",
        "                    r('{0}$fl_out$EM$p.gamma.k.m'.format(process))[i][0],\n",
        "                    abs(r('{0}$fl_out$EM$p.gamma.k.m'.format(process))[i][1]),\n",
        "                    r('{0}$fl_out$EM$p.gamma.k.m'.format(process))[i][0] + r('{0}$fl_out$EM$p.gamma.k.m'.format(process))[i][1]]\n",
        "    em_p_gamma_k_m.append(placeholder)\n",
        "    logging.info('p.gamma.k.m ----- %-20s : %3.10f  %3.10f  %3.10f',\n",
        "                  varnames[i],\n",
        "                  r('{0}$fl_out$EM$p.gamma.k.m'.format(process))[i][0],\n",
        "                  abs(r('{0}$fl_out$EM$p.gamma.k.m'.format(process))[i][1]),\n",
        "                  r('{0}$fl_out$EM$p.gamma.k.m'.format(process))[i][0] + r('{0}$fl_out$EM$p.gamma.k.m'.format(process))[i][1])\n",
        "  # The posterior of the non-matching probability for a specific matching field.\n",
        "  logging.info(\"EM.p.gamma.k.u\")\n",
        "  em_p_gamma_k_u = []\n",
        "  for i in range(1, len(r('{0}$fl_out$EM$p.gamma.k.u'.format(process))) - 1):\n",
        "    placeholder = ['p.gamma.k.u ----- %-20s : %3.10f  %3.10f  %3.10f',\n",
        "                    varnames[i],\n",
        "                    abs(r('{0}$fl_out$EM$p.gamma.k.u'.format(process))[i][0]),\n",
        "                    r('{0}$fl_out$EM$p.gamma.k.u'.format(process))[i][1],\n",
        "                    r('{0}$fl_out$EM$p.gamma.k.u'.format(process))[i][0] + r('{0}$fl_out$EM$p.gamma.k.u'.format(process))[i][1]]\n",
        "    em_p_gamma_k_u.append(placeholder)\n",
        "    logging.info('p.gamma.k.u ----- %-20s : %3.10f  %3.10f  %3.10f',\n",
        "                  varnames[i],\n",
        "                  abs(r('{0}$fl_out$EM$p.gamma.k.u'.format(process))[i][0]),\n",
        "                  r('{0}$fl_out$EM$p.gamma.k.u'.format(process))[i][1],\n",
        "                  r('{0}$fl_out$EM$p.gamma.k.u'.format(process))[i][0] + r('{0}$fl_out$EM$p.gamma.k.u'.format(process))[i][1])\n",
        "  logging.info('iter.converge: %d', r('{0}$fl_out$EM$iter.converge'.format(process))[0])\n",
        "  return varnames, em_p_gamma_k_m, em_p_gamma_k_u"
      ],
      "execution_count": 8,
      "outputs": []
    },
    {
      "cell_type": "markdown",
      "metadata": {
        "id": "jLwLFut57Zz0"
      },
      "source": [
        "## **<font color=\"#007f68\">8. Linking process**"
      ]
    },
    {
      "cell_type": "code",
      "metadata": {
        "id": "n6_n0Jzmg3wf"
      },
      "source": [
        "globalenv['links'] = fl_link(df_a, df_b, key, string_distance, cut_a, cut_p)\n",
        "log_info = analytics('links')\n",
        "varnames = log_info[0]\n",
        "em_p_gamma_k_m = log_info[1]\n",
        "em_p_gamma_k_u = log_info[2]\n",
        "\n",
        "v1 = tuple(map(int, r('links$inds_ab$V1')))\n",
        "v2 = tuple(r('links$inds_ab$V2'))\n",
        "false_positives = 0\n",
        "true_positives = 0\n",
        "\n",
        "fields = ('ID',) + varnames\n",
        "left = pd.DataFrame(columns=('key',) + fields)\n",
        "right = pd.DataFrame(columns=('key',) + fields)\n",
        "\n",
        "p_df = pd.read_csv(filename)\n",
        "\n",
        "k = 0\n",
        "\n",
        "key = []\n",
        "for k in range(len(p_df)):\n",
        "  key.append(k)\n",
        "\n",
        "p_df.insert(0, \"key\", key, True)\n",
        "for u in range(len(fields)):\n",
        "  p_df[fields[u]] = p_df[fields[u]].astype(str)\n",
        "for i in range(len(p_df)):\n",
        "  left.loc[i] = p_df.loc[i]\n",
        "  for b in range(len(v1)):\n",
        "    if int(v1[b]) == (i + 1):\n",
        "      try:\n",
        "        dupe_links = tuple(map(int, v2[b].split(',')))\n",
        "      except IndexError:\n",
        "        dupe_links = int(v2[b])\n",
        "      for j in range(len(dupe_links)):\n",
        "        dup = r('csv[{},]'.format(dupe_links[j]))\n",
        "        right.loc[k] = (i,) + tuple(map(lambda x: str(dup.rx2(x)[0]), fields))\n",
        "        k = k + 1\n",
        "\n",
        "r('write.csv(dfB, file=\"df_b.csv\")')\n",
        "p_df_b = pd.read_csv('df_b.csv')\n",
        "\n",
        "try:\n",
        "  os.remove('df_b.csv')\n",
        "except OSError:\n",
        "  pass\n",
        "\n",
        "key_1 = []\n",
        "for k in range(len(p_df_b)):\n",
        "  key_1.append(k)\n",
        "p_df_b.insert(0, \"key\", key_1, True)\n",
        "len_left = len(p_df)\n",
        "\n",
        "for h in range(len(p_df_b)):\n",
        "  count = 0\n",
        "  for g in range(len(right)):\n",
        "    if p_df_b.values[h][1] == right.values[g][1]:\n",
        "      count = 1\n",
        "  if count == 0:\n",
        "    left.loc[len_left] = p_df_b.loc[h]\n",
        "    len_left = len_left + 1\n",
        "\n"
      ],
      "execution_count": null,
      "outputs": []
    },
    {
      "cell_type": "markdown",
      "metadata": {
        "id": "BQkKQNAlCrpp"
      },
      "source": [
        "## **<font color=\"#007f68\">9. Displaying m and u values**"
      ]
    },
    {
      "cell_type": "code",
      "metadata": {
        "id": "dw8voOF8Bwcr"
      },
      "source": [
        "for m in range(2):\n",
        "  if m == 0:\n",
        "    weight = em_p_gamma_k_m\n",
        "    w_label = Text(value=\"Matches\", disabled=True)\n",
        "  else:\n",
        "    weight = em_p_gamma_k_u\n",
        "    w_label = Text(value=\"Unmatches\", disabled=True)\n",
        "  w_min = weight[0][2]\n",
        "  for i in range(1, len(weight)):\n",
        "    if weight[i][2] < w_min:\n",
        "      w_min = weight[i][2]\n",
        "  w_max = weight[0][2]\n",
        "  for i in range(1, len(weight)):\n",
        "    if weight[i][2] > w_max:\n",
        "      w_max = weight[i][2]\n",
        "  display(w_label)\n",
        "  for j in range(len(weight)):\n",
        "    w_slider = FloatSlider(value=weight[j][2], min=w_min-0.13, max=w_max+0.13, description=weight[j][1], disabled=True)\n",
        "    display(w_slider)"
      ],
      "execution_count": null,
      "outputs": []
    },
    {
      "cell_type": "markdown",
      "metadata": {
        "id": "dNUwhdx6hmv3"
      },
      "source": [
        "## **<font color=\"#007f68\">10. Display result to the screen**"
      ]
    },
    {
      "cell_type": "code",
      "metadata": {
        "id": "NmsSsk-VhuT1"
      },
      "source": [
        "%load_ext google.colab.data_table\n",
        "display(left)\n",
        "display(right)\n"
      ],
      "execution_count": null,
      "outputs": []
    }
  ]
}