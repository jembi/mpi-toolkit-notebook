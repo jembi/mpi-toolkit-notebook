{
  "nbformat": 4,
  "nbformat_minor": 0,
  "metadata": {
    "colab": {
      "name": "FastLinkRecordLinking.ipynb",
      "provenance": [],
      "collapsed_sections": [
        "iOimHluHyX9b",
        "6AvKUQl9R8J8",
        "yiOzGtxo4DPj"
      ],
      "authorship_tag": "ABX9TyPw8A0OAP7mLzg3QkImigDu",
      "include_colab_link": true
    },
    "kernelspec": {
      "name": "python3",
      "display_name": "Python 3"
    },
    "language_info": {
      "name": "python"
    },
    "widgets": {
      "application/vnd.jupyter.widget-state+json": {
        "5166fe9114724fafa4374e9a266ffa15": {
          "model_module": "@jupyter-widgets/controls",
          "model_name": "DropdownModel",
          "state": {
            "_options_labels": [
              "ID",
              "hivCaseReportNumber",
              "name",
              "fathersName",
              "fathersFatherName",
              "mothersName",
              "mothersFatherName",
              "gender",
              "dob",
              "district",
              "town",
              "PhoneNumber"
            ],
            "_view_name": "DropdownView",
            "style": "IPY_MODEL_02c7d20340774f429702c7a4e18a7836",
            "_dom_classes": [],
            "description": "Choose your unique identifier",
            "_model_name": "DropdownModel",
            "index": 0,
            "_view_module": "@jupyter-widgets/controls",
            "_model_module_version": "1.5.0",
            "_view_count": null,
            "disabled": false,
            "_view_module_version": "1.5.0",
            "description_tooltip": null,
            "_model_module": "@jupyter-widgets/controls",
            "layout": "IPY_MODEL_000fe0cc58a149829a978291c276e282"
          }
        },
        "02c7d20340774f429702c7a4e18a7836": {
          "model_module": "@jupyter-widgets/controls",
          "model_name": "DescriptionStyleModel",
          "state": {
            "_view_name": "StyleView",
            "_model_name": "DescriptionStyleModel",
            "description_width": "",
            "_view_module": "@jupyter-widgets/base",
            "_model_module_version": "1.5.0",
            "_view_count": null,
            "_view_module_version": "1.2.0",
            "_model_module": "@jupyter-widgets/controls"
          }
        },
        "000fe0cc58a149829a978291c276e282": {
          "model_module": "@jupyter-widgets/base",
          "model_name": "LayoutModel",
          "state": {
            "_view_name": "LayoutView",
            "grid_template_rows": null,
            "right": null,
            "justify_content": null,
            "_view_module": "@jupyter-widgets/base",
            "overflow": null,
            "_model_module_version": "1.2.0",
            "_view_count": null,
            "flex_flow": null,
            "width": null,
            "min_width": null,
            "border": null,
            "align_items": null,
            "bottom": null,
            "_model_module": "@jupyter-widgets/base",
            "top": null,
            "grid_column": null,
            "overflow_y": null,
            "overflow_x": null,
            "grid_auto_flow": null,
            "grid_area": null,
            "grid_template_columns": null,
            "flex": null,
            "_model_name": "LayoutModel",
            "justify_items": null,
            "grid_row": null,
            "max_height": null,
            "align_content": null,
            "visibility": null,
            "align_self": null,
            "height": null,
            "min_height": null,
            "padding": null,
            "grid_auto_rows": null,
            "grid_gap": null,
            "max_width": null,
            "order": null,
            "_view_module_version": "1.2.0",
            "grid_template_areas": null,
            "object_position": null,
            "object_fit": null,
            "grid_auto_columns": null,
            "margin": null,
            "display": null,
            "left": null
          }
        },
        "85db714e245747428052bad0b751d300": {
          "model_module": "@jupyter-widgets/controls",
          "model_name": "DropdownModel",
          "state": {
            "_options_labels": [
              "Jaro-Winkler",
              "Levensthein"
            ],
            "_view_name": "DropdownView",
            "style": "IPY_MODEL_becc369f55d74aa5a205da8b700da9aa",
            "_dom_classes": [],
            "description": "Choose your string distance algorithm",
            "_model_name": "DropdownModel",
            "index": 0,
            "_view_module": "@jupyter-widgets/controls",
            "_model_module_version": "1.5.0",
            "_view_count": null,
            "disabled": false,
            "_view_module_version": "1.5.0",
            "description_tooltip": null,
            "_model_module": "@jupyter-widgets/controls",
            "layout": "IPY_MODEL_b094c9462b97478dab2ff0fc4288d594"
          }
        },
        "becc369f55d74aa5a205da8b700da9aa": {
          "model_module": "@jupyter-widgets/controls",
          "model_name": "DescriptionStyleModel",
          "state": {
            "_view_name": "StyleView",
            "_model_name": "DescriptionStyleModel",
            "description_width": "",
            "_view_module": "@jupyter-widgets/base",
            "_model_module_version": "1.5.0",
            "_view_count": null,
            "_view_module_version": "1.2.0",
            "_model_module": "@jupyter-widgets/controls"
          }
        },
        "b094c9462b97478dab2ff0fc4288d594": {
          "model_module": "@jupyter-widgets/base",
          "model_name": "LayoutModel",
          "state": {
            "_view_name": "LayoutView",
            "grid_template_rows": null,
            "right": null,
            "justify_content": null,
            "_view_module": "@jupyter-widgets/base",
            "overflow": null,
            "_model_module_version": "1.2.0",
            "_view_count": null,
            "flex_flow": null,
            "width": null,
            "min_width": null,
            "border": null,
            "align_items": null,
            "bottom": null,
            "_model_module": "@jupyter-widgets/base",
            "top": null,
            "grid_column": null,
            "overflow_y": null,
            "overflow_x": null,
            "grid_auto_flow": null,
            "grid_area": null,
            "grid_template_columns": null,
            "flex": null,
            "_model_name": "LayoutModel",
            "justify_items": null,
            "grid_row": null,
            "max_height": null,
            "align_content": null,
            "visibility": null,
            "align_self": null,
            "height": null,
            "min_height": null,
            "padding": null,
            "grid_auto_rows": null,
            "grid_gap": null,
            "max_width": null,
            "order": null,
            "_view_module_version": "1.2.0",
            "grid_template_areas": null,
            "object_position": null,
            "object_fit": null,
            "grid_auto_columns": null,
            "margin": null,
            "display": null,
            "left": null
          }
        },
        "cb314abb33824d73b3e21f08973fbd39": {
          "model_module": "@jupyter-widgets/controls",
          "model_name": "FloatSliderModel",
          "state": {
            "_view_name": "FloatSliderView",
            "style": "IPY_MODEL_af421456f5ad4b9095f3bbd93e67b58a",
            "_dom_classes": [],
            "description": "cut.a:",
            "step": 0.01,
            "_model_name": "FloatSliderModel",
            "orientation": "horizontal",
            "max": 1,
            "_view_module": "@jupyter-widgets/controls",
            "_model_module_version": "1.5.0",
            "value": 0.94,
            "_view_count": null,
            "disabled": false,
            "_view_module_version": "1.5.0",
            "min": 0,
            "continuous_update": true,
            "readout_format": ".2f",
            "description_tooltip": null,
            "readout": true,
            "_model_module": "@jupyter-widgets/controls",
            "layout": "IPY_MODEL_26f0afbbab974e96974b71259fc3c53c"
          }
        },
        "af421456f5ad4b9095f3bbd93e67b58a": {
          "model_module": "@jupyter-widgets/controls",
          "model_name": "SliderStyleModel",
          "state": {
            "_view_name": "StyleView",
            "handle_color": null,
            "_model_name": "SliderStyleModel",
            "description_width": "",
            "_view_module": "@jupyter-widgets/base",
            "_model_module_version": "1.5.0",
            "_view_count": null,
            "_view_module_version": "1.2.0",
            "_model_module": "@jupyter-widgets/controls"
          }
        },
        "26f0afbbab974e96974b71259fc3c53c": {
          "model_module": "@jupyter-widgets/base",
          "model_name": "LayoutModel",
          "state": {
            "_view_name": "LayoutView",
            "grid_template_rows": null,
            "right": null,
            "justify_content": null,
            "_view_module": "@jupyter-widgets/base",
            "overflow": null,
            "_model_module_version": "1.2.0",
            "_view_count": null,
            "flex_flow": null,
            "width": null,
            "min_width": null,
            "border": null,
            "align_items": null,
            "bottom": null,
            "_model_module": "@jupyter-widgets/base",
            "top": null,
            "grid_column": null,
            "overflow_y": null,
            "overflow_x": null,
            "grid_auto_flow": null,
            "grid_area": null,
            "grid_template_columns": null,
            "flex": null,
            "_model_name": "LayoutModel",
            "justify_items": null,
            "grid_row": null,
            "max_height": null,
            "align_content": null,
            "visibility": null,
            "align_self": null,
            "height": null,
            "min_height": null,
            "padding": null,
            "grid_auto_rows": null,
            "grid_gap": null,
            "max_width": null,
            "order": null,
            "_view_module_version": "1.2.0",
            "grid_template_areas": null,
            "object_position": null,
            "object_fit": null,
            "grid_auto_columns": null,
            "margin": null,
            "display": null,
            "left": null
          }
        },
        "5db64b4f2fee41b3a21f9f59a61590f8": {
          "model_module": "@jupyter-widgets/controls",
          "model_name": "FloatSliderModel",
          "state": {
            "_view_name": "FloatSliderView",
            "style": "IPY_MODEL_86ebbf8f42e246a8941e6c176eebd4d8",
            "_dom_classes": [],
            "description": "cut.p:",
            "step": 0.01,
            "_model_name": "FloatSliderModel",
            "orientation": "horizontal",
            "max": 1,
            "_view_module": "@jupyter-widgets/controls",
            "_model_module_version": "1.5.0",
            "value": 0.88,
            "_view_count": null,
            "disabled": false,
            "_view_module_version": "1.5.0",
            "min": 0,
            "continuous_update": true,
            "readout_format": ".2f",
            "description_tooltip": null,
            "readout": true,
            "_model_module": "@jupyter-widgets/controls",
            "layout": "IPY_MODEL_b4d84e6aeaed4c2b9b25fa13046e4042"
          }
        },
        "86ebbf8f42e246a8941e6c176eebd4d8": {
          "model_module": "@jupyter-widgets/controls",
          "model_name": "SliderStyleModel",
          "state": {
            "_view_name": "StyleView",
            "handle_color": null,
            "_model_name": "SliderStyleModel",
            "description_width": "",
            "_view_module": "@jupyter-widgets/base",
            "_model_module_version": "1.5.0",
            "_view_count": null,
            "_view_module_version": "1.2.0",
            "_model_module": "@jupyter-widgets/controls"
          }
        },
        "b4d84e6aeaed4c2b9b25fa13046e4042": {
          "model_module": "@jupyter-widgets/base",
          "model_name": "LayoutModel",
          "state": {
            "_view_name": "LayoutView",
            "grid_template_rows": null,
            "right": null,
            "justify_content": null,
            "_view_module": "@jupyter-widgets/base",
            "overflow": null,
            "_model_module_version": "1.2.0",
            "_view_count": null,
            "flex_flow": null,
            "width": null,
            "min_width": null,
            "border": null,
            "align_items": null,
            "bottom": null,
            "_model_module": "@jupyter-widgets/base",
            "top": null,
            "grid_column": null,
            "overflow_y": null,
            "overflow_x": null,
            "grid_auto_flow": null,
            "grid_area": null,
            "grid_template_columns": null,
            "flex": null,
            "_model_name": "LayoutModel",
            "justify_items": null,
            "grid_row": null,
            "max_height": null,
            "align_content": null,
            "visibility": null,
            "align_self": null,
            "height": null,
            "min_height": null,
            "padding": null,
            "grid_auto_rows": null,
            "grid_gap": null,
            "max_width": null,
            "order": null,
            "_view_module_version": "1.2.0",
            "grid_template_areas": null,
            "object_position": null,
            "object_fit": null,
            "grid_auto_columns": null,
            "margin": null,
            "display": null,
            "left": null
          }
        }
      }
    }
  },
  "cells": [
    {
      "cell_type": "markdown",
      "metadata": {
        "id": "view-in-github",
        "colab_type": "text"
      },
      "source": [
        "<a href=\"https://colab.research.google.com/github/jembi/mpi-toolkit-notebook/blob/cr-review-dataset/fastLink-notebook/Linking/FastLinkRecordLinking.ipynb\" target=\"_parent\"><img src=\"https://colab.research.google.com/assets/colab-badge.svg\" alt=\"Open In Colab\"/></a>"
      ]
    },
    {
      "cell_type": "code",
      "metadata": {
        "id": "eAapVol3pHxb"
      },
      "source": [
        ""
      ],
      "execution_count": null,
      "outputs": []
    },
    {
      "cell_type": "markdown",
      "metadata": {
        "id": "iOimHluHyX9b"
      },
      "source": [
        "## Installing rpy2 \n",
        "rpy2 is running an embedded R, providing access to it from Python using R’s own C-API through either:\n",
        "\n",
        "a high-level interface making R functions an objects just like Python functions and providing a seamless conversion to numpy and pandas data structures\n",
        "\n",
        "a low-level interface closer to the C-API"
      ]
    },
    {
      "cell_type": "code",
      "metadata": {
        "id": "ldJcN6iGeBDd"
      },
      "source": [
        "!pip install rpy2"
      ],
      "execution_count": null,
      "outputs": []
    },
    {
      "cell_type": "markdown",
      "metadata": {
        "id": "6AvKUQl9R8J8"
      },
      "source": [
        "## Import python packages"
      ]
    },
    {
      "cell_type": "code",
      "metadata": {
        "id": "yibd6madSFMt"
      },
      "source": [
        "import pandas as pd\n",
        "import logging\n",
        "from rpy2.robjects import globalenv\n",
        "from rpy2.robjects.vectors import StrVector\n",
        "import rpy2.robjects as r_objects\n",
        "import rpy2.robjects.packages as r_packages\n",
        "r = r_objects.r\n",
        "\n",
        "from ipywidgets import Dropdown\n",
        "from ipywidgets import FloatSlider\n",
        "\n",
        "logging.basicConfig(format='%(asctime)s %(levelname)s:%(message)s', level=logging.INFO)\n",
        "logging.info('Started')"
      ],
      "execution_count": null,
      "outputs": []
    },
    {
      "cell_type": "markdown",
      "metadata": {
        "id": "yiOzGtxo4DPj"
      },
      "source": [
        "## Import R packages"
      ]
    },
    {
      "cell_type": "code",
      "metadata": {
        "id": "5xU8Bp_04ONX"
      },
      "source": [
        "utils = r_packages.importr('utils')\n",
        "utils.chooseCRANmirror(ind=1)\n",
        "pack_names = ('fastLink', 'tictoc', 'strex', 'data.table', 'csv', 'stringr')\n",
        "names_to_install = [x for x in pack_names if not r_packages.isinstalled(x)]\n",
        "if len(names_to_install) > 0:\n",
        "  utils.install_packages(StrVector(names_to_install))\n",
        "  base = r_packages.importr('base')\n",
        "  stats = r_packages.importr('stats')\n",
        "  fastLink = r_packages.importr('fastLink')\n",
        "  strex = r_packages.importr('strex')\n",
        "  data_table = r_packages.importr('data.table')\n",
        "  stringr = r_packages.importr('stringr')"
      ],
      "execution_count": null,
      "outputs": []
    },
    {
      "cell_type": "markdown",
      "metadata": {
        "id": "6k2UKLGZ3Fms"
      },
      "source": [
        "## Upload a file from your computer"
      ]
    },
    {
      "cell_type": "code",
      "metadata": {
        "id": "InDb8EIT3XkQ"
      },
      "source": [
        "from google.colab import files\n",
        "uploaded = files.upload()\n"
      ],
      "execution_count": null,
      "outputs": []
    },
    {
      "cell_type": "markdown",
      "metadata": {
        "id": "lA88mk0P5zBp"
      },
      "source": [
        "## Reading a csv file and splitting it into 2 dataframes"
      ]
    },
    {
      "cell_type": "code",
      "metadata": {
        "colab": {
          "base_uri": "https://localhost:8080/",
          "height": 139,
          "referenced_widgets": [
            "5166fe9114724fafa4374e9a266ffa15",
            "02c7d20340774f429702c7a4e18a7836",
            "000fe0cc58a149829a978291c276e282",
            "85db714e245747428052bad0b751d300",
            "becc369f55d74aa5a205da8b700da9aa",
            "b094c9462b97478dab2ff0fc4288d594",
            "cb314abb33824d73b3e21f08973fbd39",
            "af421456f5ad4b9095f3bbd93e67b58a",
            "26f0afbbab974e96974b71259fc3c53c",
            "5db64b4f2fee41b3a21f9f59a61590f8",
            "86ebbf8f42e246a8941e6c176eebd4d8",
            "b4d84e6aeaed4c2b9b25fa13046e4042"
          ]
        },
        "id": "hac-umYc58_1",
        "outputId": "f0127cdd-3255-4bd4-f65b-fd33a356a179"
      },
      "source": [
        "\n",
        "globalenv['csv'] = r['read.csv'](\"data-50-25.csv\", header=True, stringsAsFactors=False)\n",
        "r('csv[csv==\"\"] <- NA')\n",
        "#r('csv$group    <- as.integer(substr(csv$ID, 5, 12))')\n",
        "col_names_r = r('colnames(csv)')\n",
        "col_names = list(col_names_r)\n",
        "r('dfA          <- csv[str_detect(csv$ID, \"-aaa-\"), ]')\n",
        "r('dfB          <- csv[str_detect(csv$ID, \"-bbb-\"), ]')\n",
        "s = r('structure(list(csv = csv, dfA = dfA, dfB = dfB))')\n",
        "\n",
        "menu_1 = Dropdown(description=\"Choose your unique identifier\", options=col_names)\n",
        "menu_2 = Dropdown(description=\"Choose your string distance algorithm\", options=[\"Jaro-Winkler\", \"Levensthein\"])\n",
        "slider_1 = FloatSlider(description=\"cut.a:\", value=0.94, min=0, max=1, step=0.01)\n",
        "slider_2 = FloatSlider(description=\"cut.p:\", value=0.88, min=0, max=1, step=0.01)\n",
        "display(menu_1, menu_2, slider_1, slider_2)\n"
      ],
      "execution_count": 5,
      "outputs": [
        {
          "output_type": "display_data",
          "data": {
            "application/vnd.jupyter.widget-view+json": {
              "model_id": "5166fe9114724fafa4374e9a266ffa15",
              "version_minor": 0,
              "version_major": 2
            },
            "text/plain": [
              "Dropdown(description='Choose your unique identifier', options=('ID', 'hivCaseReportNumber', 'name', 'fathersNa…"
            ]
          },
          "metadata": {
            "tags": []
          }
        },
        {
          "output_type": "display_data",
          "data": {
            "application/vnd.jupyter.widget-view+json": {
              "model_id": "85db714e245747428052bad0b751d300",
              "version_minor": 0,
              "version_major": 2
            },
            "text/plain": [
              "Dropdown(description='Choose your string distance algorithm', options=('Jaro-Winkler', 'Levensthein'), value='…"
            ]
          },
          "metadata": {
            "tags": []
          }
        },
        {
          "output_type": "display_data",
          "data": {
            "application/vnd.jupyter.widget-view+json": {
              "model_id": "cb314abb33824d73b3e21f08973fbd39",
              "version_minor": 0,
              "version_major": 2
            },
            "text/plain": [
              "FloatSlider(value=0.94, description='cut.a:', max=1.0, step=0.01)"
            ]
          },
          "metadata": {
            "tags": []
          }
        },
        {
          "output_type": "display_data",
          "data": {
            "application/vnd.jupyter.widget-view+json": {
              "model_id": "5db64b4f2fee41b3a21f9f59a61590f8",
              "version_minor": 0,
              "version_major": 2
            },
            "text/plain": [
              "FloatSlider(value=0.88, description='cut.p:', max=1.0, step=0.01)"
            ]
          },
          "metadata": {
            "tags": []
          }
        }
      ]
    },
    {
      "cell_type": "markdown",
      "metadata": {
        "id": "gBiNcuTOfPvJ"
      },
      "source": [
        "## Get user input\n",
        "The Jaro–Winkler distance is a string metric measuring an edit distance between two sequences.\n",
        "The lower the Jaro–Winkler distance for two strings is, the more similar the strings are. The score is normalized such that 0 means an exact match and 1 means there is no similarity. \n",
        "\n",
        "The Levenshtein distance is a string metric for measuring the difference between two sequences. Informally, the Levenshtein distance between two words is the minimum number of single-character edits (insertions, deletions or substitutions) required to change one word into the other.\n"
      ]
    },
    {
      "cell_type": "code",
      "metadata": {
        "id": "Iys-z_4TfXBV"
      },
      "source": [
        "key = menu_1.value\n",
        "string_distance = menu_2.value\n",
        "if string_distance == \"Jaro-Winkler\":\n",
        "  string_distance = \"jw\"\n",
        "else:\n",
        "  string_distance = \"lv\"\n",
        "cut_a = slider_1.value\n",
        "cut_p = slider_2.value\n",
        "print(key)\n",
        "print(string_distance)\n",
        "print(cut_a)\n",
        "print(cut_p)"
      ],
      "execution_count": null,
      "outputs": []
    },
    {
      "cell_type": "markdown",
      "metadata": {
        "id": "PfjhjANQShhK"
      },
      "source": [
        "## fastLink: Fast Probabilistic Record Linkage with Missing Data\n",
        "Implements a Fellegi-Sunter probabilistic record linkage model that allows for missing data and the inclusion of auxiliary information. This includes functionalities to conduct a merge of two datasets under the Fellegi-Sunter model using the Expectation-Maximization algorithm. In addition, tools for preparing, adjusting, and summarizing data merges are included."
      ]
    },
    {
      "cell_type": "markdown",
      "metadata": {
        "id": "-q8uZSZwZsdU"
      },
      "source": [
        "## Link the 2 dataframes using fastLink"
      ]
    },
    {
      "cell_type": "code",
      "metadata": {
        "id": "28gn5qQoSSZp"
      },
      "source": [
        "  logging.info(\"FastLink : initialized\")\n",
        "\n",
        "  df_a = r('dfA')\n",
        "  df_b = r('dfB')\n",
        "\n",
        "  def fl_link(df_a, df_b, key, string_distance, cut_a, cut_p):\n",
        "      get_links = r('''\n",
        "          my_fl_link <- function(dfA, dfB) {{\n",
        "              pasteT <- function(x) {{\n",
        "                  x <- sort(x)\n",
        "                  x <- paste(x, collapse = \",\")\n",
        "                  x\n",
        "              }}\n",
        "              \n",
        "              varnames <- colnames(dfA[,-1])\n",
        "              #varnames <- varnames[-which(varnames %in% c('{0}'))]\n",
        "              print(varnames)\n",
        "              fl_out <- fastLink(dfA = dfA, dfB = dfB, varnames = varnames,\n",
        "                                  stringdist.match = varnames, stringdist.method = '{1}', cut.a = {2}, cut.p = {3},\n",
        "                                  dedupe.matches = FALSE, linprog.dedupe = FALSE,\n",
        "                                  cond.indep = TRUE,\n",
        "                                  n.cores = 8,\n",
        "                                  verbose = TRUE)\n",
        "              inds_ab <- data.table(cbind(fl_out$matches$inds.a, fl_out$matches$inds.b))\n",
        "              inds_ab[, `:=`(V3, pasteT(V2)), by = V1]\n",
        "              inds_ab <- inds_ab[,.(V1, V3)]\n",
        "              inds_ab <- inds_ab[!duplicated(inds_ab)]\n",
        "              setnames(inds_ab, 'V3', 'V2')\n",
        "              structure(list(fl_out = fl_out, inds_ab = inds_ab))\n",
        "          }}'''.format(key, string_distance, cut_a, cut_p))\n",
        "      return get_links(df_a, df_b)"
      ],
      "execution_count": null,
      "outputs": []
    },
    {
      "cell_type": "markdown",
      "metadata": {
        "id": "nOvOkMe8gSmM"
      },
      "source": [
        "## Display fastLink Logs to the console"
      ]
    },
    {
      "cell_type": "code",
      "metadata": {
        "id": "1hQC1femgaqs"
      },
      "source": [
        "def analytics(process):\n",
        "  varnames = tuple(globalenv['{0}'.format(process)].rx2('fl_out').rx2('EM').rx2('varnames'))\n",
        "  logging.info(('{0}: %s'.format(process), tuple(globalenv['{0}'.format(process)].names)))\n",
        "  logging.info('fl_out: %s', tuple(globalenv['{0}'.format(process)].rx2('fl_out').names))\n",
        "  logging.info('fl_out: %s', tuple(globalenv['{0}'.format(process)].rx2('fl_out').rx2('matches').names))\n",
        "  logging.info('EM: %s', tuple(globalenv['{0}'.format(process)].rx2('fl_out').rx2('EM').names))\n",
        "  logging.info('patterns.w: %s', tuple(globalenv['{0}'.format(process)].rx2('fl_out').rx2('EM').rx2('patterns.w').names[1]))\n",
        "  logging.info('varnames: %s', tuple(globalenv['{0}'.format(process)].rx2('fl_out').rx2('EM').rx2('varnames')))\n",
        "  logging.info('patterns: %s', tuple(globalenv['{0}'.format(process)].rx2('fl_out').rx2('patterns').names))\n",
        "  logging.info('inds_ab: %s', tuple(globalenv['{0}'.format(process)].rx2('inds_ab').names))\n",
        "  # The posterior probability of a pair matching.\n",
        "  logging.info('p.m: %f', r('{0}$fl_out$EM$p.m'.format(process))[0])\n",
        "  # The posterior probability of a pair not matching.\n",
        "  logging.info('p.u: %f', r('{0}$fl_out$EM$p.u'.format(process))[0])\n",
        "  # The posterior of the matching prVobability for a specific matching field.\n",
        "  logging.info(\"EM.p.gamma.k.m\")\n",
        "  em_p_gamma_k_m = []\n",
        "  for i in range(1, len(r('{0}$fl_out$EM$p.gamma.k.m'.format(process))) - 1):\n",
        "    placeholder = ['p.gamma.k.m ----- %-20s : %3.10f  %3.10f  %3.10f',\n",
        "                    varnames[i],\n",
        "                    r('{0}$fl_out$EM$p.gamma.k.m'.format(process))[i][0],\n",
        "                    abs(r('{0}$fl_out$EM$p.gamma.k.m'.format(process))[i][1]),\n",
        "                    r('{0}$fl_out$EM$p.gamma.k.m'.format(process))[i][0] + r('{0}$fl_out$EM$p.gamma.k.m'.format(process))[i][1]]\n",
        "    em_p_gamma_k_m.append(placeholder)\n",
        "    logging.info('p.gamma.k.m ----- %-20s : %3.10f  %3.10f  %3.10f',\n",
        "                  varnames[i],\n",
        "                  r('{0}$fl_out$EM$p.gamma.k.m'.format(process))[i][0],\n",
        "                  abs(r('{0}$fl_out$EM$p.gamma.k.m'.format(process))[i][1]),\n",
        "                  r('{0}$fl_out$EM$p.gamma.k.m'.format(process))[i][0] + r('{0}$fl_out$EM$p.gamma.k.m'.format(process))[i][1])\n",
        "  # The posterior of the non-matching probability for a specific matching field.\n",
        "  logging.info(\"EM.p.gamma.k.u\")\n",
        "  em_p_gamma_k_u = []\n",
        "  for i in range(1, len(r('{0}$fl_out$EM$p.gamma.k.u'.format(process))) - 1):\n",
        "    placeholder = ['p.gamma.k.u ----- %-20s : %3.10f  %3.10f  %3.10f',\n",
        "                    varnames[i],\n",
        "                    abs(r('{0}$fl_out$EM$p.gamma.k.u'.format(process))[i][0]),\n",
        "                    r('{0}$fl_out$EM$p.gamma.k.u'.format(process))[i][1],\n",
        "                    r('{0}$fl_out$EM$p.gamma.k.u'.format(process))[i][0] + r('{0}$fl_out$EM$p.gamma.k.u'.format(process))[i][1]]\n",
        "    em_p_gamma_k_u.append(placeholder)\n",
        "    logging.info('p.gamma.k.u ----- %-20s : %3.10f  %3.10f  %3.10f',\n",
        "                  varnames[i],\n",
        "                  abs(r('{0}$fl_out$EM$p.gamma.k.u'.format(process))[i][0]),\n",
        "                  r('{0}$fl_out$EM$p.gamma.k.u'.format(process))[i][1],\n",
        "                  r('{0}$fl_out$EM$p.gamma.k.u'.format(process))[i][0] + r('{0}$fl_out$EM$p.gamma.k.u'.format(process))[i][1])\n",
        "  logging.info('iter.converge: %d', r('{0}$fl_out$EM$iter.converge'.format(process))[0])\n",
        "  return varnames, em_p_gamma_k_m, em_p_gamma_k_u"
      ],
      "execution_count": 8,
      "outputs": []
    },
    {
      "cell_type": "code",
      "metadata": {
        "id": "n6_n0Jzmg3wf"
      },
      "source": [
        "globalenv['links'] = fl_link(df_a, df_b, key, string_distance, cut_a, cut_p)\n",
        "log_info = analytics('links')\n",
        "varnames = log_info[0]\n",
        "em_p_gamma_k_m = log_info[1]\n",
        "em_p_gamma_k_u = log_info[2]\n",
        "\n",
        "v1 = tuple(map(int, r('links$inds_ab$V1')))\n",
        "v2 = tuple(r('links$inds_ab$V2'))\n",
        "false_positives = 0\n",
        "true_positives = 0\n",
        "\n",
        "fields = ('ID',) + varnames\n",
        "left = pd.DataFrame(columns=('key',) + fields)\n",
        "right = pd.DataFrame(columns=('key',) + fields)\n",
        "print(left)\n",
        "\n",
        "k = 0\n",
        "for i in range(len(v1)):\n",
        "  dupe_links = tuple(map(int, v2[i].split(',')))\n",
        "  master = r('dfA[{},]'.format(v1[i]))\n",
        "  left.loc[i] = (i,) + tuple(map(lambda x: master.rx2(x)[0], fields))\n",
        "  for j in range(len(dupe_links)):\n",
        "    dup = r('dfB[{},]'.format(dupe_links[j]))\n",
        "    right.loc[k] = (i,) + tuple(map(lambda x: dup.rx2(x)[0], fields))\n",
        "    k = k + 1\n",
        "    \n"
      ],
      "execution_count": null,
      "outputs": []
    },
    {
      "cell_type": "markdown",
      "metadata": {
        "id": "dNUwhdx6hmv3"
      },
      "source": [
        "## Display result to the screen"
      ]
    },
    {
      "cell_type": "code",
      "metadata": {
        "id": "NmsSsk-VhuT1"
      },
      "source": [
        "print(f\"left side {left}\")\n",
        "print(f\"right side {right}\")"
      ],
      "execution_count": null,
      "outputs": []
    }
  ]
}